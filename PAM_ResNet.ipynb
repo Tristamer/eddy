{
 "cells": [
  {
   "cell_type": "code",
   "execution_count": 1,
   "id": "8304754e",
   "metadata": {
    "ExecuteTime": {
     "end_time": "2025-03-19T06:24:06.174728Z",
     "start_time": "2025-03-19T06:23:50.519297Z"
    }
   },
   "outputs": [],
   "source": [
    "from IPython.core.interactiveshell import InteractiveShell\n",
    "InteractiveShell.ast_node_interactivity = \"all\"\n",
    "# to output everything in a cell instead of only the last output\n",
    "# 这两行代码用来设置 IPython 的交互模式，允许在一个单元格中显示多个输出，而不仅仅是最后一个输出。\n",
    "\n",
    "\n",
    "%matplotlib inline\n",
    "# 这行命令用于在 Jupyter 笔记本中内嵌绘图，使得生成的图表可以直接显示在笔记本中\n",
    "\n",
    "# standard imports\n",
    "import numpy as np\n",
    "import matplotlib.pyplot as plt\n",
    "\n",
    "# import numpy as np：导入 NumPy 库，用于处理数值型数据。\n",
    "# import xarray as xr：导入 xarray 库，这是一个用于处理多维数组数据（如气象数据）的强大工具。\n",
    "# import matplotlib.pyplot as plt：导入 matplotlib 的 pyplot 模块，这是 Python 中一个常用的绘图库。\n",
    "from matplotlib.colors import LinearSegmentedColormap\n",
    "import matplotlib.colors as mcolors\n",
    "from matplotlib.colors import LinearSegmentedColormap\n",
    "import numpy as np\n",
    "import matplotlib.pyplot as plt\n",
    "import matplotlib.patches as mpatches\n",
    "from matplotlib.colors import LinearSegmentedColormap\n",
    "from tensorflow.python.keras.utils.np_utils import to_categorical"
   ]
  },
  {
   "cell_type": "code",
   "execution_count": 2,
   "id": "29859295",
   "metadata": {
    "ExecuteTime": {
     "end_time": "2025-03-19T06:24:06.820765Z",
     "start_time": "2025-03-19T06:24:06.174728Z"
    }
   },
   "outputs": [
    {
     "name": "stdout",
     "output_type": "stream",
     "text": [
      "Using GPU for training.\n"
     ]
    }
   ],
   "source": [
    "import tensorflow as tf\n",
    "from tensorflow.keras.callbacks import ModelCheckpoint, ReduceLROnPlateau\n",
    "import numpy as np\n",
    "\n",
    "# 在导入 TensorFlow 或任何操作之前设置 GPU 配置\n",
    "gpus = tf.config.list_physical_devices('GPU')\n",
    "if gpus:\n",
    "    try:\n",
    "        tf.config.set_visible_devices(gpus[0], 'GPU')  # 仅使用第一个 GPU\n",
    "        tf.config.experimental.set_memory_growth(gpus[0], True)  # 动态分配显存\n",
    "        print(\"Using GPU for training.\")\n",
    "    except RuntimeError as e:\n",
    "        print(\"GPU configuration error:\", e)"
   ]
  },
  {
   "cell_type": "code",
   "execution_count": 3,
   "id": "56f9b03d",
   "metadata": {
    "ExecuteTime": {
     "end_time": "2025-03-19T06:24:10.541928Z",
     "start_time": "2025-03-19T06:24:06.820765Z"
    }
   },
   "outputs": [
    {
     "data": {
      "text/plain": [
       "(32140, 88, 80, 1)"
      ]
     },
     "execution_count": 3,
     "metadata": {},
     "output_type": "execute_result"
    },
    {
     "data": {
      "text/plain": [
       "(32140, 88, 80, 1)"
      ]
     },
     "execution_count": 3,
     "metadata": {},
     "output_type": "execute_result"
    },
    {
     "data": {
      "text/plain": [
       "(32140, 88, 80)"
      ]
     },
     "execution_count": 3,
     "metadata": {},
     "output_type": "execute_result"
    },
    {
     "data": {
      "text/plain": [
       "(11000, 88, 80, 1)"
      ]
     },
     "execution_count": 3,
     "metadata": {},
     "output_type": "execute_result"
    },
    {
     "data": {
      "text/plain": [
       "(11000, 88, 80, 1)"
      ]
     },
     "execution_count": 3,
     "metadata": {},
     "output_type": "execute_result"
    },
    {
     "data": {
      "text/plain": [
       "(11000, 88, 80)"
      ]
     },
     "execution_count": 3,
     "metadata": {},
     "output_type": "execute_result"
    },
    {
     "data": {
      "text/plain": [
       "32136"
      ]
     },
     "execution_count": 3,
     "metadata": {},
     "output_type": "execute_result"
    },
    {
     "data": {
      "text/plain": [
       "array([[ True,  True,  True, ...,  True,  True,  True],\n",
       "       [ True,  True,  True, ...,  True,  True,  True],\n",
       "       [ True,  True,  True, ...,  True,  True,  True],\n",
       "       ...,\n",
       "       [False, False, False, ..., False, False, False],\n",
       "       [False, False, False, ..., False, False, False],\n",
       "       [False, False, False, ..., False, False, False]])"
      ]
     },
     "execution_count": 3,
     "metadata": {},
     "output_type": "execute_result"
    }
   ],
   "source": [
    "#海平面异常数据\n",
    "Seg_train = np.expand_dims(np.load(r'D:\\jupyterProject\\eddy\\data\\2001_2022\\AugmentationData\\trainEddy_nanhai_Augmentation_2001_2022.npy'),3) #you can use all the region, in here I selected a box of 168*168 size\n",
    "# np.expand_dims(..., 3)：expand_dims 函数用于在数组中增加一个新的轴。参数 3 表示新轴被添加在原数组的第四个维度（索引从0开始）。这通常用于确保数据的维度与某些特定的数据处理或机器学习模型的输入要求相匹配。\n",
    "#######\n",
    "#旋涡数据\n",
    "SSH_train = np.expand_dims(np.load(r'D:\\jupyterProject\\eddy\\data\\2001_2022\\AugmentationData\\trainSla_nanhai_Augmentation_2001_2022.npy'),3)\n",
    "\n",
    "######\n",
    "#图像数量，图像大小（高，宽），通道数\n",
    "SSH_train.shape\n",
    "#####\n",
    "Seg_train.shape\n",
    "mask= np.load(r'D:\\jupyterProject\\eddy\\data\\2001_2022\\mask\\mask_nanhai_2001_2022.npy')\n",
    "mask.shape\n",
    "# 第四个维度为 1，表示这些图像是单通道的，即灰度图像（与彩色图像相比，彩色图像通常有三个通道表示红、绿、蓝）。\n",
    "\n",
    "# 总数据大小\n",
    "total_images = SSH_train.shape[0]\n",
    "# 随机选取 7300 个索引\n",
    "random_indices = np.random.choice(total_images, 11000, replace=False)\n",
    "# 根据随机选择的索引，从 SSH_train 和 Seg_train 中选取对应的图像。这样可以减少数据量，使得模型训练在合理的时间内完成，同时确保训练数据的多样性\n",
    "# 选取对应的图像\n",
    "SSH_train = SSH_train[random_indices]\n",
    "Seg_train = Seg_train[random_indices]\n",
    "mask = mask[random_indices]\n",
    "\n",
    "SSH_train.shape\n",
    "Seg_train.shape\n",
    "mask.shape\n",
    "\n",
    "max(random_indices)\n",
    "mask[1]\n",
    "Seg_train_categor = to_categorical(np.reshape(Seg_train[:,:,:,0],(11000,88*80)),3)#去除最后一个维度（通道维度），reshape成（7000*96*96）大小，并进行独热编码，类型有3种"
   ]
  },
  {
   "cell_type": "code",
   "execution_count": 4,
   "id": "3de81d2d",
   "metadata": {
    "ExecuteTime": {
     "end_time": "2025-03-19T06:24:10.573181Z",
     "start_time": "2025-03-19T06:24:10.541928Z"
    }
   },
   "outputs": [],
   "source": [
    "from tensorflow.keras.models import Model, load_model\n",
    "from tensorflow.keras.layers import (\n",
    "    Activation, Reshape, Permute, Lambda, \n",
    "    Input, Conv2D, MaxPooling2D, Dropout, UpSampling2D, AlphaDropout, \n",
    "    concatenate, Conv2DTranspose, \n",
    "    BatchNormalization, LeakyReLU, add\n",
    ")\n",
    "from tensorflow.keras.optimizers import Adam\n",
    "from tensorflow.keras import backend as K\n",
    "from tensorflow.keras import regularizers\n",
    "from tensorflow.keras.utils import to_categorical, plot_model\n",
    "from tensorflow.keras.callbacks import ModelCheckpoint, EarlyStopping, LearningRateScheduler, ReduceLROnPlateau\n",
    "import tensorflow as tf\n",
    "from tensorflow.keras.layers import Layer\n",
    "\n",
    "import matplotlib.pyplot as plt\n",
    "import numpy as np\n",
    "import pickle\n",
    "from IPython.display import SVG"
   ]
  },
  {
   "cell_type": "code",
   "execution_count": 5,
   "id": "61157182",
   "metadata": {
    "ExecuteTime": {
     "end_time": "2025-03-19T06:24:11.923945Z",
     "start_time": "2025-03-19T06:24:10.573181Z"
    }
   },
   "outputs": [
    {
     "name": "stdout",
     "output_type": "stream",
     "text": [
      "(11000, 7040, 3)\n"
     ]
    }
   ],
   "source": [
    "# 假设 Seg_train 已经被定义并且是一个四维数组，形状为 (7300, 128, 128, 1)\n",
    "# 这段代码将 Seg_train 数据转换为分类格式，并输出转换后的形状。\n",
    "# Seg_train[:,:,:,0]：获取 Seg_train 的第一个通道数据，形状为 (7300, 128, 128)。\n",
    "# np.reshape(..., (7300, 128*128))：将 Seg_train 重塑为 (7300, 128*128) 的二维数组，每张图像的大小从 128x128 变为 16384 的一维数组。\n",
    "# to_categorical(..., 3)：将重塑后的 Seg_train 转换为分类格式。3 表示类别的数量，因此输出将是一个 (7300, 128*128, 3) 的数组，\n",
    "# 每个像素点用一个3维的one-hot向量表示类别。\n",
    "\n",
    "Seg_train_categor = to_categorical(np.reshape(Seg_train[:,:,:,0], (11000, 88*80)), 3)\n",
    "\n",
    "# 输出 Seg_train_categor 的形状，以确认转换后的数据格式。\n",
    "print(Seg_train_categor.shape)"
   ]
  },
  {
   "cell_type": "code",
   "execution_count": 6,
   "id": "ca745c7b",
   "metadata": {
    "ExecuteTime": {
     "end_time": "2025-03-19T06:24:11.986478Z",
     "start_time": "2025-03-19T06:24:11.939574Z"
    }
   },
   "outputs": [],
   "source": [
    "import tensorflow as tf\n",
    "from tensorflow.keras import layers, models,Input,Model\n",
    "\n",
    "def FirstResUnit(nf,ker,inputs):\n",
    "    conv1 = Conv2D(nf, ker, padding=\"same\", kernel_initializer='he_normal', use_bias=False)(inputs)\n",
    "    conv1 = BatchNormalization()(conv1)\n",
    "    conv1 = Activation('relu')(conv1)\n",
    "    conv2 = Conv2D(nf, ker, padding=\"same\", kernel_initializer='he_normal', use_bias=False)(conv1)\n",
    "    return add([conv2,inputs])\n",
    "\n",
    "def ResUnit(nf,ker,inputs, drop=0.5):\n",
    "    conv1 = BatchNormalization()(inputs)\n",
    "    conv1 = Activation('relu')(conv1)\n",
    "    conv1 = Dropout(drop)(conv1)\n",
    "    conv2 = Conv2D(nf, ker, padding=\"same\", kernel_initializer='he_normal', use_bias=False)(conv1)\n",
    "    conv2 = BatchNormalization()(conv2)\n",
    "    conv2 = Activation('relu')(conv2)\n",
    "    conv2 = Dropout(drop)(conv2)\n",
    "    conv2 = Conv2D(nf, ker, padding=\"same\", kernel_initializer='he_normal', use_bias=False)(conv2)\n",
    "    shortcut = Conv2D(nf, 1, padding=\"same\", kernel_initializer='he_normal', use_bias=False)(inputs)#由于前面的操作改变了通道数，导致最初的input和改变通道数了的conv2无法加在一起，所以这里将inputs的通道数也变为ker大小\n",
    "    return add([conv2,shortcut])\n",
    "\n",
    "def ResUnitDecoder(nf,ker,inputs,drop=0.5):\n",
    "    conv1 = BatchNormalization()(inputs)\n",
    "    conv1 = Activation('relu')(conv1)\n",
    "    conv1 = Dropout(drop)(conv1)\n",
    "    conv2 = Conv2D(nf, ker, padding=\"same\", kernel_initializer='he_normal', use_bias=False)(conv1)\n",
    "    conv2 = BatchNormalization()(conv2)\n",
    "    conv2 = Activation('relu')(conv2)\n",
    "    conv2 = Dropout(drop)(conv2)\n",
    "    conv2 = Conv2D(nf, ker, padding=\"same\", kernel_initializer='he_normal', use_bias=False)(conv2)\n",
    "    ###\n",
    "    shortcut = Conv2D(nf, 1, padding=\"same\", kernel_initializer='he_normal', use_bias=False)(inputs)\n",
    "    return add([conv2,shortcut])\n",
    "# FPN相关的辅助函数\n",
    "def create_fpn_top_layer(nf, inputs):\n",
    "    conv = Conv2D(nf, (1, 1), padding=\"same\", kernel_initializer='he_normal', use_bias=False)(inputs)\n",
    "    return conv\n",
    "\n",
    "\n",
    "class Attention_block(Layer):\n",
    "    def __init__(self, F_g, F_l, F_int, **kwargs):\n",
    "        super(Attention_block, self).__init__(**kwargs)\n",
    "        self.F_g = F_g\n",
    "        self.F_l = F_l\n",
    "        self.F_int = F_int\n",
    "        \n",
    "        self.W_g = tf.keras.Sequential([\n",
    "            Conv2D(F_int, kernel_size=1, strides=1, padding=\"valid\", use_bias=True),\n",
    "            BatchNormalization()\n",
    "        ])\n",
    "        self.W_x = tf.keras.Sequential([\n",
    "            Conv2D(F_int, kernel_size=1, strides=1, padding=\"valid\", use_bias=True),\n",
    "            BatchNormalization()\n",
    "        ])\n",
    "        self.psi = tf.keras.Sequential([\n",
    "            Conv2D(1, kernel_size=1, strides=1, padding=\"valid\", use_bias=True),\n",
    "            BatchNormalization(),\n",
    "            Activation('sigmoid')\n",
    "        ])\n",
    "        self.relu = Activation('relu')\n",
    "\n",
    "    def call(self, g, x):\n",
    "        g1 = self.W_g(g)\n",
    "        x1 = self.W_x(x)\n",
    "        psi = self.relu(g1 + x1)\n",
    "        psi = self.psi(psi)\n",
    "        return x * psi\n",
    "\n",
    "    def get_config(self):\n",
    "        config = super(Attention_block, self).get_config()\n",
    "        config.update({\n",
    "            'F_g': self.F_g,\n",
    "            'F_l': self.F_l,\n",
    "            'F_int': self.F_int,\n",
    "        })\n",
    "        return config\n",
    "\n",
    "    @classmethod\n",
    "    def from_config(cls, config):\n",
    "        return cls(**config)\n",
    "\n",
    "def create_lateral_connection_with_attention(nf, top_layer, lateral_layer):\n",
    "    print(top_layer.shape)\n",
    "    print(lateral_layer.shape)\n",
    "    # 创建1x1卷积调整通道数\n",
    "    lateral = Conv2D(nf, (1, 1), padding=\"same\", kernel_initializer='he_normal', use_bias=False)(lateral_layer)\n",
    "    upsampled = UpSampling2D((2, 2))(top_layer)\n",
    "\n",
    "    # 使用Attention block来处理融合前的特征图\n",
    "    attention_block = Attention_block(F_g=nf, F_l=nf, F_int=nf//2)\n",
    "    merged = attention_block(upsampled, lateral)  # 注意力机制应用于融合之前的两个特征图\n",
    "\n",
    "    return merged"
   ]
  },
  {
   "cell_type": "code",
   "execution_count": 7,
   "id": "fffaabd1",
   "metadata": {
    "ExecuteTime": {
     "end_time": "2025-03-19T06:24:16.557656Z",
     "start_time": "2025-03-19T06:24:11.986478Z"
    }
   },
   "outputs": [
    {
     "name": "stdout",
     "output_type": "stream",
     "text": [
      "fpn_top (None, 11, 10, 256)\n",
      "conv3 (None, 22, 20, 128)\n",
      "(None, 11, 10, 256)\n",
      "(None, 22, 20, 128)\n",
      "(None, 22, 20, 256)\n",
      "(None, 44, 40, 64)\n",
      "(None, 44, 40, 256)\n",
      "(None, 88, 80, 32)\n",
      "Model: \"model\"\n",
      "__________________________________________________________________________________________________\n",
      " Layer (type)                   Output Shape         Param #     Connected to                     \n",
      "==================================================================================================\n",
      " input_1 (InputLayer)           [(None, 88, 80, 1)]  0           []                               \n",
      "                                                                                                  \n",
      " conv2d (Conv2D)                (None, 88, 80, 32)   288         ['input_1[0][0]']                \n",
      "                                                                                                  \n",
      " batch_normalization (BatchNorm  (None, 88, 80, 32)  128         ['conv2d[0][0]']                 \n",
      " alization)                                                                                       \n",
      "                                                                                                  \n",
      " activation (Activation)        (None, 88, 80, 32)   0           ['batch_normalization[0][0]']    \n",
      "                                                                                                  \n",
      " conv2d_1 (Conv2D)              (None, 88, 80, 32)   9216        ['activation[0][0]']             \n",
      "                                                                                                  \n",
      " add (Add)                      (None, 88, 80, 32)   0           ['conv2d_1[0][0]',               \n",
      "                                                                  'input_1[0][0]']                \n",
      "                                                                                                  \n",
      " max_pooling2d (MaxPooling2D)   (None, 44, 40, 32)   0           ['add[0][0]']                    \n",
      "                                                                                                  \n",
      " batch_normalization_1 (BatchNo  (None, 44, 40, 32)  128         ['max_pooling2d[0][0]']          \n",
      " rmalization)                                                                                     \n",
      "                                                                                                  \n",
      " activation_1 (Activation)      (None, 44, 40, 32)   0           ['batch_normalization_1[0][0]']  \n",
      "                                                                                                  \n",
      " dropout (Dropout)              (None, 44, 40, 32)   0           ['activation_1[0][0]']           \n",
      "                                                                                                  \n",
      " conv2d_2 (Conv2D)              (None, 44, 40, 64)   18432       ['dropout[0][0]']                \n",
      "                                                                                                  \n",
      " batch_normalization_2 (BatchNo  (None, 44, 40, 64)  256         ['conv2d_2[0][0]']               \n",
      " rmalization)                                                                                     \n",
      "                                                                                                  \n",
      " activation_2 (Activation)      (None, 44, 40, 64)   0           ['batch_normalization_2[0][0]']  \n",
      "                                                                                                  \n",
      " dropout_1 (Dropout)            (None, 44, 40, 64)   0           ['activation_2[0][0]']           \n",
      "                                                                                                  \n",
      " conv2d_3 (Conv2D)              (None, 44, 40, 64)   36864       ['dropout_1[0][0]']              \n",
      "                                                                                                  \n",
      " conv2d_4 (Conv2D)              (None, 44, 40, 64)   2048        ['max_pooling2d[0][0]']          \n",
      "                                                                                                  \n",
      " add_1 (Add)                    (None, 44, 40, 64)   0           ['conv2d_3[0][0]',               \n",
      "                                                                  'conv2d_4[0][0]']               \n",
      "                                                                                                  \n",
      " max_pooling2d_1 (MaxPooling2D)  (None, 22, 20, 64)  0           ['add_1[0][0]']                  \n",
      "                                                                                                  \n",
      " batch_normalization_3 (BatchNo  (None, 22, 20, 64)  256         ['max_pooling2d_1[0][0]']        \n",
      " rmalization)                                                                                     \n",
      "                                                                                                  \n",
      " activation_3 (Activation)      (None, 22, 20, 64)   0           ['batch_normalization_3[0][0]']  \n",
      "                                                                                                  \n",
      " dropout_2 (Dropout)            (None, 22, 20, 64)   0           ['activation_3[0][0]']           \n",
      "                                                                                                  \n",
      " conv2d_5 (Conv2D)              (None, 22, 20, 128)  73728       ['dropout_2[0][0]']              \n",
      "                                                                                                  \n",
      " batch_normalization_4 (BatchNo  (None, 22, 20, 128)  512        ['conv2d_5[0][0]']               \n",
      " rmalization)                                                                                     \n",
      "                                                                                                  \n",
      " activation_4 (Activation)      (None, 22, 20, 128)  0           ['batch_normalization_4[0][0]']  \n",
      "                                                                                                  \n",
      " dropout_3 (Dropout)            (None, 22, 20, 128)  0           ['activation_4[0][0]']           \n",
      "                                                                                                  \n",
      " conv2d_6 (Conv2D)              (None, 22, 20, 128)  147456      ['dropout_3[0][0]']              \n",
      "                                                                                                  \n",
      " conv2d_7 (Conv2D)              (None, 22, 20, 128)  8192        ['max_pooling2d_1[0][0]']        \n",
      "                                                                                                  \n",
      " add_2 (Add)                    (None, 22, 20, 128)  0           ['conv2d_6[0][0]',               \n",
      "                                                                  'conv2d_7[0][0]']               \n",
      "                                                                                                  \n",
      " max_pooling2d_2 (MaxPooling2D)  (None, 11, 10, 128)  0          ['add_2[0][0]']                  \n",
      "                                                                                                  \n",
      " batch_normalization_5 (BatchNo  (None, 11, 10, 128)  512        ['max_pooling2d_2[0][0]']        \n",
      " rmalization)                                                                                     \n",
      "                                                                                                  \n",
      " activation_5 (Activation)      (None, 11, 10, 128)  0           ['batch_normalization_5[0][0]']  \n",
      "                                                                                                  \n",
      " dropout_4 (Dropout)            (None, 11, 10, 128)  0           ['activation_5[0][0]']           \n",
      "                                                                                                  \n",
      " conv2d_8 (Conv2D)              (None, 11, 10, 256)  294912      ['dropout_4[0][0]']              \n",
      "                                                                                                  \n",
      " batch_normalization_6 (BatchNo  (None, 11, 10, 256)  1024       ['conv2d_8[0][0]']               \n",
      " rmalization)                                                                                     \n",
      "                                                                                                  \n"
     ]
    },
    {
     "name": "stdout",
     "output_type": "stream",
     "text": [
      " activation_6 (Activation)      (None, 11, 10, 256)  0           ['batch_normalization_6[0][0]']  \n",
      "                                                                                                  \n",
      " dropout_5 (Dropout)            (None, 11, 10, 256)  0           ['activation_6[0][0]']           \n",
      "                                                                                                  \n",
      " conv2d_9 (Conv2D)              (None, 11, 10, 256)  589824      ['dropout_5[0][0]']              \n",
      "                                                                                                  \n",
      " conv2d_10 (Conv2D)             (None, 11, 10, 256)  32768       ['max_pooling2d_2[0][0]']        \n",
      "                                                                                                  \n",
      " add_3 (Add)                    (None, 11, 10, 256)  0           ['conv2d_9[0][0]',               \n",
      "                                                                  'conv2d_10[0][0]']              \n",
      "                                                                                                  \n",
      " conv2d_11 (Conv2D)             (None, 11, 10, 256)  65536       ['add_3[0][0]']                  \n",
      "                                                                                                  \n",
      " up_sampling2d (UpSampling2D)   (None, 22, 20, 256)  0           ['conv2d_11[0][0]']              \n",
      "                                                                                                  \n",
      " conv2d_12 (Conv2D)             (None, 22, 20, 256)  32768       ['add_2[0][0]']                  \n",
      "                                                                                                  \n",
      " up_sampling2d_3 (UpSampling2D)  (None, 22, 20, 256)  0          ['conv2d_11[0][0]']              \n",
      "                                                                                                  \n",
      " attention_block (Attention_blo  (None, 22, 20, 256)  66949      ['up_sampling2d[0][0]',          \n",
      " ck)                                                              'conv2d_12[0][0]']              \n",
      "                                                                                                  \n",
      " concatenate (Concatenate)      (None, 22, 20, 512)  0           ['up_sampling2d_3[0][0]',        \n",
      "                                                                  'attention_block[0][0]']        \n",
      "                                                                                                  \n",
      " batch_normalization_16 (BatchN  (None, 22, 20, 512)  2048       ['concatenate[0][0]']            \n",
      " ormalization)                                                                                    \n",
      "                                                                                                  \n",
      " activation_13 (Activation)     (None, 22, 20, 512)  0           ['batch_normalization_16[0][0]'] \n",
      "                                                                                                  \n",
      " dropout_6 (Dropout)            (None, 22, 20, 512)  0           ['activation_13[0][0]']          \n",
      "                                                                                                  \n",
      " conv2d_24 (Conv2D)             (None, 22, 20, 256)  1179648     ['dropout_6[0][0]']              \n",
      "                                                                                                  \n",
      " batch_normalization_17 (BatchN  (None, 22, 20, 256)  1024       ['conv2d_24[0][0]']              \n",
      " ormalization)                                                                                    \n",
      "                                                                                                  \n",
      " activation_14 (Activation)     (None, 22, 20, 256)  0           ['batch_normalization_17[0][0]'] \n",
      "                                                                                                  \n",
      " dropout_7 (Dropout)            (None, 22, 20, 256)  0           ['activation_14[0][0]']          \n",
      "                                                                                                  \n",
      " conv2d_25 (Conv2D)             (None, 22, 20, 256)  589824      ['dropout_7[0][0]']              \n",
      "                                                                                                  \n",
      " conv2d_26 (Conv2D)             (None, 22, 20, 256)  131072      ['concatenate[0][0]']            \n",
      "                                                                                                  \n",
      " add_4 (Add)                    (None, 22, 20, 256)  0           ['conv2d_25[0][0]',              \n",
      "                                                                  'conv2d_26[0][0]']              \n",
      "                                                                                                  \n",
      " up_sampling2d_1 (UpSampling2D)  (None, 44, 40, 256)  0          ['attention_block[0][0]']        \n",
      "                                                                                                  \n",
      " conv2d_16 (Conv2D)             (None, 44, 40, 256)  16384       ['add_1[0][0]']                  \n",
      "                                                                                                  \n",
      " up_sampling2d_4 (UpSampling2D)  (None, 44, 40, 256)  0          ['add_4[0][0]']                  \n",
      "                                                                                                  \n",
      " attention_block_1 (Attention_b  (None, 44, 40, 256)  66949      ['up_sampling2d_1[0][0]',        \n",
      " lock)                                                            'conv2d_16[0][0]']              \n",
      "                                                                                                  \n",
      " concatenate_1 (Concatenate)    (None, 44, 40, 512)  0           ['up_sampling2d_4[0][0]',        \n",
      "                                                                  'attention_block_1[0][0]']      \n",
      "                                                                                                  \n",
      " batch_normalization_18 (BatchN  (None, 44, 40, 512)  2048       ['concatenate_1[0][0]']          \n",
      " ormalization)                                                                                    \n",
      "                                                                                                  \n",
      " activation_15 (Activation)     (None, 44, 40, 512)  0           ['batch_normalization_18[0][0]'] \n",
      "                                                                                                  \n",
      " dropout_8 (Dropout)            (None, 44, 40, 512)  0           ['activation_15[0][0]']          \n",
      "                                                                                                  \n",
      " conv2d_27 (Conv2D)             (None, 44, 40, 128)  589824      ['dropout_8[0][0]']              \n",
      "                                                                                                  \n",
      " batch_normalization_19 (BatchN  (None, 44, 40, 128)  512        ['conv2d_27[0][0]']              \n",
      " ormalization)                                                                                    \n",
      "                                                                                                  \n",
      " activation_16 (Activation)     (None, 44, 40, 128)  0           ['batch_normalization_19[0][0]'] \n",
      "                                                                                                  \n",
      " dropout_9 (Dropout)            (None, 44, 40, 128)  0           ['activation_16[0][0]']          \n",
      "                                                                                                  \n",
      " conv2d_28 (Conv2D)             (None, 44, 40, 128)  147456      ['dropout_9[0][0]']              \n",
      "                                                                                                  \n",
      " conv2d_29 (Conv2D)             (None, 44, 40, 128)  65536       ['concatenate_1[0][0]']          \n",
      "                                                                                                  \n",
      " add_5 (Add)                    (None, 44, 40, 128)  0           ['conv2d_28[0][0]',              \n",
      "                                                                  'conv2d_29[0][0]']              \n",
      "                                                                                                  \n"
     ]
    },
    {
     "name": "stdout",
     "output_type": "stream",
     "text": [
      " up_sampling2d_2 (UpSampling2D)  (None, 88, 80, 256)  0          ['attention_block_1[0][0]']      \n",
      "                                                                                                  \n",
      " conv2d_20 (Conv2D)             (None, 88, 80, 256)  8192        ['add[0][0]']                    \n",
      "                                                                                                  \n",
      " up_sampling2d_5 (UpSampling2D)  (None, 88, 80, 128)  0          ['add_5[0][0]']                  \n",
      "                                                                                                  \n",
      " attention_block_2 (Attention_b  (None, 88, 80, 256)  66949      ['up_sampling2d_2[0][0]',        \n",
      " lock)                                                            'conv2d_20[0][0]']              \n",
      "                                                                                                  \n",
      " concatenate_2 (Concatenate)    (None, 88, 80, 384)  0           ['up_sampling2d_5[0][0]',        \n",
      "                                                                  'attention_block_2[0][0]']      \n",
      "                                                                                                  \n",
      " batch_normalization_20 (BatchN  (None, 88, 80, 384)  1536       ['concatenate_2[0][0]']          \n",
      " ormalization)                                                                                    \n",
      "                                                                                                  \n",
      " activation_17 (Activation)     (None, 88, 80, 384)  0           ['batch_normalization_20[0][0]'] \n",
      "                                                                                                  \n",
      " dropout_10 (Dropout)           (None, 88, 80, 384)  0           ['activation_17[0][0]']          \n",
      "                                                                                                  \n",
      " conv2d_30 (Conv2D)             (None, 88, 80, 64)   221184      ['dropout_10[0][0]']             \n",
      "                                                                                                  \n",
      " batch_normalization_21 (BatchN  (None, 88, 80, 64)  256         ['conv2d_30[0][0]']              \n",
      " ormalization)                                                                                    \n",
      "                                                                                                  \n",
      " activation_18 (Activation)     (None, 88, 80, 64)   0           ['batch_normalization_21[0][0]'] \n",
      "                                                                                                  \n",
      " dropout_11 (Dropout)           (None, 88, 80, 64)   0           ['activation_18[0][0]']          \n",
      "                                                                                                  \n",
      " conv2d_31 (Conv2D)             (None, 88, 80, 64)   36864       ['dropout_11[0][0]']             \n",
      "                                                                                                  \n",
      " conv2d_32 (Conv2D)             (None, 88, 80, 64)   24576       ['concatenate_2[0][0]']          \n",
      "                                                                                                  \n",
      " add_6 (Add)                    (None, 88, 80, 64)   0           ['conv2d_31[0][0]',              \n",
      "                                                                  'conv2d_32[0][0]']              \n",
      "                                                                                                  \n",
      " batch_normalization_22 (BatchN  (None, 88, 80, 64)  256         ['add_6[0][0]']                  \n",
      " ormalization)                                                                                    \n",
      "                                                                                                  \n",
      " activation_19 (Activation)     (None, 88, 80, 64)   0           ['batch_normalization_22[0][0]'] \n",
      "                                                                                                  \n",
      " dropout_12 (Dropout)           (None, 88, 80, 64)   0           ['activation_19[0][0]']          \n",
      "                                                                                                  \n",
      " conv2d_33 (Conv2D)             (None, 88, 80, 32)   18432       ['dropout_12[0][0]']             \n",
      "                                                                                                  \n",
      " batch_normalization_23 (BatchN  (None, 88, 80, 32)  128         ['conv2d_33[0][0]']              \n",
      " ormalization)                                                                                    \n",
      "                                                                                                  \n",
      " activation_20 (Activation)     (None, 88, 80, 32)   0           ['batch_normalization_23[0][0]'] \n",
      "                                                                                                  \n",
      " dropout_13 (Dropout)           (None, 88, 80, 32)   0           ['activation_20[0][0]']          \n",
      "                                                                                                  \n",
      " conv2d_34 (Conv2D)             (None, 88, 80, 32)   9216        ['dropout_13[0][0]']             \n",
      "                                                                                                  \n",
      " conv2d_35 (Conv2D)             (None, 88, 80, 32)   2048        ['add_6[0][0]']                  \n",
      "                                                                                                  \n",
      " add_7 (Add)                    (None, 88, 80, 32)   0           ['conv2d_34[0][0]',              \n",
      "                                                                  'conv2d_35[0][0]']              \n",
      "                                                                                                  \n",
      " conv2d_36 (Conv2D)             (None, 88, 80, 3)    96          ['add_7[0][0]']                  \n",
      "                                                                                                  \n",
      " reshape (Reshape)              (None, 7040, 3)      0           ['conv2d_36[0][0]']              \n",
      "                                                                                                  \n",
      " activation_21 (Activation)     (None, 7040, 3)      0           ['reshape[0][0]']                \n",
      "                                                                                                  \n",
      "==================================================================================================\n",
      "Total params: 4,563,855\n",
      "Trainable params: 4,557,001\n",
      "Non-trainable params: 6,854\n",
      "__________________________________________________________________________________________________\n"
     ]
    }
   ],
   "source": [
    "width = 80\n",
    "height = 88\n",
    "nbClass = 3\n",
    "ker = 3\n",
    "\n",
    "img_input = Input(shape=(height, width, 1))\n",
    "\n",
    "# 编码器和中心部分（保持不变）\n",
    "conv1 = FirstResUnit(32, ker, img_input)\n",
    "pool1 = MaxPooling2D(pool_size=(2, 2))(conv1)\n",
    "\n",
    "conv2 = ResUnit(64, ker, pool1, drop=0.3)\n",
    "pool2 = MaxPooling2D(pool_size=(2, 2))(conv2)\n",
    "\n",
    "conv3 = ResUnit(128, ker, pool2, drop=0.4)\n",
    "pool3 = MaxPooling2D(pool_size=(2, 2))(conv3)\n",
    "\n",
    "convC = ResUnit(256, ker, pool3, drop=0.5)\n",
    "fpn_top = create_fpn_top_layer(256, convC)\n",
    "\n",
    "print(\"fpn_top\",fpn_top.shape)\n",
    "print(\"conv3\",conv3.shape)\n",
    "\n",
    "# 添加注意力模块\n",
    "fpn_p3 = create_lateral_connection_with_attention(256, fpn_top, conv3)\n",
    "fpn_p2 = create_lateral_connection_with_attention(256, fpn_p3, conv2)\n",
    "fpn_p1 = create_lateral_connection_with_attention(256, fpn_p2, conv1)\n",
    "\n",
    "# 解码器更新\n",
    "up3 = concatenate([UpSampling2D((2, 2))(fpn_top), fpn_p3])\n",
    "decod3 = ResUnitDecoder(256, ker, up3, drop=0.5)\n",
    "\n",
    "up2 = concatenate([UpSampling2D((2, 2))(decod3), fpn_p2])\n",
    "decod2 = ResUnitDecoder(128, ker, up2, drop=0.4)\n",
    "\n",
    "up1 = concatenate([UpSampling2D((2, 2))(decod2), fpn_p1])\n",
    "decod1 = ResUnitDecoder(64, ker, up1, drop=0.3)\n",
    "\n",
    "decod0 = ResUnitDecoder(32, ker, decod1, drop=0.3)\n",
    "\n",
    "# 输出层（保持不变）\n",
    "x = Conv2D(nbClass, (1, 1), padding=\"valid\", use_bias=False)(decod0)\n",
    "x = Reshape((height * width, nbClass))(x) \n",
    "x = Activation(\"softmax\")(x)\n",
    "\n",
    "eddynet = Model(img_input, x)\n",
    "\n",
    "eddynet.summary()"
   ]
  },
  {
   "cell_type": "code",
   "execution_count": 8,
   "id": "4600aa09",
   "metadata": {
    "ExecuteTime": {
     "end_time": "2025-03-19T06:24:18.393206Z",
     "start_time": "2025-03-19T06:24:16.557656Z"
    }
   },
   "outputs": [
    {
     "data": {
      "text/plain": [
       "{0: 67296222, 1: 4889237, 2: 5254541}"
      ]
     },
     "execution_count": 8,
     "metadata": {},
     "output_type": "execute_result"
    }
   ],
   "source": [
    "\n",
    "# 这段代码用于计算分割数据集中每个类别的权重，以处理数据不平衡的问题。以下是详细解释\n",
    "\n",
    "unique, counts = np.unique(Seg_train, return_counts=True)\n",
    "# np.unique(Seg_train, return_counts=True)：\n",
    "# 这个函数会返回数组 Seg_train 中的唯一值和每个唯一值的计数。\n",
    "# unique 是唯一值的数组，counts 是每个唯一值对应的计数。\n",
    "\n",
    "dict(zip(unique, counts))\n",
    "# dict(zip(unique, counts))：\n",
    "# 将 unique 和 counts 转换成字典格式，其中键是唯一值，值是对应的计数。\n",
    "# 这使得我们能够更方便地查看每个类别在数据集中的数量。\n",
    "\n",
    "# 根据您提供的结果 {0: 95145706, 1: 11705580, 2: 12751914}，\n",
    "# 我们可以看到类别 0 的像素点数量明显多于类别 1 和类别 2。\n",
    "# 为了处理这种数据不平衡，我们需要计算每个类别的权重，\n",
    "# 以便在训练过程中能够平衡各个类别的影响\n",
    "# gpt提供了另外一种计算权重的方式"
   ]
  },
  {
   "cell_type": "code",
   "execution_count": 9,
   "id": "83aaac19",
   "metadata": {
    "ExecuteTime": {
     "end_time": "2025-03-19T06:24:18.413178Z",
     "start_time": "2025-03-19T06:24:18.393206Z"
    }
   },
   "outputs": [
    {
     "data": {
      "text/plain": [
       "[0.036269458973017414, 0.4992185003238894, 0.4645120407030932]"
      ]
     },
     "execution_count": 9,
     "metadata": {},
     "output_type": "execute_result"
    }
   ],
   "source": [
    "# 您在使用一个不同的方法来计算类别的权重。\n",
    "# 这段代码先计算每个类别出现频率的倒数，然后对这些频率进行归一化处理\n",
    "\n",
    "freq = [np.sum(counts)/j for j in counts]\n",
    "# np.sum(counts) 计算所有类别的像素点总数。\n",
    "# 对于每个类别的计数 j，计算总像素点数与 j 的比值。\n",
    "# 这给出了类别频率的倒数，表示较少出现的类别会有更高的权重。\n",
    "\n",
    "weightsSeg = [f/np.sum(freq) for f in freq]\n",
    "# 计算频率倒数的总和 np.sum(freq)。\n",
    "# 对每个频率倒数 f，将其除以频率倒数的总和，从而进行归一化处理。这保证了所有权重的和为 1。\n",
    "\n",
    "weightsSeg"
   ]
  },
  {
   "cell_type": "code",
   "execution_count": 10,
   "id": "179342ca",
   "metadata": {
    "ExecuteTime": {
     "end_time": "2025-03-19T06:24:18.453180Z",
     "start_time": "2025-03-19T06:24:18.413178Z"
    }
   },
   "outputs": [],
   "source": [
    "# 这段代码定义了一系列用于计算 Dice 系数及其加权版本的函数，\n",
    "# 并定义了一个基于加权平均 Dice 系数的损失函数。\n",
    "# Dice 系数是一种用于评估两个样本相似度的统计方法，\n",
    "# 特别适用于图像分割任务。Dice 系数的取值范围是 [0, 1]，其中 1 表示完全重合，\n",
    "# 0 表示完全不重合。\n",
    "# 这段代码定义并使用了一组基于 Dice 系数的指标和损失函数，特别适用于图像分割任务。\n",
    "# 通过这些定义，模型能够更好地处理数据不平衡问题，并提供更加直观和有效的评估标准。\n",
    "import tensorflow as tf\n",
    "\n",
    "\n",
    "smooth = 1.  # to avoid zero division\n",
    "# 用于避免除零错误，在计算 Dice 系数时加到分子和分母中。\n",
    "\n",
    "\n",
    "# 反气旋涡\n",
    "def dice_coef_anti(y_true, y_pred):\n",
    "    y_true_anti = y_true[:,:,2]\n",
    "    y_pred_anti = y_pred[:,:,2]\n",
    "    intersection_anti = tf.reduce_sum(y_true_anti * y_pred_anti)\n",
    "    return (2 * intersection_anti + smooth) / (tf.reduce_sum(y_true_anti)+ tf.reduce_sum(y_pred_anti) + smooth)\n",
    "# 提取类别 2(anti) 的真实值和预测值。\n",
    "# 计算交集（相乘后求和）。\n",
    "# 计算 Dice 系数。\n",
    "\n",
    "\n",
    "\n",
    "# 气旋涡\n",
    "def dice_coef_cyc(y_true, y_pred):\n",
    "    y_true_cyc = y_true[:,:,1]\n",
    "    y_pred_cyc = y_pred[:,:,1]\n",
    "    intersection_cyc = tf.reduce_sum(y_true_cyc * y_pred_cyc)\n",
    "    return (2 * intersection_cyc + smooth) / (tf.reduce_sum(y_true_cyc) + tf.reduce_sum(y_pred_cyc) + smooth)\n",
    "# 类似于 dice_coef_anti，但针对类别 1 (cyc)。\n",
    "\n",
    "\n",
    "\n",
    "\n",
    "# 没有涡旋\n",
    "def dice_coef_nn(y_true, y_pred):\n",
    "    y_true_nn = y_true[:,:,0]\n",
    "    y_pred_nn = y_pred[:,:,0]\n",
    "    intersection_nn = tf.reduce_sum(y_true_nn * y_pred_nn)\n",
    "    return (2 * intersection_nn + smooth) / (tf.reduce_sum(y_true_nn) + tf.reduce_sum(y_pred_nn) + smooth)\n",
    "# 类似于 dice_coef_anti，但针对类别 0 (nn)。    \n",
    "    \n",
    "    \n",
    "    \n",
    "# Mean Dice 系数\n",
    "def mean_dice_coef(y_true, y_pred):\n",
    "    return (dice_coef_anti(y_true, y_pred) + dice_coef_cyc(y_true, y_pred) + dice_coef_nn(y_true, y_pred))/3.\n",
    "# 计算三种类别 Dice 系数的平均值。\n",
    "\n",
    "\n",
    "\n",
    "# 加权 Mean Dice 系数：\n",
    "def weighted_mean_dice_coef(y_true, y_pred):\n",
    "    return (0.46289*dice_coef_anti(y_true, y_pred) + 0.50085*dice_coef_cyc(y_true, y_pred) + 0.03626*dice_coef_nn(y_true, y_pred))\n",
    "# 根据类别重要性加权计算 Dice 系数。\n",
    "\n",
    "\n",
    "# dice损失\n",
    "def dice_coef_loss(y_true, y_pred):\n",
    "    return 1 - weighted_mean_dice_coef(y_true, y_pred)\n",
    "# 基于加权平均 Dice 系数定义损失函数，损失值越小表示预测与真实值越接近。"
   ]
  },
  {
   "cell_type": "code",
   "execution_count": 11,
   "id": "0b87b511",
   "metadata": {
    "ExecuteTime": {
     "end_time": "2025-03-19T06:24:18.493178Z",
     "start_time": "2025-03-19T06:24:18.463179Z"
    }
   },
   "outputs": [],
   "source": [
    "# 编译模型的代码\n",
    "\n",
    "# 在 Keras 中，编译模型时需要指定优化器、损失函数和评估指标。您的代码中使用了以下组件：\n",
    "# optimizer=Adam(learning_rate=1e-3)   \n",
    "# Adam：一种常用的优化算法，适用于处理稀疏梯度和大规模数据。\n",
    "# learning_rate=1e-3：设置学习率为 0.001，控制每次参数更新的步长。\n",
    "\n",
    "# 损失函数,loss=dice_coef_loss\n",
    "# dice_coef_loss：基于 Dice 系数定义的损失函数，用于优化模型时计算误差。\n",
    "# Dice 损失特别适用于图像分割任务，因为它直接衡量了预测结果与真实标签的重叠程度。\n",
    "\n",
    "# 评估指标:metrics=['categorical_accuracy', mean_dice_coef, weighted_mean_dice_coef]\n",
    "# categorical_accuracy：分类准确度，用于评估多类别分类任务的性能。\n",
    "# 计算预测类别与真实类别匹配的比例。\n",
    "# mean_dice_coef：自定义的平均 Dice 系数，衡量所有类别的平均分割效果。\n",
    "# weighted_mean_dice_coef：自定义的加权平均 Dice 系数，按照类别重要性加权计算，\n",
    "# 进一步衡量分割效果。\n",
    "    \n",
    "# eddynet.compile(optimizer=Adam(learning_rate=1e-3), loss=dice_coef_loss,\n",
    "#                 metrics=['categorical_accuracy', mean_dice_coef, weighted_mean_dice_coef])\n",
    "\n",
    "eddynet.compile(optimizer=Adam(learning_rate=6e-5), loss=dice_coef_loss,\n",
    "                metrics=['categorical_accuracy', dice_coef_anti, dice_coef_cyc, dice_coef_nn, mean_dice_coef, weighted_mean_dice_coef])\n",
    "\n",
    "\n",
    "# mean_dice_coef：计算三个类别（反向涡旋、顺时针涡旋和无涡旋）的 Dice 系数的平均值。\n",
    "\n",
    "# weighted_mean_dice_coef：按照类别重要性加权计算三个类别的 Dice 系数，\n",
    "# 其中反向涡旋占 36%，顺时针涡旋占 62%，无涡旋占 2%。\n",
    "\n",
    "\n",
    "# 编译模型：指定了 Adam 优化器、基于 Dice 系数的损失函数和多个评估指标。\n",
    "# 优化器：Adam 优化器，学习率为 0.001。\n",
    "# 损失函数：自定义的 Dice 损失函数，用于图像分割任务。\n",
    "# 评估指标：包括分类准确度、平均 Dice 系数和加权平均 Dice 系数。\n",
    "# 通过这些设置，您能够在训练过程中使用加权 Dice 损失函数来优化模型，\n",
    "# 并通过分类准确度和 Dice 系数来评估模型的性能。\n",
    "# 这种设置特别适合处理图像分割任务，尤其是在数据不平衡的情况下。"
   ]
  },
  {
   "cell_type": "code",
   "execution_count": 12,
   "id": "712e0f3e",
   "metadata": {
    "ExecuteTime": {
     "end_time": "2025-03-18T23:52:33.100261Z",
     "start_time": "2025-03-18T23:52:33.081168Z"
    }
   },
   "outputs": [],
   "source": [
    "# modelcheck = ModelCheckpoint(r'D:\\01毕设\\4 EddyNet-master\\EddyNet-master\\EddyNet_new\\权重\\eddynet6.h5', monitor='val_loss', verbose=1, save_best_only=True, save_weights_only=True)\n",
    "# reducecall = ReduceLROnPlateau(monitor='val_loss', factor=0.5, patience=20, verbose=1, mode='auto', min_delta=1e-30, min_lr=1e-30)\n",
    "\n",
    "\n",
    "# histeddynet=eddynet.fit(SSH_train, Seg_train_categor,\n",
    "#                               epochs=50,\n",
    "#                               batch_size=16,\n",
    "#                               shuffle=True,\n",
    "#                               verbose=1,\n",
    "#                               callbacks=[modelcheck,reducecall],#,MyCallback(alpha,beta),reducecall\n",
    "#                               validation_split=0.2\n",
    "#                               )\n",
    "\n",
    "\n",
    "# from keras.callbacks import ModelCheckpoint, ReduceLROnPlateau\n",
    "\n",
    "# modelcheck = ModelCheckpoint(r'D:\\01毕设\\4 EddyNet-master\\EddyNet-master\\EddyNet_new\\权重\\eddynet6.h5', monitor='val_loss', verbose=1, save_best_only=True, save_weights_only=False)\n",
    "# reducecall = ReduceLROnPlateau(monitor='val_loss', factor=0.5, patience=20, verbose=1, mode='auto', min_delta=1e-30, min_lr=1e-30)\n",
    "\n",
    "# histeddynet = eddynet.fit(SSH_train, Seg_train_categor,\n",
    "#                           epochs=50,\n",
    "#                           batch_size=16,\n",
    "#                           shuffle=True,\n",
    "#                           verbose=1,\n",
    "#                           callbacks=[modelcheck, reducecall],\n",
    "#                           validation_split=0.2)\n",
    "\n",
    "\n",
    "\n",
    "modelcheck = ModelCheckpoint(r'D:\\EddyNet\\EddyNet-master\\EddyNet_new\\weights\\ResNet_FPN_Attention_6e_5.keras',\n",
    "                             monitor='val_loss',\n",
    "                             verbose=1,\n",
    "                             save_best_only=True,\n",
    "                             save_weights_only=False)\n",
    "# 功能：在训练过程中保存模型的权重。\n",
    "# 参数：\n",
    "# filepath：保存模型权重的路径。\n",
    "# monitor：监控的指标，这里是验证损失（val_loss）。\n",
    "# verbose：日志详细度，设置为 1 会在每次模型保存时输出信息。\n",
    "# save_best_only：如果为 True，则只保存监控指标（这里是验证损失）最好的模型。\n",
    "# save_weights_only：如果为 True，则只保存模型的权重，而不保存模型的结构。\n",
    "\n",
    "\n",
    "\n",
    "reducecall = ReduceLROnPlateau(monitor='val_loss', factor=0.5, patience=6, verbose=1, mode='auto', min_delta=1e-7, min_lr=5e-9)\n",
    "# 功能：当监控的指标（这里是验证损失）在一定次数（patience）的训练周期中没有改善时，\n",
    "# 减少学习率。\n",
    "# 参数：\n",
    "# monitor：监控的指标，这里是验证损失（val_loss）。\n",
    "# factor：当指标停止改善时，学习率减少的因子，新的学习率将是 learning_rate = learning_rate * factor。\n",
    "# patience：当 patience 个训练周期过去而指标没有改善时，学习率将减小。\n",
    "# verbose：日志详细度，设置为 1 会在每次学习率减小时输出信息。\n",
    "# mode：决定在何种情况下监控的指标会被认为是改善了，可以是 auto，min，或 max。\n",
    "# min_delta：在监控指标的变化量小于 min_delta 时，认为没有改善。\n",
    "# min_lr：学习率的下限。"
   ]
  },
  {
   "cell_type": "code",
   "execution_count": 13,
   "id": "6dba0e94",
   "metadata": {
    "ExecuteTime": {
     "end_time": "2025-03-19T02:30:45.763310Z",
     "start_time": "2025-03-18T23:52:33.103216Z"
    }
   },
   "outputs": [
    {
     "name": "stdout",
     "output_type": "stream",
     "text": [
      "Epoch 1/80\n",
      "1100/1100 [==============================] - ETA: 0s - loss: 0.4347 - categorical_accuracy: 0.8764 - dice_coef_anti: 0.5638 - dice_coef_cyc: 0.5404 - dice_coef_nn: 0.9277 - mean_dice_coef: 0.6773 - weighted_mean_dice_coef: 0.5653\n",
      "Epoch 1: val_loss improved from inf to 0.48624, saving model to D:\\EddyNet\\EddyNet-master\\EddyNet_new\\weights\\ResNet_FPN_Attention_6e_5.keras\n",
      "1100/1100 [==============================] - 135s 108ms/step - loss: 0.4347 - categorical_accuracy: 0.8764 - dice_coef_anti: 0.5638 - dice_coef_cyc: 0.5404 - dice_coef_nn: 0.9277 - mean_dice_coef: 0.6773 - weighted_mean_dice_coef: 0.5653 - val_loss: 0.4862 - val_categorical_accuracy: 0.7748 - val_dice_coef_anti: 0.4851 - val_dice_coef_cyc: 0.5156 - val_dice_coef_nn: 0.8540 - val_mean_dice_coef: 0.6182 - val_weighted_mean_dice_coef: 0.5138 - lr: 6.0000e-05\n",
      "Epoch 2/80\n",
      "1100/1100 [==============================] - ETA: 0s - loss: 0.3600 - categorical_accuracy: 0.8990 - dice_coef_anti: 0.6383 - dice_coef_cyc: 0.6197 - dice_coef_nn: 0.9413 - mean_dice_coef: 0.7331 - weighted_mean_dice_coef: 0.6400\n",
      "Epoch 2: val_loss improved from 0.48624 to 0.41780, saving model to D:\\EddyNet\\EddyNet-master\\EddyNet_new\\weights\\ResNet_FPN_Attention_6e_5.keras\n",
      "1100/1100 [==============================] - 118s 107ms/step - loss: 0.3600 - categorical_accuracy: 0.8990 - dice_coef_anti: 0.6383 - dice_coef_cyc: 0.6197 - dice_coef_nn: 0.9413 - mean_dice_coef: 0.7331 - weighted_mean_dice_coef: 0.6400 - val_loss: 0.4178 - val_categorical_accuracy: 0.8301 - val_dice_coef_anti: 0.5449 - val_dice_coef_cyc: 0.5941 - val_dice_coef_nn: 0.8939 - val_mean_dice_coef: 0.6776 - val_weighted_mean_dice_coef: 0.5822 - lr: 6.0000e-05\n",
      "Epoch 3/80\n",
      "1100/1100 [==============================] - ETA: 0s - loss: 0.3308 - categorical_accuracy: 0.9077 - dice_coef_anti: 0.6683 - dice_coef_cyc: 0.6500 - dice_coef_nn: 0.9464 - mean_dice_coef: 0.7549 - weighted_mean_dice_coef: 0.6692\n",
      "Epoch 3: val_loss improved from 0.41780 to 0.35279, saving model to D:\\EddyNet\\EddyNet-master\\EddyNet_new\\weights\\ResNet_FPN_Attention_6e_5.keras\n",
      "1100/1100 [==============================] - 118s 107ms/step - loss: 0.3308 - categorical_accuracy: 0.9077 - dice_coef_anti: 0.6683 - dice_coef_cyc: 0.6500 - dice_coef_nn: 0.9464 - mean_dice_coef: 0.7549 - weighted_mean_dice_coef: 0.6692 - val_loss: 0.3528 - val_categorical_accuracy: 0.8750 - val_dice_coef_anti: 0.6015 - val_dice_coef_cyc: 0.6694 - val_dice_coef_nn: 0.9245 - val_mean_dice_coef: 0.7318 - val_weighted_mean_dice_coef: 0.6472 - lr: 6.0000e-05\n",
      "Epoch 4/80\n",
      "1100/1100 [==============================] - ETA: 0s - loss: 0.3082 - categorical_accuracy: 0.9146 - dice_coef_anti: 0.6906 - dice_coef_cyc: 0.6742 - dice_coef_nn: 0.9505 - mean_dice_coef: 0.7718 - weighted_mean_dice_coef: 0.6918\n",
      "Epoch 4: val_loss improved from 0.35279 to 0.32945, saving model to D:\\EddyNet\\EddyNet-master\\EddyNet_new\\weights\\ResNet_FPN_Attention_6e_5.keras\n",
      "1100/1100 [==============================] - 117s 107ms/step - loss: 0.3082 - categorical_accuracy: 0.9146 - dice_coef_anti: 0.6906 - dice_coef_cyc: 0.6742 - dice_coef_nn: 0.9505 - mean_dice_coef: 0.7718 - weighted_mean_dice_coef: 0.6918 - val_loss: 0.3294 - val_categorical_accuracy: 0.8914 - val_dice_coef_anti: 0.6599 - val_dice_coef_cyc: 0.6613 - val_dice_coef_nn: 0.9351 - val_mean_dice_coef: 0.7521 - val_weighted_mean_dice_coef: 0.6706 - lr: 6.0000e-05\n",
      "Epoch 5/80\n",
      "1100/1100 [==============================] - ETA: 0s - loss: 0.2897 - categorical_accuracy: 0.9201 - dice_coef_anti: 0.7082 - dice_coef_cyc: 0.6945 - dice_coef_nn: 0.9537 - mean_dice_coef: 0.7855 - weighted_mean_dice_coef: 0.7103\n",
      "Epoch 5: val_loss improved from 0.32945 to 0.30574, saving model to D:\\EddyNet\\EddyNet-master\\EddyNet_new\\weights\\ResNet_FPN_Attention_6e_5.keras\n",
      "1100/1100 [==============================] - 117s 106ms/step - loss: 0.2897 - categorical_accuracy: 0.9201 - dice_coef_anti: 0.7082 - dice_coef_cyc: 0.6945 - dice_coef_nn: 0.9537 - mean_dice_coef: 0.7855 - weighted_mean_dice_coef: 0.7103 - val_loss: 0.3057 - val_categorical_accuracy: 0.9001 - val_dice_coef_anti: 0.7053 - val_dice_coef_cyc: 0.6662 - val_dice_coef_nn: 0.9404 - val_mean_dice_coef: 0.7706 - val_weighted_mean_dice_coef: 0.6943 - lr: 6.0000e-05\n",
      "Epoch 6/80\n",
      "1100/1100 [==============================] - ETA: 0s - loss: 0.2769 - categorical_accuracy: 0.9238 - dice_coef_anti: 0.7204 - dice_coef_cyc: 0.7088 - dice_coef_nn: 0.9559 - mean_dice_coef: 0.7950 - weighted_mean_dice_coef: 0.7231\n",
      "Epoch 6: val_loss improved from 0.30574 to 0.28585, saving model to D:\\EddyNet\\EddyNet-master\\EddyNet_new\\weights\\ResNet_FPN_Attention_6e_5.keras\n",
      "1100/1100 [==============================] - 118s 107ms/step - loss: 0.2769 - categorical_accuracy: 0.9238 - dice_coef_anti: 0.7204 - dice_coef_cyc: 0.7088 - dice_coef_nn: 0.9559 - mean_dice_coef: 0.7950 - weighted_mean_dice_coef: 0.7231 - val_loss: 0.2858 - val_categorical_accuracy: 0.9102 - val_dice_coef_anti: 0.7039 - val_dice_coef_cyc: 0.7068 - val_dice_coef_nn: 0.9468 - val_mean_dice_coef: 0.7858 - val_weighted_mean_dice_coef: 0.7142 - lr: 6.0000e-05\n",
      "Epoch 7/80\n",
      "1100/1100 [==============================] - ETA: 0s - loss: 0.2656 - categorical_accuracy: 0.9272 - dice_coef_anti: 0.7317 - dice_coef_cyc: 0.7208 - dice_coef_nn: 0.9578 - mean_dice_coef: 0.8034 - weighted_mean_dice_coef: 0.7344\n",
      "Epoch 7: val_loss improved from 0.28585 to 0.27242, saving model to D:\\EddyNet\\EddyNet-master\\EddyNet_new\\weights\\ResNet_FPN_Attention_6e_5.keras\n",
      "1100/1100 [==============================] - 119s 108ms/step - loss: 0.2656 - categorical_accuracy: 0.9272 - dice_coef_anti: 0.7317 - dice_coef_cyc: 0.7208 - dice_coef_nn: 0.9578 - mean_dice_coef: 0.8034 - weighted_mean_dice_coef: 0.7344 - val_loss: 0.2724 - val_categorical_accuracy: 0.9148 - val_dice_coef_anti: 0.7211 - val_dice_coef_cyc: 0.7175 - val_dice_coef_nn: 0.9495 - val_mean_dice_coef: 0.7960 - val_weighted_mean_dice_coef: 0.7276 - lr: 6.0000e-05\n",
      "Epoch 8/80\n",
      "1100/1100 [==============================] - ETA: 0s - loss: 0.2573 - categorical_accuracy: 0.9297 - dice_coef_anti: 0.7399 - dice_coef_cyc: 0.7296 - dice_coef_nn: 0.9593 - mean_dice_coef: 0.8096 - weighted_mean_dice_coef: 0.7427\n",
      "Epoch 8: val_loss improved from 0.27242 to 0.26368, saving model to D:\\EddyNet\\EddyNet-master\\EddyNet_new\\weights\\ResNet_FPN_Attention_6e_5.keras\n",
      "1100/1100 [==============================] - 118s 108ms/step - loss: 0.2573 - categorical_accuracy: 0.9297 - dice_coef_anti: 0.7399 - dice_coef_cyc: 0.7296 - dice_coef_nn: 0.9593 - mean_dice_coef: 0.8096 - weighted_mean_dice_coef: 0.7427 - val_loss: 0.2637 - val_categorical_accuracy: 0.9186 - val_dice_coef_anti: 0.7447 - val_dice_coef_cyc: 0.7130 - val_dice_coef_nn: 0.9519 - val_mean_dice_coef: 0.8032 - val_weighted_mean_dice_coef: 0.7363 - lr: 6.0000e-05\n",
      "Epoch 9/80\n",
      "1100/1100 [==============================] - ETA: 0s - loss: 0.2505 - categorical_accuracy: 0.9316 - dice_coef_anti: 0.7466 - dice_coef_cyc: 0.7370 - dice_coef_nn: 0.9605 - mean_dice_coef: 0.8147 - weighted_mean_dice_coef: 0.7495\n",
      "Epoch 9: val_loss did not improve from 0.26368\n",
      "1100/1100 [==============================] - 118s 108ms/step - loss: 0.2505 - categorical_accuracy: 0.9316 - dice_coef_anti: 0.7466 - dice_coef_cyc: 0.7370 - dice_coef_nn: 0.9605 - mean_dice_coef: 0.8147 - weighted_mean_dice_coef: 0.7495 - val_loss: 0.2678 - val_categorical_accuracy: 0.9144 - val_dice_coef_anti: 0.7118 - val_dice_coef_cyc: 0.7352 - val_dice_coef_nn: 0.9492 - val_mean_dice_coef: 0.7987 - val_weighted_mean_dice_coef: 0.7322 - lr: 6.0000e-05\n",
      "Epoch 10/80\n",
      "1100/1100 [==============================] - ETA: 0s - loss: 0.2435 - categorical_accuracy: 0.9334 - dice_coef_anti: 0.7538 - dice_coef_cyc: 0.7441 - dice_coef_nn: 0.9615 - mean_dice_coef: 0.8198 - weighted_mean_dice_coef: 0.7565\n",
      "Epoch 10: val_loss improved from 0.26368 to 0.25289, saving model to D:\\EddyNet\\EddyNet-master\\EddyNet_new\\weights\\ResNet_FPN_Attention_6e_5.keras\n",
      "1100/1100 [==============================] - 118s 108ms/step - loss: 0.2435 - categorical_accuracy: 0.9334 - dice_coef_anti: 0.7538 - dice_coef_cyc: 0.7441 - dice_coef_nn: 0.9615 - mean_dice_coef: 0.8198 - weighted_mean_dice_coef: 0.7565 - val_loss: 0.2529 - val_categorical_accuracy: 0.9224 - val_dice_coef_anti: 0.7495 - val_dice_coef_cyc: 0.7299 - val_dice_coef_nn: 0.9541 - val_mean_dice_coef: 0.8112 - val_weighted_mean_dice_coef: 0.7471 - lr: 6.0000e-05\n"
     ]
    },
    {
     "name": "stdout",
     "output_type": "stream",
     "text": [
      "Epoch 11/80\n",
      "1100/1100 [==============================] - ETA: 0s - loss: 0.2394 - categorical_accuracy: 0.9348 - dice_coef_anti: 0.7589 - dice_coef_cyc: 0.7476 - dice_coef_nn: 0.9623 - mean_dice_coef: 0.8229 - weighted_mean_dice_coef: 0.7606\n",
      "Epoch 11: val_loss improved from 0.25289 to 0.25044, saving model to D:\\EddyNet\\EddyNet-master\\EddyNet_new\\weights\\ResNet_FPN_Attention_6e_5.keras\n",
      "1100/1100 [==============================] - 118s 107ms/step - loss: 0.2394 - categorical_accuracy: 0.9348 - dice_coef_anti: 0.7589 - dice_coef_cyc: 0.7476 - dice_coef_nn: 0.9623 - mean_dice_coef: 0.8229 - weighted_mean_dice_coef: 0.7606 - val_loss: 0.2504 - val_categorical_accuracy: 0.9217 - val_dice_coef_anti: 0.7411 - val_dice_coef_cyc: 0.7426 - val_dice_coef_nn: 0.9536 - val_mean_dice_coef: 0.8124 - val_weighted_mean_dice_coef: 0.7496 - lr: 6.0000e-05\n",
      "Epoch 12/80\n",
      "1100/1100 [==============================] - ETA: 0s - loss: 0.2342 - categorical_accuracy: 0.9361 - dice_coef_anti: 0.7640 - dice_coef_cyc: 0.7531 - dice_coef_nn: 0.9631 - mean_dice_coef: 0.8267 - weighted_mean_dice_coef: 0.7658\n",
      "Epoch 12: val_loss improved from 0.25044 to 0.25012, saving model to D:\\EddyNet\\EddyNet-master\\EddyNet_new\\weights\\ResNet_FPN_Attention_6e_5.keras\n",
      "1100/1100 [==============================] - 118s 107ms/step - loss: 0.2342 - categorical_accuracy: 0.9361 - dice_coef_anti: 0.7640 - dice_coef_cyc: 0.7531 - dice_coef_nn: 0.9631 - mean_dice_coef: 0.8267 - weighted_mean_dice_coef: 0.7658 - val_loss: 0.2501 - val_categorical_accuracy: 0.9220 - val_dice_coef_anti: 0.7512 - val_dice_coef_cyc: 0.7339 - val_dice_coef_nn: 0.9538 - val_mean_dice_coef: 0.8130 - val_weighted_mean_dice_coef: 0.7499 - lr: 6.0000e-05\n",
      "Epoch 13/80\n",
      "1100/1100 [==============================] - ETA: 0s - loss: 0.2304 - categorical_accuracy: 0.9372 - dice_coef_anti: 0.7678 - dice_coef_cyc: 0.7572 - dice_coef_nn: 0.9637 - mean_dice_coef: 0.8295 - weighted_mean_dice_coef: 0.7696\n",
      "Epoch 13: val_loss improved from 0.25012 to 0.24990, saving model to D:\\EddyNet\\EddyNet-master\\EddyNet_new\\weights\\ResNet_FPN_Attention_6e_5.keras\n",
      "1100/1100 [==============================] - 119s 108ms/step - loss: 0.2304 - categorical_accuracy: 0.9372 - dice_coef_anti: 0.7678 - dice_coef_cyc: 0.7572 - dice_coef_nn: 0.9637 - mean_dice_coef: 0.8295 - weighted_mean_dice_coef: 0.7696 - val_loss: 0.2499 - val_categorical_accuracy: 0.9204 - val_dice_coef_anti: 0.7303 - val_dice_coef_cyc: 0.7537 - val_dice_coef_nn: 0.9527 - val_mean_dice_coef: 0.8122 - val_weighted_mean_dice_coef: 0.7501 - lr: 6.0000e-05\n",
      "Epoch 14/80\n",
      "1100/1100 [==============================] - ETA: 0s - loss: 0.2263 - categorical_accuracy: 0.9384 - dice_coef_anti: 0.7717 - dice_coef_cyc: 0.7617 - dice_coef_nn: 0.9644 - mean_dice_coef: 0.8326 - weighted_mean_dice_coef: 0.7737\n",
      "Epoch 14: val_loss improved from 0.24990 to 0.23045, saving model to D:\\EddyNet\\EddyNet-master\\EddyNet_new\\weights\\ResNet_FPN_Attention_6e_5.keras\n",
      "1100/1100 [==============================] - 119s 108ms/step - loss: 0.2263 - categorical_accuracy: 0.9384 - dice_coef_anti: 0.7717 - dice_coef_cyc: 0.7617 - dice_coef_nn: 0.9644 - mean_dice_coef: 0.8326 - weighted_mean_dice_coef: 0.7737 - val_loss: 0.2305 - val_categorical_accuracy: 0.9308 - val_dice_coef_anti: 0.7731 - val_dice_coef_cyc: 0.7525 - val_dice_coef_nn: 0.9593 - val_mean_dice_coef: 0.8283 - val_weighted_mean_dice_coef: 0.7695 - lr: 6.0000e-05\n",
      "Epoch 15/80\n",
      "1100/1100 [==============================] - ETA: 0s - loss: 0.2223 - categorical_accuracy: 0.9396 - dice_coef_anti: 0.7759 - dice_coef_cyc: 0.7658 - dice_coef_nn: 0.9651 - mean_dice_coef: 0.8356 - weighted_mean_dice_coef: 0.7777\n",
      "Epoch 15: val_loss improved from 0.23045 to 0.21580, saving model to D:\\EddyNet\\EddyNet-master\\EddyNet_new\\weights\\ResNet_FPN_Attention_6e_5.keras\n",
      "1100/1100 [==============================] - 119s 108ms/step - loss: 0.2223 - categorical_accuracy: 0.9396 - dice_coef_anti: 0.7759 - dice_coef_cyc: 0.7658 - dice_coef_nn: 0.9651 - mean_dice_coef: 0.8356 - weighted_mean_dice_coef: 0.7777 - val_loss: 0.2158 - val_categorical_accuracy: 0.9372 - val_dice_coef_anti: 0.7819 - val_dice_coef_cyc: 0.7734 - val_dice_coef_nn: 0.9632 - val_mean_dice_coef: 0.8395 - val_weighted_mean_dice_coef: 0.7842 - lr: 6.0000e-05\n",
      "Epoch 16/80\n",
      "1100/1100 [==============================] - ETA: 0s - loss: 0.2198 - categorical_accuracy: 0.9404 - dice_coef_anti: 0.7782 - dice_coef_cyc: 0.7686 - dice_coef_nn: 0.9655 - mean_dice_coef: 0.8375 - weighted_mean_dice_coef: 0.7802\n",
      "Epoch 16: val_loss did not improve from 0.21580\n",
      "1100/1100 [==============================] - 118s 107ms/step - loss: 0.2198 - categorical_accuracy: 0.9404 - dice_coef_anti: 0.7782 - dice_coef_cyc: 0.7686 - dice_coef_nn: 0.9655 - mean_dice_coef: 0.8375 - weighted_mean_dice_coef: 0.7802 - val_loss: 0.2213 - val_categorical_accuracy: 0.9342 - val_dice_coef_anti: 0.7879 - val_dice_coef_cyc: 0.7570 - val_dice_coef_nn: 0.9613 - val_mean_dice_coef: 0.8354 - val_weighted_mean_dice_coef: 0.7787 - lr: 6.0000e-05\n",
      "Epoch 17/80\n",
      "1100/1100 [==============================] - ETA: 0s - loss: 0.2167 - categorical_accuracy: 0.9412 - dice_coef_anti: 0.7820 - dice_coef_cyc: 0.7712 - dice_coef_nn: 0.9660 - mean_dice_coef: 0.8397 - weighted_mean_dice_coef: 0.7833\n",
      "Epoch 17: val_loss did not improve from 0.21580\n",
      "1100/1100 [==============================] - 118s 107ms/step - loss: 0.2167 - categorical_accuracy: 0.9412 - dice_coef_anti: 0.7820 - dice_coef_cyc: 0.7712 - dice_coef_nn: 0.9660 - mean_dice_coef: 0.8397 - weighted_mean_dice_coef: 0.7833 - val_loss: 0.2432 - val_categorical_accuracy: 0.9228 - val_dice_coef_anti: 0.7529 - val_dice_coef_cyc: 0.7460 - val_dice_coef_nn: 0.9541 - val_mean_dice_coef: 0.8177 - val_weighted_mean_dice_coef: 0.7568 - lr: 6.0000e-05\n",
      "Epoch 18/80\n",
      "1100/1100 [==============================] - ETA: 0s - loss: 0.2141 - categorical_accuracy: 0.9419 - dice_coef_anti: 0.7842 - dice_coef_cyc: 0.7744 - dice_coef_nn: 0.9664 - mean_dice_coef: 0.8417 - weighted_mean_dice_coef: 0.7859\n",
      "Epoch 18: val_loss did not improve from 0.21580\n",
      "1100/1100 [==============================] - 118s 107ms/step - loss: 0.2141 - categorical_accuracy: 0.9419 - dice_coef_anti: 0.7842 - dice_coef_cyc: 0.7744 - dice_coef_nn: 0.9664 - mean_dice_coef: 0.8417 - weighted_mean_dice_coef: 0.7859 - val_loss: 0.2167 - val_categorical_accuracy: 0.9353 - val_dice_coef_anti: 0.7814 - val_dice_coef_cyc: 0.7722 - val_dice_coef_nn: 0.9620 - val_mean_dice_coef: 0.8385 - val_weighted_mean_dice_coef: 0.7833 - lr: 6.0000e-05\n",
      "Epoch 19/80\n",
      "1100/1100 [==============================] - ETA: 0s - loss: 0.2113 - categorical_accuracy: 0.9427 - dice_coef_anti: 0.7867 - dice_coef_cyc: 0.7777 - dice_coef_nn: 0.9669 - mean_dice_coef: 0.8438 - weighted_mean_dice_coef: 0.7887\n",
      "Epoch 19: val_loss did not improve from 0.21580\n",
      "1100/1100 [==============================] - 118s 108ms/step - loss: 0.2113 - categorical_accuracy: 0.9427 - dice_coef_anti: 0.7867 - dice_coef_cyc: 0.7777 - dice_coef_nn: 0.9669 - mean_dice_coef: 0.8438 - weighted_mean_dice_coef: 0.7887 - val_loss: 0.2189 - val_categorical_accuracy: 0.9339 - val_dice_coef_anti: 0.7818 - val_dice_coef_cyc: 0.7675 - val_dice_coef_nn: 0.9611 - val_mean_dice_coef: 0.8368 - val_weighted_mean_dice_coef: 0.7811 - lr: 6.0000e-05\n",
      "Epoch 20/80\n",
      "1100/1100 [==============================] - ETA: 0s - loss: 0.2088 - categorical_accuracy: 0.9435 - dice_coef_anti: 0.7898 - dice_coef_cyc: 0.7797 - dice_coef_nn: 0.9673 - mean_dice_coef: 0.8456 - weighted_mean_dice_coef: 0.7912\n",
      "Epoch 20: val_loss did not improve from 0.21580\n",
      "1100/1100 [==============================] - 118s 107ms/step - loss: 0.2088 - categorical_accuracy: 0.9435 - dice_coef_anti: 0.7898 - dice_coef_cyc: 0.7797 - dice_coef_nn: 0.9673 - mean_dice_coef: 0.8456 - weighted_mean_dice_coef: 0.7912 - val_loss: 0.2193 - val_categorical_accuracy: 0.9344 - val_dice_coef_anti: 0.7771 - val_dice_coef_cyc: 0.7709 - val_dice_coef_nn: 0.9614 - val_mean_dice_coef: 0.8365 - val_weighted_mean_dice_coef: 0.7807 - lr: 6.0000e-05\n",
      "Epoch 21/80\n",
      "1100/1100 [==============================] - ETA: 0s - loss: 0.2065 - categorical_accuracy: 0.9441 - dice_coef_anti: 0.7921 - dice_coef_cyc: 0.7822 - dice_coef_nn: 0.9677 - mean_dice_coef: 0.8473 - weighted_mean_dice_coef: 0.7935\n",
      "Epoch 21: val_loss did not improve from 0.21580\n",
      "\n",
      "Epoch 21: ReduceLROnPlateau reducing learning rate to 2.9999999242136255e-05.\n",
      "1100/1100 [==============================] - 119s 108ms/step - loss: 0.2065 - categorical_accuracy: 0.9441 - dice_coef_anti: 0.7921 - dice_coef_cyc: 0.7822 - dice_coef_nn: 0.9677 - mean_dice_coef: 0.8473 - weighted_mean_dice_coef: 0.7935 - val_loss: 0.2162 - val_categorical_accuracy: 0.9356 - val_dice_coef_anti: 0.7961 - val_dice_coef_cyc: 0.7596 - val_dice_coef_nn: 0.9621 - val_mean_dice_coef: 0.8392 - val_weighted_mean_dice_coef: 0.7838 - lr: 6.0000e-05\n",
      "Epoch 22/80\n",
      "1100/1100 [==============================] - ETA: 0s - loss: 0.2008 - categorical_accuracy: 0.9456 - dice_coef_anti: 0.7974 - dice_coef_cyc: 0.7885 - dice_coef_nn: 0.9686 - mean_dice_coef: 0.8515 - weighted_mean_dice_coef: 0.7992\n",
      "Epoch 22: val_loss improved from 0.21580 to 0.20112, saving model to D:\\EddyNet\\EddyNet-master\\EddyNet_new\\weights\\ResNet_FPN_Attention_6e_5.keras\n",
      "1100/1100 [==============================] - 119s 108ms/step - loss: 0.2008 - categorical_accuracy: 0.9456 - dice_coef_anti: 0.7974 - dice_coef_cyc: 0.7885 - dice_coef_nn: 0.9686 - mean_dice_coef: 0.8515 - weighted_mean_dice_coef: 0.7992 - val_loss: 0.2011 - val_categorical_accuracy: 0.9415 - val_dice_coef_anti: 0.8109 - val_dice_coef_cyc: 0.7757 - val_dice_coef_nn: 0.9658 - val_mean_dice_coef: 0.8508 - val_weighted_mean_dice_coef: 0.7989 - lr: 3.0000e-05\n",
      "Epoch 23/80\n",
      "1100/1100 [==============================] - ETA: 0s - loss: 0.1993 - categorical_accuracy: 0.9460 - dice_coef_anti: 0.7987 - dice_coef_cyc: 0.7903 - dice_coef_nn: 0.9688 - mean_dice_coef: 0.8526 - weighted_mean_dice_coef: 0.8007\n",
      "Epoch 23: val_loss improved from 0.20112 to 0.19480, saving model to D:\\EddyNet\\EddyNet-master\\EddyNet_new\\weights\\ResNet_FPN_Attention_6e_5.keras\n",
      "1100/1100 [==============================] - 119s 108ms/step - loss: 0.1993 - categorical_accuracy: 0.9460 - dice_coef_anti: 0.7987 - dice_coef_cyc: 0.7903 - dice_coef_nn: 0.9688 - mean_dice_coef: 0.8526 - weighted_mean_dice_coef: 0.8007 - val_loss: 0.1948 - val_categorical_accuracy: 0.9443 - val_dice_coef_anti: 0.8100 - val_dice_coef_cyc: 0.7891 - val_dice_coef_nn: 0.9675 - val_mean_dice_coef: 0.8555 - val_weighted_mean_dice_coef: 0.8052 - lr: 3.0000e-05\n",
      "Epoch 24/80\n",
      "1100/1100 [==============================] - ETA: 0s - loss: 0.1991 - categorical_accuracy: 0.9462 - dice_coef_anti: 0.7992 - dice_coef_cyc: 0.7903 - dice_coef_nn: 0.9689 - mean_dice_coef: 0.8528 - weighted_mean_dice_coef: 0.8009\n",
      "Epoch 24: val_loss did not improve from 0.19480\n",
      "1100/1100 [==============================] - 118s 107ms/step - loss: 0.1991 - categorical_accuracy: 0.9462 - dice_coef_anti: 0.7992 - dice_coef_cyc: 0.7903 - dice_coef_nn: 0.9689 - mean_dice_coef: 0.8528 - weighted_mean_dice_coef: 0.8009 - val_loss: 0.2002 - val_categorical_accuracy: 0.9417 - val_dice_coef_anti: 0.8042 - val_dice_coef_cyc: 0.7837 - val_dice_coef_nn: 0.9658 - val_mean_dice_coef: 0.8512 - val_weighted_mean_dice_coef: 0.7998 - lr: 3.0000e-05\n",
      "Epoch 25/80\n",
      "1100/1100 [==============================] - ETA: 0s - loss: 0.1981 - categorical_accuracy: 0.9463 - dice_coef_anti: 0.8006 - dice_coef_cyc: 0.7911 - dice_coef_nn: 0.9690 - mean_dice_coef: 0.8535 - weighted_mean_dice_coef: 0.8019\n",
      "Epoch 25: val_loss did not improve from 0.19480\n",
      "1100/1100 [==============================] - 119s 108ms/step - loss: 0.1981 - categorical_accuracy: 0.9463 - dice_coef_anti: 0.8006 - dice_coef_cyc: 0.7911 - dice_coef_nn: 0.9690 - mean_dice_coef: 0.8535 - weighted_mean_dice_coef: 0.8019 - val_loss: 0.1971 - val_categorical_accuracy: 0.9427 - val_dice_coef_anti: 0.8105 - val_dice_coef_cyc: 0.7839 - val_dice_coef_nn: 0.9664 - val_mean_dice_coef: 0.8536 - val_weighted_mean_dice_coef: 0.8029 - lr: 3.0000e-05\n",
      "Epoch 26/80\n",
      "1100/1100 [==============================] - ETA: 0s - loss: 0.1968 - categorical_accuracy: 0.9468 - dice_coef_anti: 0.8022 - dice_coef_cyc: 0.7921 - dice_coef_nn: 0.9692 - mean_dice_coef: 0.8545 - weighted_mean_dice_coef: 0.8032\n",
      "Epoch 26: val_loss did not improve from 0.19480\n",
      "1100/1100 [==============================] - 119s 108ms/step - loss: 0.1968 - categorical_accuracy: 0.9468 - dice_coef_anti: 0.8022 - dice_coef_cyc: 0.7921 - dice_coef_nn: 0.9692 - mean_dice_coef: 0.8545 - weighted_mean_dice_coef: 0.8032 - val_loss: 0.2003 - val_categorical_accuracy: 0.9412 - val_dice_coef_anti: 0.7992 - val_dice_coef_cyc: 0.7883 - val_dice_coef_nn: 0.9655 - val_mean_dice_coef: 0.8510 - val_weighted_mean_dice_coef: 0.7997 - lr: 3.0000e-05\n",
      "Epoch 27/80\n",
      "1100/1100 [==============================] - ETA: 0s - loss: 0.1951 - categorical_accuracy: 0.9472 - dice_coef_anti: 0.8036 - dice_coef_cyc: 0.7942 - dice_coef_nn: 0.9695 - mean_dice_coef: 0.8557 - weighted_mean_dice_coef: 0.8049\n",
      "Epoch 27: val_loss did not improve from 0.19480\n",
      "1100/1100 [==============================] - 119s 108ms/step - loss: 0.1951 - categorical_accuracy: 0.9472 - dice_coef_anti: 0.8036 - dice_coef_cyc: 0.7942 - dice_coef_nn: 0.9695 - mean_dice_coef: 0.8557 - weighted_mean_dice_coef: 0.8049 - val_loss: 0.1974 - val_categorical_accuracy: 0.9428 - val_dice_coef_anti: 0.8145 - val_dice_coef_cyc: 0.7797 - val_dice_coef_nn: 0.9665 - val_mean_dice_coef: 0.8536 - val_weighted_mean_dice_coef: 0.8026 - lr: 3.0000e-05\n",
      "Epoch 28/80\n",
      "1100/1100 [==============================] - ETA: 0s - loss: 0.1949 - categorical_accuracy: 0.9473 - dice_coef_anti: 0.8040 - dice_coef_cyc: 0.7943 - dice_coef_nn: 0.9695 - mean_dice_coef: 0.8559 - weighted_mean_dice_coef: 0.8051\n",
      "Epoch 28: val_loss did not improve from 0.19480\n",
      "1100/1100 [==============================] - 118s 108ms/step - loss: 0.1949 - categorical_accuracy: 0.9473 - dice_coef_anti: 0.8040 - dice_coef_cyc: 0.7943 - dice_coef_nn: 0.9695 - mean_dice_coef: 0.8559 - weighted_mean_dice_coef: 0.8051 - val_loss: 0.1965 - val_categorical_accuracy: 0.9425 - val_dice_coef_anti: 0.8008 - val_dice_coef_cyc: 0.7941 - val_dice_coef_nn: 0.9663 - val_mean_dice_coef: 0.8538 - val_weighted_mean_dice_coef: 0.8035 - lr: 3.0000e-05\n",
      "Epoch 29/80\n",
      "1100/1100 [==============================] - ETA: 0s - loss: 0.1934 - categorical_accuracy: 0.9477 - dice_coef_anti: 0.8052 - dice_coef_cyc: 0.7961 - dice_coef_nn: 0.9698 - mean_dice_coef: 0.8570 - weighted_mean_dice_coef: 0.8066\n",
      "Epoch 29: val_loss improved from 0.19480 to 0.19276, saving model to D:\\EddyNet\\EddyNet-master\\EddyNet_new\\weights\\ResNet_FPN_Attention_6e_5.keras\n",
      "1100/1100 [==============================] - 119s 108ms/step - loss: 0.1934 - categorical_accuracy: 0.9477 - dice_coef_anti: 0.8052 - dice_coef_cyc: 0.7961 - dice_coef_nn: 0.9698 - mean_dice_coef: 0.8570 - weighted_mean_dice_coef: 0.8066 - val_loss: 0.1928 - val_categorical_accuracy: 0.9446 - val_dice_coef_anti: 0.8175 - val_dice_coef_cyc: 0.7862 - val_dice_coef_nn: 0.9676 - val_mean_dice_coef: 0.8571 - val_weighted_mean_dice_coef: 0.8072 - lr: 3.0000e-05\n",
      "Epoch 30/80\n",
      "1100/1100 [==============================] - ETA: 0s - loss: 0.1935 - categorical_accuracy: 0.9476 - dice_coef_anti: 0.8048 - dice_coef_cyc: 0.7962 - dice_coef_nn: 0.9697 - mean_dice_coef: 0.8569 - weighted_mean_dice_coef: 0.8065\n",
      "Epoch 30: val_loss improved from 0.19276 to 0.18904, saving model to D:\\EddyNet\\EddyNet-master\\EddyNet_new\\weights\\ResNet_FPN_Attention_6e_5.keras\n",
      "1100/1100 [==============================] - 119s 108ms/step - loss: 0.1935 - categorical_accuracy: 0.9476 - dice_coef_anti: 0.8048 - dice_coef_cyc: 0.7962 - dice_coef_nn: 0.9697 - mean_dice_coef: 0.8569 - weighted_mean_dice_coef: 0.8065 - val_loss: 0.1890 - val_categorical_accuracy: 0.9457 - val_dice_coef_anti: 0.8109 - val_dice_coef_cyc: 0.7996 - val_dice_coef_nn: 0.9683 - val_mean_dice_coef: 0.8596 - val_weighted_mean_dice_coef: 0.8110 - lr: 3.0000e-05\n",
      "Epoch 31/80\n"
     ]
    },
    {
     "name": "stdout",
     "output_type": "stream",
     "text": [
      "1100/1100 [==============================] - ETA: 0s - loss: 0.1922 - categorical_accuracy: 0.9481 - dice_coef_anti: 0.8068 - dice_coef_cyc: 0.7970 - dice_coef_nn: 0.9700 - mean_dice_coef: 0.8579 - weighted_mean_dice_coef: 0.8078\n",
      "Epoch 31: val_loss did not improve from 0.18904\n",
      "1100/1100 [==============================] - 118s 108ms/step - loss: 0.1922 - categorical_accuracy: 0.9481 - dice_coef_anti: 0.8068 - dice_coef_cyc: 0.7970 - dice_coef_nn: 0.9700 - mean_dice_coef: 0.8579 - weighted_mean_dice_coef: 0.8078 - val_loss: 0.1912 - val_categorical_accuracy: 0.9448 - val_dice_coef_anti: 0.8153 - val_dice_coef_cyc: 0.7913 - val_dice_coef_nn: 0.9677 - val_mean_dice_coef: 0.8581 - val_weighted_mean_dice_coef: 0.8088 - lr: 3.0000e-05\n",
      "Epoch 32/80\n",
      "1100/1100 [==============================] - ETA: 0s - loss: 0.1914 - categorical_accuracy: 0.9482 - dice_coef_anti: 0.8070 - dice_coef_cyc: 0.7983 - dice_coef_nn: 0.9701 - mean_dice_coef: 0.8585 - weighted_mean_dice_coef: 0.8086\n",
      "Epoch 32: val_loss improved from 0.18904 to 0.18801, saving model to D:\\EddyNet\\EddyNet-master\\EddyNet_new\\weights\\ResNet_FPN_Attention_6e_5.keras\n",
      "1100/1100 [==============================] - 119s 109ms/step - loss: 0.1914 - categorical_accuracy: 0.9482 - dice_coef_anti: 0.8070 - dice_coef_cyc: 0.7983 - dice_coef_nn: 0.9701 - mean_dice_coef: 0.8585 - weighted_mean_dice_coef: 0.8086 - val_loss: 0.1880 - val_categorical_accuracy: 0.9464 - val_dice_coef_anti: 0.8175 - val_dice_coef_cyc: 0.7955 - val_dice_coef_nn: 0.9687 - val_mean_dice_coef: 0.8606 - val_weighted_mean_dice_coef: 0.8120 - lr: 3.0000e-05\n",
      "Epoch 33/80\n",
      "1100/1100 [==============================] - ETA: 0s - loss: 0.1906 - categorical_accuracy: 0.9485 - dice_coef_anti: 0.8080 - dice_coef_cyc: 0.7991 - dice_coef_nn: 0.9703 - mean_dice_coef: 0.8591 - weighted_mean_dice_coef: 0.8094\n",
      "Epoch 33: val_loss did not improve from 0.18801\n",
      "1100/1100 [==============================] - 118s 107ms/step - loss: 0.1906 - categorical_accuracy: 0.9485 - dice_coef_anti: 0.8080 - dice_coef_cyc: 0.7991 - dice_coef_nn: 0.9703 - mean_dice_coef: 0.8591 - weighted_mean_dice_coef: 0.8094 - val_loss: 0.1950 - val_categorical_accuracy: 0.9426 - val_dice_coef_anti: 0.8068 - val_dice_coef_cyc: 0.7916 - val_dice_coef_nn: 0.9663 - val_mean_dice_coef: 0.8549 - val_weighted_mean_dice_coef: 0.8050 - lr: 3.0000e-05\n",
      "Epoch 34/80\n",
      "1100/1100 [==============================] - ETA: 0s - loss: 0.1891 - categorical_accuracy: 0.9489 - dice_coef_anti: 0.8094 - dice_coef_cyc: 0.8008 - dice_coef_nn: 0.9704 - mean_dice_coef: 0.8602 - weighted_mean_dice_coef: 0.8109\n",
      "Epoch 34: val_loss did not improve from 0.18801\n",
      "1100/1100 [==============================] - 118s 108ms/step - loss: 0.1891 - categorical_accuracy: 0.9489 - dice_coef_anti: 0.8094 - dice_coef_cyc: 0.8008 - dice_coef_nn: 0.9704 - mean_dice_coef: 0.8602 - weighted_mean_dice_coef: 0.8109 - val_loss: 0.1888 - val_categorical_accuracy: 0.9458 - val_dice_coef_anti: 0.8156 - val_dice_coef_cyc: 0.7957 - val_dice_coef_nn: 0.9683 - val_mean_dice_coef: 0.8599 - val_weighted_mean_dice_coef: 0.8112 - lr: 3.0000e-05\n",
      "Epoch 35/80\n",
      "1100/1100 [==============================] - ETA: 0s - loss: 0.1886 - categorical_accuracy: 0.9490 - dice_coef_anti: 0.8095 - dice_coef_cyc: 0.8016 - dice_coef_nn: 0.9705 - mean_dice_coef: 0.8605 - weighted_mean_dice_coef: 0.8114\n",
      "Epoch 35: val_loss improved from 0.18801 to 0.18567, saving model to D:\\EddyNet\\EddyNet-master\\EddyNet_new\\weights\\ResNet_FPN_Attention_6e_5.keras\n",
      "1100/1100 [==============================] - 119s 108ms/step - loss: 0.1886 - categorical_accuracy: 0.9490 - dice_coef_anti: 0.8095 - dice_coef_cyc: 0.8016 - dice_coef_nn: 0.9705 - mean_dice_coef: 0.8605 - weighted_mean_dice_coef: 0.8114 - val_loss: 0.1857 - val_categorical_accuracy: 0.9469 - val_dice_coef_anti: 0.8223 - val_dice_coef_cyc: 0.7958 - val_dice_coef_nn: 0.9690 - val_mean_dice_coef: 0.8623 - val_weighted_mean_dice_coef: 0.8143 - lr: 3.0000e-05\n",
      "Epoch 36/80\n",
      "1100/1100 [==============================] - ETA: 0s - loss: 0.1875 - categorical_accuracy: 0.9493 - dice_coef_anti: 0.8111 - dice_coef_cyc: 0.8024 - dice_coef_nn: 0.9707 - mean_dice_coef: 0.8614 - weighted_mean_dice_coef: 0.8125\n",
      "Epoch 36: val_loss improved from 0.18567 to 0.18546, saving model to D:\\EddyNet\\EddyNet-master\\EddyNet_new\\weights\\ResNet_FPN_Attention_6e_5.keras\n",
      "1100/1100 [==============================] - 119s 108ms/step - loss: 0.1875 - categorical_accuracy: 0.9493 - dice_coef_anti: 0.8111 - dice_coef_cyc: 0.8024 - dice_coef_nn: 0.9707 - mean_dice_coef: 0.8614 - weighted_mean_dice_coef: 0.8125 - val_loss: 0.1855 - val_categorical_accuracy: 0.9470 - val_dice_coef_anti: 0.8232 - val_dice_coef_cyc: 0.7954 - val_dice_coef_nn: 0.9691 - val_mean_dice_coef: 0.8625 - val_weighted_mean_dice_coef: 0.8145 - lr: 3.0000e-05\n",
      "Epoch 37/80\n",
      "1100/1100 [==============================] - ETA: 0s - loss: 0.1867 - categorical_accuracy: 0.9495 - dice_coef_anti: 0.8116 - dice_coef_cyc: 0.8035 - dice_coef_nn: 0.9708 - mean_dice_coef: 0.8620 - weighted_mean_dice_coef: 0.8133\n",
      "Epoch 37: val_loss improved from 0.18546 to 0.18173, saving model to D:\\EddyNet\\EddyNet-master\\EddyNet_new\\weights\\ResNet_FPN_Attention_6e_5.keras\n",
      "1100/1100 [==============================] - 119s 108ms/step - loss: 0.1867 - categorical_accuracy: 0.9495 - dice_coef_anti: 0.8116 - dice_coef_cyc: 0.8035 - dice_coef_nn: 0.9708 - mean_dice_coef: 0.8620 - weighted_mean_dice_coef: 0.8133 - val_loss: 0.1817 - val_categorical_accuracy: 0.9484 - val_dice_coef_anti: 0.8262 - val_dice_coef_cyc: 0.8000 - val_dice_coef_nn: 0.9699 - val_mean_dice_coef: 0.8653 - val_weighted_mean_dice_coef: 0.8183 - lr: 3.0000e-05\n",
      "Epoch 38/80\n",
      "1100/1100 [==============================] - ETA: 0s - loss: 0.1860 - categorical_accuracy: 0.9498 - dice_coef_anti: 0.8127 - dice_coef_cyc: 0.8038 - dice_coef_nn: 0.9710 - mean_dice_coef: 0.8625 - weighted_mean_dice_coef: 0.8140\n",
      "Epoch 38: val_loss did not improve from 0.18173\n",
      "1100/1100 [==============================] - 119s 108ms/step - loss: 0.1860 - categorical_accuracy: 0.9498 - dice_coef_anti: 0.8127 - dice_coef_cyc: 0.8038 - dice_coef_nn: 0.9710 - mean_dice_coef: 0.8625 - weighted_mean_dice_coef: 0.8140 - val_loss: 0.1859 - val_categorical_accuracy: 0.9462 - val_dice_coef_anti: 0.8199 - val_dice_coef_cyc: 0.7975 - val_dice_coef_nn: 0.9685 - val_mean_dice_coef: 0.8620 - val_weighted_mean_dice_coef: 0.8141 - lr: 3.0000e-05\n",
      "Epoch 39/80\n",
      "1100/1100 [==============================] - ETA: 0s - loss: 0.1855 - categorical_accuracy: 0.9499 - dice_coef_anti: 0.8134 - dice_coef_cyc: 0.8041 - dice_coef_nn: 0.9710 - mean_dice_coef: 0.8628 - weighted_mean_dice_coef: 0.8145\n",
      "Epoch 39: val_loss did not improve from 0.18173\n",
      "1100/1100 [==============================] - 118s 108ms/step - loss: 0.1855 - categorical_accuracy: 0.9499 - dice_coef_anti: 0.8134 - dice_coef_cyc: 0.8041 - dice_coef_nn: 0.9710 - mean_dice_coef: 0.8628 - weighted_mean_dice_coef: 0.8145 - val_loss: 0.1857 - val_categorical_accuracy: 0.9461 - val_dice_coef_anti: 0.8151 - val_dice_coef_cyc: 0.8024 - val_dice_coef_nn: 0.9685 - val_mean_dice_coef: 0.8620 - val_weighted_mean_dice_coef: 0.8143 - lr: 3.0000e-05\n",
      "Epoch 40/80\n",
      "1100/1100 [==============================] - ETA: 0s - loss: 0.1849 - categorical_accuracy: 0.9501 - dice_coef_anti: 0.8135 - dice_coef_cyc: 0.8053 - dice_coef_nn: 0.9712 - mean_dice_coef: 0.8633 - weighted_mean_dice_coef: 0.8151\n",
      "Epoch 40: val_loss did not improve from 0.18173\n",
      "1100/1100 [==============================] - 118s 108ms/step - loss: 0.1849 - categorical_accuracy: 0.9501 - dice_coef_anti: 0.8135 - dice_coef_cyc: 0.8053 - dice_coef_nn: 0.9712 - mean_dice_coef: 0.8633 - weighted_mean_dice_coef: 0.8151 - val_loss: 0.1822 - val_categorical_accuracy: 0.9477 - val_dice_coef_anti: 0.8254 - val_dice_coef_cyc: 0.7998 - val_dice_coef_nn: 0.9694 - val_mean_dice_coef: 0.8649 - val_weighted_mean_dice_coef: 0.8178 - lr: 3.0000e-05\n",
      "Epoch 41/80\n",
      "1100/1100 [==============================] - ETA: 0s - loss: 0.1839 - categorical_accuracy: 0.9503 - dice_coef_anti: 0.8152 - dice_coef_cyc: 0.8057 - dice_coef_nn: 0.9713 - mean_dice_coef: 0.8641 - weighted_mean_dice_coef: 0.8161\n",
      "Epoch 41: val_loss improved from 0.18173 to 0.18029, saving model to D:\\EddyNet\\EddyNet-master\\EddyNet_new\\weights\\ResNet_FPN_Attention_6e_5.keras\n"
     ]
    },
    {
     "name": "stdout",
     "output_type": "stream",
     "text": [
      "1100/1100 [==============================] - 119s 108ms/step - loss: 0.1839 - categorical_accuracy: 0.9503 - dice_coef_anti: 0.8152 - dice_coef_cyc: 0.8057 - dice_coef_nn: 0.9713 - mean_dice_coef: 0.8641 - weighted_mean_dice_coef: 0.8161 - val_loss: 0.1803 - val_categorical_accuracy: 0.9484 - val_dice_coef_anti: 0.8266 - val_dice_coef_cyc: 0.8025 - val_dice_coef_nn: 0.9699 - val_mean_dice_coef: 0.8663 - val_weighted_mean_dice_coef: 0.8197 - lr: 3.0000e-05\n",
      "Epoch 42/80\n",
      "1100/1100 [==============================] - ETA: 0s - loss: 0.1832 - categorical_accuracy: 0.9505 - dice_coef_anti: 0.8155 - dice_coef_cyc: 0.8068 - dice_coef_nn: 0.9714 - mean_dice_coef: 0.8646 - weighted_mean_dice_coef: 0.8168\n",
      "Epoch 42: val_loss improved from 0.18029 to 0.17918, saving model to D:\\EddyNet\\EddyNet-master\\EddyNet_new\\weights\\ResNet_FPN_Attention_6e_5.keras\n",
      "1100/1100 [==============================] - 119s 108ms/step - loss: 0.1832 - categorical_accuracy: 0.9505 - dice_coef_anti: 0.8155 - dice_coef_cyc: 0.8068 - dice_coef_nn: 0.9714 - mean_dice_coef: 0.8646 - weighted_mean_dice_coef: 0.8168 - val_loss: 0.1792 - val_categorical_accuracy: 0.9493 - val_dice_coef_anti: 0.8318 - val_dice_coef_cyc: 0.7999 - val_dice_coef_nn: 0.9704 - val_mean_dice_coef: 0.8673 - val_weighted_mean_dice_coef: 0.8208 - lr: 3.0000e-05\n",
      "Epoch 43/80\n",
      "1100/1100 [==============================] - ETA: 0s - loss: 0.1828 - categorical_accuracy: 0.9505 - dice_coef_anti: 0.8151 - dice_coef_cyc: 0.8079 - dice_coef_nn: 0.9714 - mean_dice_coef: 0.8648 - weighted_mean_dice_coef: 0.8172\n",
      "Epoch 43: val_loss did not improve from 0.17918\n",
      "1100/1100 [==============================] - 119s 108ms/step - loss: 0.1828 - categorical_accuracy: 0.9505 - dice_coef_anti: 0.8151 - dice_coef_cyc: 0.8079 - dice_coef_nn: 0.9714 - mean_dice_coef: 0.8648 - weighted_mean_dice_coef: 0.8172 - val_loss: 0.1811 - val_categorical_accuracy: 0.9480 - val_dice_coef_anti: 0.8253 - val_dice_coef_cyc: 0.8021 - val_dice_coef_nn: 0.9696 - val_mean_dice_coef: 0.8657 - val_weighted_mean_dice_coef: 0.8189 - lr: 3.0000e-05\n",
      "Epoch 44/80\n",
      "1100/1100 [==============================] - ETA: 0s - loss: 0.1820 - categorical_accuracy: 0.9508 - dice_coef_anti: 0.8166 - dice_coef_cyc: 0.8083 - dice_coef_nn: 0.9716 - mean_dice_coef: 0.8655 - weighted_mean_dice_coef: 0.8180\n",
      "Epoch 44: val_loss did not improve from 0.17918\n",
      "1100/1100 [==============================] - 118s 107ms/step - loss: 0.1820 - categorical_accuracy: 0.9508 - dice_coef_anti: 0.8166 - dice_coef_cyc: 0.8083 - dice_coef_nn: 0.9716 - mean_dice_coef: 0.8655 - weighted_mean_dice_coef: 0.8180 - val_loss: 0.1817 - val_categorical_accuracy: 0.9480 - val_dice_coef_anti: 0.8259 - val_dice_coef_cyc: 0.8003 - val_dice_coef_nn: 0.9696 - val_mean_dice_coef: 0.8653 - val_weighted_mean_dice_coef: 0.8183 - lr: 3.0000e-05\n",
      "Epoch 45/80\n",
      "1100/1100 [==============================] - ETA: 0s - loss: 0.1811 - categorical_accuracy: 0.9511 - dice_coef_anti: 0.8178 - dice_coef_cyc: 0.8089 - dice_coef_nn: 0.9718 - mean_dice_coef: 0.8661 - weighted_mean_dice_coef: 0.8189\n",
      "Epoch 45: val_loss did not improve from 0.17918\n",
      "1100/1100 [==============================] - 118s 108ms/step - loss: 0.1811 - categorical_accuracy: 0.9511 - dice_coef_anti: 0.8178 - dice_coef_cyc: 0.8089 - dice_coef_nn: 0.9718 - mean_dice_coef: 0.8661 - weighted_mean_dice_coef: 0.8189 - val_loss: 0.1857 - val_categorical_accuracy: 0.9456 - val_dice_coef_anti: 0.8116 - val_dice_coef_cyc: 0.8055 - val_dice_coef_nn: 0.9681 - val_mean_dice_coef: 0.8618 - val_weighted_mean_dice_coef: 0.8143 - lr: 3.0000e-05\n",
      "Epoch 46/80\n",
      "1100/1100 [==============================] - ETA: 0s - loss: 0.1803 - categorical_accuracy: 0.9512 - dice_coef_anti: 0.8186 - dice_coef_cyc: 0.8098 - dice_coef_nn: 0.9718 - mean_dice_coef: 0.8667 - weighted_mean_dice_coef: 0.8197\n",
      "Epoch 46: val_loss improved from 0.17918 to 0.17571, saving model to D:\\EddyNet\\EddyNet-master\\EddyNet_new\\weights\\ResNet_FPN_Attention_6e_5.keras\n",
      "1100/1100 [==============================] - 119s 108ms/step - loss: 0.1803 - categorical_accuracy: 0.9512 - dice_coef_anti: 0.8186 - dice_coef_cyc: 0.8098 - dice_coef_nn: 0.9718 - mean_dice_coef: 0.8667 - weighted_mean_dice_coef: 0.8197 - val_loss: 0.1757 - val_categorical_accuracy: 0.9505 - val_dice_coef_anti: 0.8312 - val_dice_coef_cyc: 0.8073 - val_dice_coef_nn: 0.9712 - val_mean_dice_coef: 0.8699 - val_weighted_mean_dice_coef: 0.8243 - lr: 3.0000e-05\n",
      "Epoch 47/80\n",
      "1100/1100 [==============================] - ETA: 0s - loss: 0.1803 - categorical_accuracy: 0.9514 - dice_coef_anti: 0.8186 - dice_coef_cyc: 0.8098 - dice_coef_nn: 0.9719 - mean_dice_coef: 0.8667 - weighted_mean_dice_coef: 0.8197\n",
      "Epoch 47: val_loss did not improve from 0.17571\n",
      "1100/1100 [==============================] - 118s 108ms/step - loss: 0.1803 - categorical_accuracy: 0.9514 - dice_coef_anti: 0.8186 - dice_coef_cyc: 0.8098 - dice_coef_nn: 0.9719 - mean_dice_coef: 0.8667 - weighted_mean_dice_coef: 0.8197 - val_loss: 0.1783 - val_categorical_accuracy: 0.9490 - val_dice_coef_anti: 0.8199 - val_dice_coef_cyc: 0.8127 - val_dice_coef_nn: 0.9702 - val_mean_dice_coef: 0.8676 - val_weighted_mean_dice_coef: 0.8217 - lr: 3.0000e-05\n",
      "Epoch 48/80\n",
      "1100/1100 [==============================] - ETA: 0s - loss: 0.1792 - categorical_accuracy: 0.9516 - dice_coef_anti: 0.8195 - dice_coef_cyc: 0.8109 - dice_coef_nn: 0.9720 - mean_dice_coef: 0.8675 - weighted_mean_dice_coef: 0.8208\n",
      "Epoch 48: val_loss did not improve from 0.17571\n",
      "1100/1100 [==============================] - 118s 107ms/step - loss: 0.1792 - categorical_accuracy: 0.9516 - dice_coef_anti: 0.8195 - dice_coef_cyc: 0.8109 - dice_coef_nn: 0.9720 - mean_dice_coef: 0.8675 - weighted_mean_dice_coef: 0.8208 - val_loss: 0.1761 - val_categorical_accuracy: 0.9503 - val_dice_coef_anti: 0.8276 - val_dice_coef_cyc: 0.8099 - val_dice_coef_nn: 0.9710 - val_mean_dice_coef: 0.8695 - val_weighted_mean_dice_coef: 0.8239 - lr: 3.0000e-05\n",
      "Epoch 49/80\n",
      "1100/1100 [==============================] - ETA: 0s - loss: 0.1787 - categorical_accuracy: 0.9517 - dice_coef_anti: 0.8193 - dice_coef_cyc: 0.8121 - dice_coef_nn: 0.9721 - mean_dice_coef: 0.8678 - weighted_mean_dice_coef: 0.8213\n",
      "Epoch 49: val_loss did not improve from 0.17571\n",
      "1100/1100 [==============================] - 118s 107ms/step - loss: 0.1787 - categorical_accuracy: 0.9517 - dice_coef_anti: 0.8193 - dice_coef_cyc: 0.8121 - dice_coef_nn: 0.9721 - mean_dice_coef: 0.8678 - weighted_mean_dice_coef: 0.8213 - val_loss: 0.1785 - val_categorical_accuracy: 0.9493 - val_dice_coef_anti: 0.8273 - val_dice_coef_cyc: 0.8053 - val_dice_coef_nn: 0.9704 - val_mean_dice_coef: 0.8677 - val_weighted_mean_dice_coef: 0.8215 - lr: 3.0000e-05\n",
      "Epoch 50/80\n",
      "1100/1100 [==============================] - ETA: 0s - loss: 0.1783 - categorical_accuracy: 0.9519 - dice_coef_anti: 0.8202 - dice_coef_cyc: 0.8121 - dice_coef_nn: 0.9722 - mean_dice_coef: 0.8682 - weighted_mean_dice_coef: 0.8217\n",
      "Epoch 50: val_loss improved from 0.17571 to 0.17261, saving model to D:\\EddyNet\\EddyNet-master\\EddyNet_new\\weights\\ResNet_FPN_Attention_6e_5.keras\n",
      "1100/1100 [==============================] - 119s 108ms/step - loss: 0.1783 - categorical_accuracy: 0.9519 - dice_coef_anti: 0.8202 - dice_coef_cyc: 0.8121 - dice_coef_nn: 0.9722 - mean_dice_coef: 0.8682 - weighted_mean_dice_coef: 0.8217 - val_loss: 0.1726 - val_categorical_accuracy: 0.9512 - val_dice_coef_anti: 0.8353 - val_dice_coef_cyc: 0.8096 - val_dice_coef_nn: 0.9716 - val_mean_dice_coef: 0.8722 - val_weighted_mean_dice_coef: 0.8274 - lr: 3.0000e-05\n",
      "Epoch 51/80\n",
      "1100/1100 [==============================] - ETA: 0s - loss: 0.1776 - categorical_accuracy: 0.9521 - dice_coef_anti: 0.8211 - dice_coef_cyc: 0.8129 - dice_coef_nn: 0.9723 - mean_dice_coef: 0.8688 - weighted_mean_dice_coef: 0.8224\n",
      "Epoch 51: val_loss improved from 0.17261 to 0.17212, saving model to D:\\EddyNet\\EddyNet-master\\EddyNet_new\\weights\\ResNet_FPN_Attention_6e_5.keras\n",
      "1100/1100 [==============================] - 119s 108ms/step - loss: 0.1776 - categorical_accuracy: 0.9521 - dice_coef_anti: 0.8211 - dice_coef_cyc: 0.8129 - dice_coef_nn: 0.9723 - mean_dice_coef: 0.8688 - weighted_mean_dice_coef: 0.8224 - val_loss: 0.1721 - val_categorical_accuracy: 0.9514 - val_dice_coef_anti: 0.8343 - val_dice_coef_cyc: 0.8115 - val_dice_coef_nn: 0.9717 - val_mean_dice_coef: 0.8725 - val_weighted_mean_dice_coef: 0.8279 - lr: 3.0000e-05\n"
     ]
    },
    {
     "name": "stdout",
     "output_type": "stream",
     "text": [
      "Epoch 52/80\n",
      "1100/1100 [==============================] - ETA: 0s - loss: 0.1771 - categorical_accuracy: 0.9522 - dice_coef_anti: 0.8215 - dice_coef_cyc: 0.8133 - dice_coef_nn: 0.9724 - mean_dice_coef: 0.8691 - weighted_mean_dice_coef: 0.8229\n",
      "Epoch 52: val_loss did not improve from 0.17212\n",
      "1100/1100 [==============================] - 119s 108ms/step - loss: 0.1771 - categorical_accuracy: 0.9522 - dice_coef_anti: 0.8215 - dice_coef_cyc: 0.8133 - dice_coef_nn: 0.9724 - mean_dice_coef: 0.8691 - weighted_mean_dice_coef: 0.8229 - val_loss: 0.1767 - val_categorical_accuracy: 0.9494 - val_dice_coef_anti: 0.8226 - val_dice_coef_cyc: 0.8134 - val_dice_coef_nn: 0.9705 - val_mean_dice_coef: 0.8688 - val_weighted_mean_dice_coef: 0.8233 - lr: 3.0000e-05\n",
      "Epoch 53/80\n",
      "1100/1100 [==============================] - ETA: 0s - loss: 0.1769 - categorical_accuracy: 0.9523 - dice_coef_anti: 0.8219 - dice_coef_cyc: 0.8135 - dice_coef_nn: 0.9724 - mean_dice_coef: 0.8693 - weighted_mean_dice_coef: 0.8231\n",
      "Epoch 53: val_loss did not improve from 0.17212\n",
      "1100/1100 [==============================] - 118s 108ms/step - loss: 0.1769 - categorical_accuracy: 0.9523 - dice_coef_anti: 0.8219 - dice_coef_cyc: 0.8135 - dice_coef_nn: 0.9724 - mean_dice_coef: 0.8693 - weighted_mean_dice_coef: 0.8231 - val_loss: 0.1741 - val_categorical_accuracy: 0.9510 - val_dice_coef_anti: 0.8373 - val_dice_coef_cyc: 0.8048 - val_dice_coef_nn: 0.9715 - val_mean_dice_coef: 0.8712 - val_weighted_mean_dice_coef: 0.8259 - lr: 3.0000e-05\n",
      "Epoch 54/80\n",
      "1100/1100 [==============================] - ETA: 0s - loss: 0.1756 - categorical_accuracy: 0.9526 - dice_coef_anti: 0.8224 - dice_coef_cyc: 0.8155 - dice_coef_nn: 0.9726 - mean_dice_coef: 0.8701 - weighted_mean_dice_coef: 0.8244\n",
      "Epoch 54: val_loss did not improve from 0.17212\n",
      "1100/1100 [==============================] - 118s 108ms/step - loss: 0.1756 - categorical_accuracy: 0.9526 - dice_coef_anti: 0.8224 - dice_coef_cyc: 0.8155 - dice_coef_nn: 0.9726 - mean_dice_coef: 0.8701 - weighted_mean_dice_coef: 0.8244 - val_loss: 0.1747 - val_categorical_accuracy: 0.9501 - val_dice_coef_anti: 0.8323 - val_dice_coef_cyc: 0.8082 - val_dice_coef_nn: 0.9709 - val_mean_dice_coef: 0.8705 - val_weighted_mean_dice_coef: 0.8253 - lr: 3.0000e-05\n",
      "Epoch 55/80\n",
      "1100/1100 [==============================] - ETA: 0s - loss: 0.1754 - categorical_accuracy: 0.9527 - dice_coef_anti: 0.8231 - dice_coef_cyc: 0.8152 - dice_coef_nn: 0.9726 - mean_dice_coef: 0.8703 - weighted_mean_dice_coef: 0.8246\n",
      "Epoch 55: val_loss improved from 0.17212 to 0.17052, saving model to D:\\EddyNet\\EddyNet-master\\EddyNet_new\\weights\\ResNet_FPN_Attention_6e_5.keras\n",
      "1100/1100 [==============================] - 119s 108ms/step - loss: 0.1754 - categorical_accuracy: 0.9527 - dice_coef_anti: 0.8231 - dice_coef_cyc: 0.8152 - dice_coef_nn: 0.9726 - mean_dice_coef: 0.8703 - weighted_mean_dice_coef: 0.8246 - val_loss: 0.1705 - val_categorical_accuracy: 0.9523 - val_dice_coef_anti: 0.8376 - val_dice_coef_cyc: 0.8116 - val_dice_coef_nn: 0.9723 - val_mean_dice_coef: 0.8738 - val_weighted_mean_dice_coef: 0.8295 - lr: 3.0000e-05\n",
      "Epoch 56/80\n",
      "1100/1100 [==============================] - ETA: 0s - loss: 0.1752 - categorical_accuracy: 0.9527 - dice_coef_anti: 0.8239 - dice_coef_cyc: 0.8148 - dice_coef_nn: 0.9727 - mean_dice_coef: 0.8705 - weighted_mean_dice_coef: 0.8248\n",
      "Epoch 56: val_loss did not improve from 0.17052\n",
      "1100/1100 [==============================] - 118s 108ms/step - loss: 0.1752 - categorical_accuracy: 0.9527 - dice_coef_anti: 0.8239 - dice_coef_cyc: 0.8148 - dice_coef_nn: 0.9727 - mean_dice_coef: 0.8705 - weighted_mean_dice_coef: 0.8248 - val_loss: 0.1770 - val_categorical_accuracy: 0.9490 - val_dice_coef_anti: 0.8239 - val_dice_coef_cyc: 0.8115 - val_dice_coef_nn: 0.9702 - val_mean_dice_coef: 0.8685 - val_weighted_mean_dice_coef: 0.8230 - lr: 3.0000e-05\n",
      "Epoch 57/80\n",
      "1100/1100 [==============================] - ETA: 0s - loss: 0.1738 - categorical_accuracy: 0.9531 - dice_coef_anti: 0.8246 - dice_coef_cyc: 0.8170 - dice_coef_nn: 0.9729 - mean_dice_coef: 0.8715 - weighted_mean_dice_coef: 0.8262\n",
      "Epoch 57: val_loss did not improve from 0.17052\n",
      "1100/1100 [==============================] - 118s 108ms/step - loss: 0.1738 - categorical_accuracy: 0.9531 - dice_coef_anti: 0.8246 - dice_coef_cyc: 0.8170 - dice_coef_nn: 0.9729 - mean_dice_coef: 0.8715 - weighted_mean_dice_coef: 0.8262 - val_loss: 0.1724 - val_categorical_accuracy: 0.9511 - val_dice_coef_anti: 0.8318 - val_dice_coef_cyc: 0.8132 - val_dice_coef_nn: 0.9715 - val_mean_dice_coef: 0.8722 - val_weighted_mean_dice_coef: 0.8276 - lr: 3.0000e-05\n",
      "Epoch 58/80\n",
      "1100/1100 [==============================] - ETA: 0s - loss: 0.1737 - categorical_accuracy: 0.9532 - dice_coef_anti: 0.8251 - dice_coef_cyc: 0.8169 - dice_coef_nn: 0.9729 - mean_dice_coef: 0.8716 - weighted_mean_dice_coef: 0.8263\n",
      "Epoch 58: val_loss improved from 0.17052 to 0.16708, saving model to D:\\EddyNet\\EddyNet-master\\EddyNet_new\\weights\\ResNet_FPN_Attention_6e_5.keras\n",
      "1100/1100 [==============================] - 119s 108ms/step - loss: 0.1737 - categorical_accuracy: 0.9532 - dice_coef_anti: 0.8251 - dice_coef_cyc: 0.8169 - dice_coef_nn: 0.9729 - mean_dice_coef: 0.8716 - weighted_mean_dice_coef: 0.8263 - val_loss: 0.1671 - val_categorical_accuracy: 0.9534 - val_dice_coef_anti: 0.8362 - val_dice_coef_cyc: 0.8198 - val_dice_coef_nn: 0.9729 - val_mean_dice_coef: 0.8763 - val_weighted_mean_dice_coef: 0.8329 - lr: 3.0000e-05\n",
      "Epoch 59/80\n",
      "1100/1100 [==============================] - ETA: 0s - loss: 0.1732 - categorical_accuracy: 0.9532 - dice_coef_anti: 0.8253 - dice_coef_cyc: 0.8175 - dice_coef_nn: 0.9730 - mean_dice_coef: 0.8719 - weighted_mean_dice_coef: 0.8268\n",
      "Epoch 59: val_loss did not improve from 0.16708\n",
      "1100/1100 [==============================] - 119s 108ms/step - loss: 0.1732 - categorical_accuracy: 0.9532 - dice_coef_anti: 0.8253 - dice_coef_cyc: 0.8175 - dice_coef_nn: 0.9730 - mean_dice_coef: 0.8719 - weighted_mean_dice_coef: 0.8268 - val_loss: 0.1711 - val_categorical_accuracy: 0.9520 - val_dice_coef_anti: 0.8318 - val_dice_coef_cyc: 0.8159 - val_dice_coef_nn: 0.9721 - val_mean_dice_coef: 0.8733 - val_weighted_mean_dice_coef: 0.8289 - lr: 3.0000e-05\n",
      "Epoch 60/80\n",
      "1100/1100 [==============================] - ETA: 0s - loss: 0.1730 - categorical_accuracy: 0.9534 - dice_coef_anti: 0.8262 - dice_coef_cyc: 0.8172 - dice_coef_nn: 0.9730 - mean_dice_coef: 0.8722 - weighted_mean_dice_coef: 0.8270\n",
      "Epoch 60: val_loss did not improve from 0.16708\n",
      "1100/1100 [==============================] - 118s 107ms/step - loss: 0.1730 - categorical_accuracy: 0.9534 - dice_coef_anti: 0.8262 - dice_coef_cyc: 0.8172 - dice_coef_nn: 0.9730 - mean_dice_coef: 0.8722 - weighted_mean_dice_coef: 0.8270 - val_loss: 0.1709 - val_categorical_accuracy: 0.9519 - val_dice_coef_anti: 0.8397 - val_dice_coef_cyc: 0.8091 - val_dice_coef_nn: 0.9720 - val_mean_dice_coef: 0.8736 - val_weighted_mean_dice_coef: 0.8291 - lr: 3.0000e-05\n",
      "Epoch 61/80\n",
      "1100/1100 [==============================] - ETA: 0s - loss: 0.1725 - categorical_accuracy: 0.9534 - dice_coef_anti: 0.8263 - dice_coef_cyc: 0.8179 - dice_coef_nn: 0.9731 - mean_dice_coef: 0.8725 - weighted_mean_dice_coef: 0.8275\n",
      "Epoch 61: val_loss did not improve from 0.16708\n",
      "1100/1100 [==============================] - 119s 108ms/step - loss: 0.1725 - categorical_accuracy: 0.9534 - dice_coef_anti: 0.8263 - dice_coef_cyc: 0.8179 - dice_coef_nn: 0.9731 - mean_dice_coef: 0.8725 - weighted_mean_dice_coef: 0.8275 - val_loss: 0.1745 - val_categorical_accuracy: 0.9499 - val_dice_coef_anti: 0.8308 - val_dice_coef_cyc: 0.8100 - val_dice_coef_nn: 0.9707 - val_mean_dice_coef: 0.8705 - val_weighted_mean_dice_coef: 0.8255 - lr: 3.0000e-05\n",
      "Epoch 62/80\n",
      "1100/1100 [==============================] - ETA: 0s - loss: 0.1718 - categorical_accuracy: 0.9536 - dice_coef_anti: 0.8263 - dice_coef_cyc: 0.8195 - dice_coef_nn: 0.9732 - mean_dice_coef: 0.8730 - weighted_mean_dice_coef: 0.8282\n",
      "Epoch 62: val_loss did not improve from 0.16708\n",
      "1100/1100 [==============================] - 118s 107ms/step - loss: 0.1718 - categorical_accuracy: 0.9536 - dice_coef_anti: 0.8263 - dice_coef_cyc: 0.8195 - dice_coef_nn: 0.9732 - mean_dice_coef: 0.8730 - weighted_mean_dice_coef: 0.8282 - val_loss: 0.1678 - val_categorical_accuracy: 0.9528 - val_dice_coef_anti: 0.8336 - val_dice_coef_cyc: 0.8208 - val_dice_coef_nn: 0.9725 - val_mean_dice_coef: 0.8756 - val_weighted_mean_dice_coef: 0.8322 - lr: 3.0000e-05\n"
     ]
    },
    {
     "name": "stdout",
     "output_type": "stream",
     "text": [
      "Epoch 63/80\n",
      "1100/1100 [==============================] - ETA: 0s - loss: 0.1707 - categorical_accuracy: 0.9539 - dice_coef_anti: 0.8278 - dice_coef_cyc: 0.8202 - dice_coef_nn: 0.9733 - mean_dice_coef: 0.8738 - weighted_mean_dice_coef: 0.8293\n",
      "Epoch 63: val_loss did not improve from 0.16708\n",
      "1100/1100 [==============================] - 118s 107ms/step - loss: 0.1707 - categorical_accuracy: 0.9539 - dice_coef_anti: 0.8278 - dice_coef_cyc: 0.8202 - dice_coef_nn: 0.9733 - mean_dice_coef: 0.8738 - weighted_mean_dice_coef: 0.8293 - val_loss: 0.1717 - val_categorical_accuracy: 0.9509 - val_dice_coef_anti: 0.8289 - val_dice_coef_cyc: 0.8173 - val_dice_coef_nn: 0.9714 - val_mean_dice_coef: 0.8725 - val_weighted_mean_dice_coef: 0.8283 - lr: 3.0000e-05\n",
      "Epoch 64/80\n",
      "1100/1100 [==============================] - ETA: 0s - loss: 0.1709 - categorical_accuracy: 0.9539 - dice_coef_anti: 0.8276 - dice_coef_cyc: 0.8201 - dice_coef_nn: 0.9733 - mean_dice_coef: 0.8737 - weighted_mean_dice_coef: 0.8291\n",
      "Epoch 64: val_loss improved from 0.16708 to 0.16612, saving model to D:\\EddyNet\\EddyNet-master\\EddyNet_new\\weights\\ResNet_FPN_Attention_6e_5.keras\n",
      "1100/1100 [==============================] - 119s 108ms/step - loss: 0.1709 - categorical_accuracy: 0.9539 - dice_coef_anti: 0.8276 - dice_coef_cyc: 0.8201 - dice_coef_nn: 0.9733 - mean_dice_coef: 0.8737 - weighted_mean_dice_coef: 0.8291 - val_loss: 0.1661 - val_categorical_accuracy: 0.9539 - val_dice_coef_anti: 0.8406 - val_dice_coef_cyc: 0.8176 - val_dice_coef_nn: 0.9732 - val_mean_dice_coef: 0.8771 - val_weighted_mean_dice_coef: 0.8339 - lr: 3.0000e-05\n",
      "Epoch 65/80\n",
      "1100/1100 [==============================] - ETA: 0s - loss: 0.1700 - categorical_accuracy: 0.9541 - dice_coef_anti: 0.8284 - dice_coef_cyc: 0.8211 - dice_coef_nn: 0.9734 - mean_dice_coef: 0.8743 - weighted_mean_dice_coef: 0.8300\n",
      "Epoch 65: val_loss improved from 0.16612 to 0.16579, saving model to D:\\EddyNet\\EddyNet-master\\EddyNet_new\\weights\\ResNet_FPN_Attention_6e_5.keras\n",
      "1100/1100 [==============================] - 119s 108ms/step - loss: 0.1700 - categorical_accuracy: 0.9541 - dice_coef_anti: 0.8284 - dice_coef_cyc: 0.8211 - dice_coef_nn: 0.9734 - mean_dice_coef: 0.8743 - weighted_mean_dice_coef: 0.8300 - val_loss: 0.1658 - val_categorical_accuracy: 0.9536 - val_dice_coef_anti: 0.8385 - val_dice_coef_cyc: 0.8202 - val_dice_coef_nn: 0.9730 - val_mean_dice_coef: 0.8772 - val_weighted_mean_dice_coef: 0.8342 - lr: 3.0000e-05\n",
      "Epoch 66/80\n",
      "1100/1100 [==============================] - ETA: 0s - loss: 0.1700 - categorical_accuracy: 0.9541 - dice_coef_anti: 0.8286 - dice_coef_cyc: 0.8209 - dice_coef_nn: 0.9735 - mean_dice_coef: 0.8743 - weighted_mean_dice_coef: 0.8300\n",
      "Epoch 66: val_loss improved from 0.16579 to 0.16428, saving model to D:\\EddyNet\\EddyNet-master\\EddyNet_new\\weights\\ResNet_FPN_Attention_6e_5.keras\n",
      "1100/1100 [==============================] - 119s 108ms/step - loss: 0.1700 - categorical_accuracy: 0.9541 - dice_coef_anti: 0.8286 - dice_coef_cyc: 0.8209 - dice_coef_nn: 0.9735 - mean_dice_coef: 0.8743 - weighted_mean_dice_coef: 0.8300 - val_loss: 0.1643 - val_categorical_accuracy: 0.9544 - val_dice_coef_anti: 0.8422 - val_dice_coef_cyc: 0.8198 - val_dice_coef_nn: 0.9735 - val_mean_dice_coef: 0.8785 - val_weighted_mean_dice_coef: 0.8357 - lr: 3.0000e-05\n",
      "Epoch 67/80\n",
      "1100/1100 [==============================] - ETA: 0s - loss: 0.1691 - categorical_accuracy: 0.9544 - dice_coef_anti: 0.8295 - dice_coef_cyc: 0.8219 - dice_coef_nn: 0.9736 - mean_dice_coef: 0.8750 - weighted_mean_dice_coef: 0.8309\n",
      "Epoch 67: val_loss did not improve from 0.16428\n",
      "1100/1100 [==============================] - 119s 108ms/step - loss: 0.1691 - categorical_accuracy: 0.9544 - dice_coef_anti: 0.8295 - dice_coef_cyc: 0.8219 - dice_coef_nn: 0.9736 - mean_dice_coef: 0.8750 - weighted_mean_dice_coef: 0.8309 - val_loss: 0.1669 - val_categorical_accuracy: 0.9528 - val_dice_coef_anti: 0.8347 - val_dice_coef_cyc: 0.8214 - val_dice_coef_nn: 0.9725 - val_mean_dice_coef: 0.8762 - val_weighted_mean_dice_coef: 0.8331 - lr: 3.0000e-05\n",
      "Epoch 68/80\n",
      "1100/1100 [==============================] - ETA: 0s - loss: 0.1695 - categorical_accuracy: 0.9543 - dice_coef_anti: 0.8288 - dice_coef_cyc: 0.8218 - dice_coef_nn: 0.9736 - mean_dice_coef: 0.8747 - weighted_mean_dice_coef: 0.8305\n",
      "Epoch 68: val_loss did not improve from 0.16428\n",
      "1100/1100 [==============================] - 118s 108ms/step - loss: 0.1695 - categorical_accuracy: 0.9543 - dice_coef_anti: 0.8288 - dice_coef_cyc: 0.8218 - dice_coef_nn: 0.9736 - mean_dice_coef: 0.8747 - weighted_mean_dice_coef: 0.8305 - val_loss: 0.1693 - val_categorical_accuracy: 0.9519 - val_dice_coef_anti: 0.8272 - val_dice_coef_cyc: 0.8236 - val_dice_coef_nn: 0.9720 - val_mean_dice_coef: 0.8743 - val_weighted_mean_dice_coef: 0.8307 - lr: 3.0000e-05\n",
      "Epoch 69/80\n",
      "1100/1100 [==============================] - ETA: 0s - loss: 0.1689 - categorical_accuracy: 0.9544 - dice_coef_anti: 0.8297 - dice_coef_cyc: 0.8220 - dice_coef_nn: 0.9736 - mean_dice_coef: 0.8751 - weighted_mean_dice_coef: 0.8311\n",
      "Epoch 69: val_loss did not improve from 0.16428\n",
      "1100/1100 [==============================] - 119s 108ms/step - loss: 0.1689 - categorical_accuracy: 0.9544 - dice_coef_anti: 0.8297 - dice_coef_cyc: 0.8220 - dice_coef_nn: 0.9736 - mean_dice_coef: 0.8751 - weighted_mean_dice_coef: 0.8311 - val_loss: 0.1699 - val_categorical_accuracy: 0.9517 - val_dice_coef_anti: 0.8379 - val_dice_coef_cyc: 0.8126 - val_dice_coef_nn: 0.9718 - val_mean_dice_coef: 0.8741 - val_weighted_mean_dice_coef: 0.8301 - lr: 3.0000e-05\n",
      "Epoch 70/80\n",
      "1100/1100 [==============================] - ETA: 0s - loss: 0.1678 - categorical_accuracy: 0.9548 - dice_coef_anti: 0.8304 - dice_coef_cyc: 0.8235 - dice_coef_nn: 0.9738 - mean_dice_coef: 0.8759 - weighted_mean_dice_coef: 0.8322\n",
      "Epoch 70: val_loss improved from 0.16428 to 0.16275, saving model to D:\\EddyNet\\EddyNet-master\\EddyNet_new\\weights\\ResNet_FPN_Attention_6e_5.keras\n",
      "1100/1100 [==============================] - 119s 108ms/step - loss: 0.1678 - categorical_accuracy: 0.9548 - dice_coef_anti: 0.8304 - dice_coef_cyc: 0.8235 - dice_coef_nn: 0.9738 - mean_dice_coef: 0.8759 - weighted_mean_dice_coef: 0.8322 - val_loss: 0.1628 - val_categorical_accuracy: 0.9552 - val_dice_coef_anti: 0.8419 - val_dice_coef_cyc: 0.8231 - val_dice_coef_nn: 0.9740 - val_mean_dice_coef: 0.8796 - val_weighted_mean_dice_coef: 0.8372 - lr: 3.0000e-05\n",
      "Epoch 71/80\n",
      "1100/1100 [==============================] - ETA: 0s - loss: 0.1676 - categorical_accuracy: 0.9548 - dice_coef_anti: 0.8309 - dice_coef_cyc: 0.8235 - dice_coef_nn: 0.9738 - mean_dice_coef: 0.8761 - weighted_mean_dice_coef: 0.8324\n",
      "Epoch 71: val_loss did not improve from 0.16275\n",
      "1100/1100 [==============================] - 117s 107ms/step - loss: 0.1676 - categorical_accuracy: 0.9548 - dice_coef_anti: 0.8309 - dice_coef_cyc: 0.8235 - dice_coef_nn: 0.9738 - mean_dice_coef: 0.8761 - weighted_mean_dice_coef: 0.8324 - val_loss: 0.1634 - val_categorical_accuracy: 0.9543 - val_dice_coef_anti: 0.8416 - val_dice_coef_cyc: 0.8221 - val_dice_coef_nn: 0.9734 - val_mean_dice_coef: 0.8790 - val_weighted_mean_dice_coef: 0.8366 - lr: 3.0000e-05\n",
      "Epoch 72/80\n",
      "1100/1100 [==============================] - ETA: 0s - loss: 0.1670 - categorical_accuracy: 0.9550 - dice_coef_anti: 0.8314 - dice_coef_cyc: 0.8242 - dice_coef_nn: 0.9740 - mean_dice_coef: 0.8765 - weighted_mean_dice_coef: 0.8330\n",
      "Epoch 72: val_loss did not improve from 0.16275\n",
      "1100/1100 [==============================] - 119s 108ms/step - loss: 0.1670 - categorical_accuracy: 0.9550 - dice_coef_anti: 0.8314 - dice_coef_cyc: 0.8242 - dice_coef_nn: 0.9740 - mean_dice_coef: 0.8765 - weighted_mean_dice_coef: 0.8330 - val_loss: 0.1708 - val_categorical_accuracy: 0.9509 - val_dice_coef_anti: 0.8310 - val_dice_coef_cyc: 0.8173 - val_dice_coef_nn: 0.9713 - val_mean_dice_coef: 0.8732 - val_weighted_mean_dice_coef: 0.8292 - lr: 3.0000e-05\n",
      "Epoch 73/80\n",
      "1100/1100 [==============================] - ETA: 0s - loss: 0.1669 - categorical_accuracy: 0.9550 - dice_coef_anti: 0.8310 - dice_coef_cyc: 0.8249 - dice_coef_nn: 0.9740 - mean_dice_coef: 0.8766 - weighted_mean_dice_coef: 0.8331\n",
      "Epoch 73: val_loss did not improve from 0.16275\n",
      "1100/1100 [==============================] - 118s 107ms/step - loss: 0.1669 - categorical_accuracy: 0.9550 - dice_coef_anti: 0.8310 - dice_coef_cyc: 0.8249 - dice_coef_nn: 0.9740 - mean_dice_coef: 0.8766 - weighted_mean_dice_coef: 0.8331 - val_loss: 0.1645 - val_categorical_accuracy: 0.9540 - val_dice_coef_anti: 0.8377 - val_dice_coef_cyc: 0.8236 - val_dice_coef_nn: 0.9733 - val_mean_dice_coef: 0.8782 - val_weighted_mean_dice_coef: 0.8355 - lr: 3.0000e-05\n"
     ]
    },
    {
     "name": "stdout",
     "output_type": "stream",
     "text": [
      "Epoch 74/80\n",
      "1100/1100 [==============================] - ETA: 0s - loss: 0.1663 - categorical_accuracy: 0.9551 - dice_coef_anti: 0.8322 - dice_coef_cyc: 0.8249 - dice_coef_nn: 0.9740 - mean_dice_coef: 0.8770 - weighted_mean_dice_coef: 0.8337\n",
      "Epoch 74: val_loss did not improve from 0.16275\n",
      "1100/1100 [==============================] - 118s 107ms/step - loss: 0.1663 - categorical_accuracy: 0.9551 - dice_coef_anti: 0.8322 - dice_coef_cyc: 0.8249 - dice_coef_nn: 0.9740 - mean_dice_coef: 0.8770 - weighted_mean_dice_coef: 0.8337 - val_loss: 0.1658 - val_categorical_accuracy: 0.9531 - val_dice_coef_anti: 0.8386 - val_dice_coef_cyc: 0.8202 - val_dice_coef_nn: 0.9727 - val_mean_dice_coef: 0.8772 - val_weighted_mean_dice_coef: 0.8342 - lr: 3.0000e-05\n",
      "Epoch 75/80\n",
      "1100/1100 [==============================] - ETA: 0s - loss: 0.1661 - categorical_accuracy: 0.9552 - dice_coef_anti: 0.8324 - dice_coef_cyc: 0.8252 - dice_coef_nn: 0.9741 - mean_dice_coef: 0.8772 - weighted_mean_dice_coef: 0.8339\n",
      "Epoch 75: val_loss improved from 0.16275 to 0.15853, saving model to D:\\EddyNet\\EddyNet-master\\EddyNet_new\\weights\\ResNet_FPN_Attention_6e_5.keras\n",
      "1100/1100 [==============================] - 119s 108ms/step - loss: 0.1661 - categorical_accuracy: 0.9552 - dice_coef_anti: 0.8324 - dice_coef_cyc: 0.8252 - dice_coef_nn: 0.9741 - mean_dice_coef: 0.8772 - weighted_mean_dice_coef: 0.8339 - val_loss: 0.1585 - val_categorical_accuracy: 0.9567 - val_dice_coef_anti: 0.8455 - val_dice_coef_cyc: 0.8281 - val_dice_coef_nn: 0.9749 - val_mean_dice_coef: 0.8828 - val_weighted_mean_dice_coef: 0.8415 - lr: 3.0000e-05\n",
      "Epoch 76/80\n",
      "1100/1100 [==============================] - ETA: 0s - loss: 0.1657 - categorical_accuracy: 0.9553 - dice_coef_anti: 0.8327 - dice_coef_cyc: 0.8257 - dice_coef_nn: 0.9742 - mean_dice_coef: 0.8775 - weighted_mean_dice_coef: 0.8343\n",
      "Epoch 76: val_loss did not improve from 0.15853\n",
      "1100/1100 [==============================] - 119s 108ms/step - loss: 0.1657 - categorical_accuracy: 0.9553 - dice_coef_anti: 0.8327 - dice_coef_cyc: 0.8257 - dice_coef_nn: 0.9742 - mean_dice_coef: 0.8775 - weighted_mean_dice_coef: 0.8343 - val_loss: 0.1608 - val_categorical_accuracy: 0.9555 - val_dice_coef_anti: 0.8408 - val_dice_coef_cyc: 0.8279 - val_dice_coef_nn: 0.9741 - val_mean_dice_coef: 0.8809 - val_weighted_mean_dice_coef: 0.8392 - lr: 3.0000e-05\n",
      "Epoch 77/80\n",
      "1100/1100 [==============================] - ETA: 0s - loss: 0.1656 - categorical_accuracy: 0.9553 - dice_coef_anti: 0.8333 - dice_coef_cyc: 0.8252 - dice_coef_nn: 0.9742 - mean_dice_coef: 0.8776 - weighted_mean_dice_coef: 0.8344\n",
      "Epoch 77: val_loss did not improve from 0.15853\n",
      "1100/1100 [==============================] - 119s 108ms/step - loss: 0.1656 - categorical_accuracy: 0.9553 - dice_coef_anti: 0.8333 - dice_coef_cyc: 0.8252 - dice_coef_nn: 0.9742 - mean_dice_coef: 0.8776 - weighted_mean_dice_coef: 0.8344 - val_loss: 0.1669 - val_categorical_accuracy: 0.9527 - val_dice_coef_anti: 0.8342 - val_dice_coef_cyc: 0.8221 - val_dice_coef_nn: 0.9725 - val_mean_dice_coef: 0.8762 - val_weighted_mean_dice_coef: 0.8331 - lr: 3.0000e-05\n",
      "Epoch 78/80\n",
      "1100/1100 [==============================] - ETA: 0s - loss: 0.1646 - categorical_accuracy: 0.9556 - dice_coef_anti: 0.8342 - dice_coef_cyc: 0.8263 - dice_coef_nn: 0.9743 - mean_dice_coef: 0.8783 - weighted_mean_dice_coef: 0.8354\n",
      "Epoch 78: val_loss did not improve from 0.15853\n",
      "1100/1100 [==============================] - 119s 108ms/step - loss: 0.1646 - categorical_accuracy: 0.9556 - dice_coef_anti: 0.8342 - dice_coef_cyc: 0.8263 - dice_coef_nn: 0.9743 - mean_dice_coef: 0.8783 - weighted_mean_dice_coef: 0.8354 - val_loss: 0.1628 - val_categorical_accuracy: 0.9544 - val_dice_coef_anti: 0.8418 - val_dice_coef_cyc: 0.8231 - val_dice_coef_nn: 0.9735 - val_mean_dice_coef: 0.8794 - val_weighted_mean_dice_coef: 0.8372 - lr: 3.0000e-05\n",
      "Epoch 79/80\n",
      "1100/1100 [==============================] - ETA: 0s - loss: 0.1645 - categorical_accuracy: 0.9556 - dice_coef_anti: 0.8339 - dice_coef_cyc: 0.8270 - dice_coef_nn: 0.9743 - mean_dice_coef: 0.8784 - weighted_mean_dice_coef: 0.8355\n",
      "Epoch 79: val_loss did not improve from 0.15853\n",
      "1100/1100 [==============================] - 119s 108ms/step - loss: 0.1645 - categorical_accuracy: 0.9556 - dice_coef_anti: 0.8339 - dice_coef_cyc: 0.8270 - dice_coef_nn: 0.9743 - mean_dice_coef: 0.8784 - weighted_mean_dice_coef: 0.8355 - val_loss: 0.1614 - val_categorical_accuracy: 0.9550 - val_dice_coef_anti: 0.8410 - val_dice_coef_cyc: 0.8266 - val_dice_coef_nn: 0.9738 - val_mean_dice_coef: 0.8805 - val_weighted_mean_dice_coef: 0.8386 - lr: 3.0000e-05\n",
      "Epoch 80/80\n",
      "1100/1100 [==============================] - ETA: 0s - loss: 0.1647 - categorical_accuracy: 0.9556 - dice_coef_anti: 0.8341 - dice_coef_cyc: 0.8263 - dice_coef_nn: 0.9743 - mean_dice_coef: 0.8783 - weighted_mean_dice_coef: 0.8353\n",
      "Epoch 80: val_loss did not improve from 0.15853\n",
      "1100/1100 [==============================] - 118s 107ms/step - loss: 0.1647 - categorical_accuracy: 0.9556 - dice_coef_anti: 0.8341 - dice_coef_cyc: 0.8263 - dice_coef_nn: 0.9743 - mean_dice_coef: 0.8783 - weighted_mean_dice_coef: 0.8353 - val_loss: 0.1646 - val_categorical_accuracy: 0.9530 - val_dice_coef_anti: 0.8419 - val_dice_coef_cyc: 0.8195 - val_dice_coef_nn: 0.9726 - val_mean_dice_coef: 0.8780 - val_weighted_mean_dice_coef: 0.8354 - lr: 3.0000e-05\n"
     ]
    }
   ],
   "source": [
    "# 训练模型\n",
    "histeddynet=eddynet.fit(SSH_train, Seg_train_categor,\n",
    "                              epochs=80,\n",
    "                              batch_size=8,\n",
    "                              shuffle=True,\n",
    "                              verbose=1,\n",
    "                              callbacks=[modelcheck,reducecall],#,MyCallback(alpha,beta),reducecall\n",
    "                              validation_split=0.2\n",
    "                              )\n",
    " \n",
    "# 保存训练历史记录\n",
    "with open('train_history_ResNet_FPN_Attention_6e_5.npy', 'wb') as f:\n",
    "    np.save(f, histeddynet.history)"
   ]
  },
  {
   "cell_type": "code",
   "execution_count": 14,
   "id": "d602010f",
   "metadata": {
    "ExecuteTime": {
     "end_time": "2025-03-19T03:32:22.803490Z",
     "start_time": "2025-03-19T03:32:22.008647Z"
    }
   },
   "outputs": [
    {
     "data": {
      "image/png": "[encoded data removed]",
      "text/plain": [
       "<Figure size 1000x1000 with 1 Axes>"
      ]
     },
     "metadata": {},
     "output_type": "display_data"
    }
   ],
   "source": [
    "# 这段代码用于可视化模型训练过程中损失值的变化\n",
    "\n",
    "plt.figure(figsize=(10, 10))   #创建图形对象,设置图形大小为 10x10 英寸\n",
    "plt.semilogy(eddynet.history.history['loss'])\n",
    "# 使用 semilogy 函数绘制训练损失（loss）的变化。\n",
    "# semilogy 使用对数刻度显示 y 轴的值，可以更好地展示损失值的变化\n",
    "\n",
    "plt.semilogy(eddynet.history.history['val_loss'])\n",
    "# 使用 semilogy 函数绘制验证损失（val_loss）的变化。\n",
    "\n",
    "plt.title('model loss')\n",
    "plt.ylabel('loss')\n",
    "plt.xlabel('epoch')\n",
    "# 设置图表标题为 \"model loss\"。\n",
    "# 设置 y 轴标签为 \"loss\"。\n",
    "# 设置 x 轴标签为 \"epoch\"。\n",
    "\n",
    "plt.legend(['train_loss', 'val_loss'], loc='upper right');\n",
    "# 添加图例，说明两条曲线分别表示训练损失和验证损失。\n",
    "# 将图例放置在右上角（upper right）。"
   ]
  },
  {
   "cell_type": "code",
   "execution_count": 12,
   "id": "27a0a018",
   "metadata": {
    "ExecuteTime": {
     "end_time": "2025-03-19T06:24:25.081775Z",
     "start_time": "2025-03-19T06:24:25.026733Z"
    }
   },
   "outputs": [
    {
     "data": {
      "text/plain": [
       "(365, 88, 80, 1)"
      ]
     },
     "execution_count": 12,
     "metadata": {},
     "output_type": "execute_result"
    },
    {
     "data": {
      "text/plain": [
       "(365, 88, 80, 1)"
      ]
     },
     "execution_count": 12,
     "metadata": {},
     "output_type": "execute_result"
    }
   ],
   "source": [
    "SSH_test = np.expand_dims(np.load(r'D:\\jupyterProject\\eddy\\data\\2023\\npyData\\trainSla_2023_nanhai.npy'),3) #you can use all the region, in here I selected a box of 168*168 size\n",
    "# np.expand_dims(..., 3)：expand_dims 函数用于在数组中增加一个新的轴。参数 3 表示新轴被添加在原数组的第四个维度（索引从0开始）。这通常用于确保数据的维度与某些特定的数据处理或机器学习模型的输入要求相匹配。\n",
    "#######\n",
    "Seg_test = np.expand_dims(np.load(r'D:\\jupyterProject\\eddy\\data\\2023\\npyData\\trainEddy_2023_nanhai.npy'),3)\n",
    "\n",
    "SSH_test.shape\n",
    "#####\n",
    "Seg_test.shape"
   ]
  },
  {
   "cell_type": "code",
   "execution_count": 13,
   "id": "8279b676",
   "metadata": {
    "ExecuteTime": {
     "end_time": "2025-03-19T06:24:25.597399Z",
     "start_time": "2025-03-19T06:24:25.503648Z"
    }
   },
   "outputs": [
    {
     "data": {
      "text/plain": [
       "(365, 7040, 3)"
      ]
     },
     "execution_count": 13,
     "metadata": {},
     "output_type": "execute_result"
    }
   ],
   "source": [
    "Seg_test_categor = to_categorical(np.reshape(Seg_test[:,:,:,0],(365,88*80)),3)\n",
    "Seg_test_categor.shape"
   ]
  },
  {
   "cell_type": "code",
   "execution_count": 23,
   "id": "2a73344e",
   "metadata": {
    "ExecuteTime": {
     "end_time": "2025-03-19T06:41:02.950379Z",
     "start_time": "2025-03-19T06:40:54.617748Z"
    },
    "scrolled": false
   },
   "outputs": [
    {
     "name": "stdout",
     "output_type": "stream",
     "text": [
      "12/12 [==============================] - 4s 179ms/step - loss: 0.1756 - categorical_accuracy: 0.9417 - dice_coef_anti: 0.8143 - dice_coef_cyc: 0.8154 - dice_coef_nn: 0.9653 - mean_dice_coef: 0.8650 - weighted_mean_dice_coef: 0.8203\n",
      "loss: 0.1755533665418625\n",
      "categorical_accuracy: 0.9417173862457275\n",
      "dice_coef_anti: 0.8142512440681458\n",
      "dice_coef_cyc: 0.8153942227363586\n",
      "dice_coef_nn: 0.9653467535972595\n",
      "mean_dice_coef: 0.864997386932373\n",
      "weighted_mean_dice_coef: 0.8203024864196777\n"
     ]
    },
    {
     "data": {
      "text/plain": [
       "<Figure size 1200x800 with 0 Axes>"
      ]
     },
     "execution_count": 23,
     "metadata": {},
     "output_type": "execute_result"
    },
    {
     "data": {
      "text/plain": [
       "<Axes: >"
      ]
     },
     "execution_count": 23,
     "metadata": {},
     "output_type": "execute_result"
    },
    {
     "data": {
      "text/plain": [
       "[<matplotlib.lines.Line2D at 0x16637f177c0>]"
      ]
     },
     "execution_count": 23,
     "metadata": {},
     "output_type": "execute_result"
    },
    {
     "data": {
      "text/plain": [
       "Text(0.5, 1.0, 'Anti-cyclonic Eddy Dice Coefficient')"
      ]
     },
     "execution_count": 23,
     "metadata": {},
     "output_type": "execute_result"
    },
    {
     "data": {
      "text/plain": [
       "Text(0, 0.5, 'Dice Coefficient')"
      ]
     },
     "execution_count": 23,
     "metadata": {},
     "output_type": "execute_result"
    },
    {
     "data": {
      "text/plain": [
       "Text(0.5, 0, 'Epoch')"
      ]
     },
     "execution_count": 23,
     "metadata": {},
     "output_type": "execute_result"
    },
    {
     "data": {
      "text/plain": [
       "<matplotlib.legend.Legend at 0x16633431c70>"
      ]
     },
     "execution_count": 23,
     "metadata": {},
     "output_type": "execute_result"
    },
    {
     "data": {
      "text/plain": [
       "<Axes: >"
      ]
     },
     "execution_count": 23,
     "metadata": {},
     "output_type": "execute_result"
    },
    {
     "data": {
      "text/plain": [
       "[<matplotlib.lines.Line2D at 0x16637f5f220>]"
      ]
     },
     "execution_count": 23,
     "metadata": {},
     "output_type": "execute_result"
    },
    {
     "data": {
      "text/plain": [
       "[<matplotlib.lines.Line2D at 0x16637f5f4f0>]"
      ]
     },
     "execution_count": 23,
     "metadata": {},
     "output_type": "execute_result"
    },
    {
     "data": {
      "text/plain": [
       "Text(0.5, 1.0, 'Cyclonic Eddy Dice Coefficient')"
      ]
     },
     "execution_count": 23,
     "metadata": {},
     "output_type": "execute_result"
    },
    {
     "data": {
      "text/plain": [
       "Text(0, 0.5, 'Dice Coefficient')"
      ]
     },
     "execution_count": 23,
     "metadata": {},
     "output_type": "execute_result"
    },
    {
     "data": {
      "text/plain": [
       "Text(0.5, 0, 'Epoch')"
      ]
     },
     "execution_count": 23,
     "metadata": {},
     "output_type": "execute_result"
    },
    {
     "data": {
      "text/plain": [
       "<matplotlib.legend.Legend at 0x16637f08760>"
      ]
     },
     "execution_count": 23,
     "metadata": {},
     "output_type": "execute_result"
    },
    {
     "data": {
      "text/plain": [
       "<Axes: >"
      ]
     },
     "execution_count": 23,
     "metadata": {},
     "output_type": "execute_result"
    },
    {
     "data": {
      "text/plain": [
       "[<matplotlib.lines.Line2D at 0x1663478ce80>]"
      ]
     },
     "execution_count": 23,
     "metadata": {},
     "output_type": "execute_result"
    },
    {
     "data": {
      "text/plain": [
       "[<matplotlib.lines.Line2D at 0x16637fa85b0>]"
      ]
     },
     "execution_count": 23,
     "metadata": {},
     "output_type": "execute_result"
    },
    {
     "data": {
      "text/plain": [
       "Text(0.5, 1.0, 'Non-eddy Area Dice Coefficient')"
      ]
     },
     "execution_count": 23,
     "metadata": {},
     "output_type": "execute_result"
    },
    {
     "data": {
      "text/plain": [
       "Text(0, 0.5, 'Dice Coefficient')"
      ]
     },
     "execution_count": 23,
     "metadata": {},
     "output_type": "execute_result"
    },
    {
     "data": {
      "text/plain": [
       "Text(0.5, 0, 'Epoch')"
      ]
     },
     "execution_count": 23,
     "metadata": {},
     "output_type": "execute_result"
    },
    {
     "data": {
      "text/plain": [
       "<matplotlib.legend.Legend at 0x165b463c610>"
      ]
     },
     "execution_count": 23,
     "metadata": {},
     "output_type": "execute_result"
    },
    {
     "data": {
      "text/plain": [
       "<Figure size 1200x800 with 0 Axes>"
      ]
     },
     "execution_count": 23,
     "metadata": {},
     "output_type": "execute_result"
    },
    {
     "data": {
      "text/plain": [
       "[<matplotlib.lines.Line2D at 0x16634746af0>]"
      ]
     },
     "execution_count": 23,
     "metadata": {},
     "output_type": "execute_result"
    },
    {
     "data": {
      "text/plain": [
       "[<matplotlib.lines.Line2D at 0x16634746e20>]"
      ]
     },
     "execution_count": 23,
     "metadata": {},
     "output_type": "execute_result"
    },
    {
     "data": {
      "text/plain": [
       "Text(0.5, 1.0, 'Categorical Accuracy')"
      ]
     },
     "execution_count": 23,
     "metadata": {},
     "output_type": "execute_result"
    },
    {
     "data": {
      "text/plain": [
       "Text(0, 0.5, 'Accuracy')"
      ]
     },
     "execution_count": 23,
     "metadata": {},
     "output_type": "execute_result"
    },
    {
     "data": {
      "text/plain": [
       "Text(0.5, 0, 'Epoch')"
      ]
     },
     "execution_count": 23,
     "metadata": {},
     "output_type": "execute_result"
    },
    {
     "data": {
      "text/plain": [
       "<matplotlib.legend.Legend at 0x16634746c10>"
      ]
     },
     "execution_count": 23,
     "metadata": {},
     "output_type": "execute_result"
    },
    {
     "data": {
      "image/png": "[encoded data removed]",
      "text/plain": [
       "<Figure size 1200x800 with 3 Axes>"
      ]
     },
     "metadata": {},
     "output_type": "display_data"
    },
    {
     "data": {
      "image/png": "[encoded data removed]",
      "text/plain": [
       "<Figure size 1200x800 with 1 Axes>"
      ]
     },
     "metadata": {},
     "output_type": "display_data"
    }
   ],
   "source": [
    "eddynet = load_model(r'D:\\EddyNet\\EddyNet-master\\EddyNet_new\\weights\\ResNet_FPN_Attention_4e-5.keras', \n",
    "                     custom_objects={'dice_coef_anti': dice_coef_anti, \n",
    "                                     'dice_coef_cyc': dice_coef_cyc, \n",
    "                                     'dice_coef_nn': dice_coef_nn,\n",
    "                                     'mean_dice_coef': mean_dice_coef,\n",
    "                                     'weighted_mean_dice_coef': weighted_mean_dice_coef,\n",
    "                                     'dice_coef_loss': dice_coef_loss,\n",
    "                                     'Attention_block': Attention_block})  # 确保 categorical_accuracy 被包括在内\n",
    "\n",
    "# 加载训练历史记录\n",
    "with open('train_history_ResNet_FPN_Attention_4e-5.npy', 'rb') as f:\n",
    "     histeddynet = np.load(f, allow_pickle=True).item()\n",
    "\n",
    "# 现在可以直接评估模型\n",
    "results = eddynet.evaluate(SSH_test, Seg_test_categor)\n",
    "for name, value in zip(eddynet.metrics_names, results):\n",
    "    print(f\"{name}: {value}\")\n",
    " \n",
    "\n",
    "\n",
    "\n",
    "\n",
    "\n",
    "# 绘制历史记录\n",
    "plt.figure(figsize=(12, 8))\n",
    "\n",
    "# 反气旋涡的Dice系数\n",
    "plt.subplot(311)\n",
    "#plt.plot(histeddynet['dice_coef_anti'], label='Train Anti-cyclonic')\n",
    "plt.plot(histeddynet['val_dice_coef_anti'], label='Validation Anti-cyclonic')\n",
    "plt.title('Anti-cyclonic Eddy Dice Coefficient')\n",
    "plt.ylabel('Dice Coefficient')\n",
    "plt.xlabel('Epoch')\n",
    "plt.legend(loc='upper left')\n",
    "\n",
    "# 气旋涡的Dice系数\n",
    "plt.subplot(312)\n",
    "plt.plot(histeddynet['dice_coef_cyc'], label='Train Cyclonic')\n",
    "plt.plot(histeddynet['val_dice_coef_cyc'], label='Validation Cyclonic')\n",
    "plt.title('Cyclonic Eddy Dice Coefficient')\n",
    "plt.ylabel('Dice Coefficient')\n",
    "plt.xlabel('Epoch')\n",
    "plt.legend(loc='upper left')\n",
    "\n",
    "# 无涡旋区域的Dice系数\n",
    "plt.subplot(313)\n",
    "plt.plot(histeddynet['dice_coef_nn'], label='Train Non-eddy')\n",
    "plt.plot(histeddynet['val_dice_coef_nn'], label='Validation Non-eddy')\n",
    "plt.title('Non-eddy Area Dice Coefficient')\n",
    "plt.ylabel('Dice Coefficient')\n",
    "plt.xlabel('Epoch')\n",
    "plt.legend(loc='upper left')\n",
    "\n",
    "# 新增 categorical_accuracy 的绘图\n",
    "plt.figure(figsize=(12, 8))\n",
    "plt.plot(histeddynet['categorical_accuracy'], label='Train Categorical Accuracy')\n",
    "plt.plot(histeddynet['val_categorical_accuracy'], label='Validation Categorical Accuracy')\n",
    "plt.title('Categorical Accuracy')\n",
    "plt.ylabel('Accuracy')\n",
    "plt.xlabel('Epoch')\n",
    "plt.legend(loc='upper left')\n",
    "\n",
    "plt.show()"
   ]
  },
  {
   "cell_type": "code",
   "execution_count": 24,
   "id": "8ff725b9",
   "metadata": {
    "ExecuteTime": {
     "end_time": "2025-03-19T06:41:03.040849Z",
     "start_time": "2025-03-19T06:41:02.950379Z"
    },
    "scrolled": false
   },
   "outputs": [
    {
     "data": {
      "application/vnd.plotly.v1+json": {
       "config": {
        "plotlyServerURL": "https://plot.ly"
       },
       "data": [
        {
         "line": {
          "color": "blue"
         },
         "marker": {
          "size": 8
         },
         "mode": "lines+markers",
         "name": "Train Loss",
         "type": "scatter",
         "x": [
          1,
          2,
          3,
          4,
          5,
          6,
          7,
          8,
          9,
          10,
          11,
          12,
          13,
          14,
          15,
          16,
          17,
          18,
          19,
          20,
          21,
          22,
          23,
          24,
          25,
          26,
          27,
          28,
          29,
          30,
          31,
          32,
          33,
          34,
          35,
          36,
          37,
          38,
          39,
          40,
          41,
          42,
          43,
          44,
          45,
          46,
          47,
          48,
          49,
          50,
          51,
          52,
          53,
          54,
          55,
          56,
          57,
          58,
          59,
          60,
          61,
          62,
          63,
          64,
          65,
          66,
          67,
          68,
          69,
          70,
          71,
          72,
          73,
          74,
          75,
          76,
          77,
          78,
          79,
          80
         ],
         "y": [
          0.4521400034427643,
          0.3775351941585541,
          0.34899741411209106,
          0.32939884066581726,
          0.3147145211696625,
          0.2999320328235626,
          0.28756874799728394,
          0.2772088646888733,
          0.2696378231048584,
          0.26275354623794556,
          0.2566740810871124,
          0.2511707842350006,
          0.24641412496566772,
          0.24303606152534485,
          0.23930104076862335,
          0.23542480170726776,
          0.232016459107399,
          0.2291364073753357,
          0.22638069093227386,
          0.2233332395553589,
          0.22025273740291595,
          0.21838746964931488,
          0.21712416410446167,
          0.21487779915332794,
          0.2128143310546875,
          0.21045668423175812,
          0.2094878852367401,
          0.2072310745716095,
          0.2053079456090927,
          0.2046436220407486,
          0.20322468876838684,
          0.20098479092121124,
          0.20009984076023102,
          0.19863462448120117,
          0.19683058559894562,
          0.19582441449165344,
          0.19466857612133026,
          0.19428542256355286,
          0.1926826387643814,
          0.19177553057670593,
          0.1906096637248993,
          0.1896812468767166,
          0.18794937431812286,
          0.18769505620002747,
          0.18711797893047333,
          0.18644848465919495,
          0.18480829894542694,
          0.18383827805519104,
          0.18304595351219177,
          0.18237614631652832,
          0.1814732849597931,
          0.1806659698486328,
          0.1795530766248703,
          0.1786939799785614,
          0.1782294362783432,
          0.17806579172611237,
          0.17713899910449982,
          0.17665956914424896,
          0.17531168460845947,
          0.17551614344120026,
          0.17463035881519318,
          0.17361733317375183,
          0.1730256974697113,
          0.17326730489730835,
          0.17191927134990692,
          0.17077890038490295,
          0.17045395076274872,
          0.1703144758939743,
          0.16984409093856812,
          0.16920438408851624,
          0.1685880869626999,
          0.16814492642879486,
          0.16745689511299133,
          0.16694241762161255,
          0.16651809215545654,
          0.16613152623176575,
          0.16614946722984314,
          0.165215402841568,
          0.1653367131948471,
          0.16434647142887115
         ]
        }
       ],
       "layout": {
        "template": {
         "data": {
          "bar": [
           {
            "error_x": {
             "color": "#2a3f5f"
            },
            "error_y": {
             "color": "#2a3f5f"
            },
            "marker": {
             "line": {
              "color": "#E5ECF6",
              "width": 0.5
             },
             "pattern": {
              "fillmode": "overlay",
              "size": 10,
              "solidity": 0.2
             }
            },
            "type": "bar"
           }
          ],
          "barpolar": [
           {
            "marker": {
             "line": {
              "color": "#E5ECF6",
              "width": 0.5
             },
             "pattern": {
              "fillmode": "overlay",
              "size": 10,
              "solidity": 0.2
             }
            },
            "type": "barpolar"
           }
          ],
          "carpet": [
           {
            "aaxis": {
             "endlinecolor": "#2a3f5f",
             "gridcolor": "white",
             "linecolor": "white",
             "minorgridcolor": "white",
             "startlinecolor": "#2a3f5f"
            },
            "baxis": {
             "endlinecolor": "#2a3f5f",
             "gridcolor": "white",
             "linecolor": "white",
             "minorgridcolor": "white",
             "startlinecolor": "#2a3f5f"
            },
            "type": "carpet"
           }
          ],
          "choropleth": [
           {
            "colorbar": {
             "outlinewidth": 0,
             "ticks": ""
            },
            "type": "choropleth"
           }
          ],
          "contour": [
           {
            "colorbar": {
             "outlinewidth": 0,
             "ticks": ""
            },
            "colorscale": [
             [
              0,
              "#0d0887"
             ],
             [
              0.1111111111111111,
              "#46039f"
             ],
             [
              0.2222222222222222,
              "#7201a8"
             ],
             [
              0.3333333333333333,
              "#9c179e"
             ],
             [
              0.4444444444444444,
              "#bd3786"
             ],
             [
              0.5555555555555556,
              "#d8576b"
             ],
             [
              0.6666666666666666,
              "#ed7953"
             ],
             [
              0.7777777777777778,
              "#fb9f3a"
             ],
             [
              0.8888888888888888,
              "#fdca26"
             ],
             [
              1,
              "#f0f921"
             ]
            ],
            "type": "contour"
           }
          ],
          "contourcarpet": [
           {
            "colorbar": {
             "outlinewidth": 0,
             "ticks": ""
            },
            "type": "contourcarpet"
           }
          ],
          "heatmap": [
           {
            "colorbar": {
             "outlinewidth": 0,
             "ticks": ""
            },
            "colorscale": [
             [
              0,
              "#0d0887"
             ],
             [
              0.1111111111111111,
              "#46039f"
             ],
             [
              0.2222222222222222,
              "#7201a8"
             ],
             [
              0.3333333333333333,
              "#9c179e"
             ],
             [
              0.4444444444444444,
              "#bd3786"
             ],
             [
              0.5555555555555556,
              "#d8576b"
             ],
             [
              0.6666666666666666,
              "#ed7953"
             ],
             [
              0.7777777777777778,
              "#fb9f3a"
             ],
             [
              0.8888888888888888,
              "#fdca26"
             ],
             [
              1,
              "#f0f921"
             ]
            ],
            "type": "heatmap"
           }
          ],
          "heatmapgl": [
           {
            "colorbar": {
             "outlinewidth": 0,
             "ticks": ""
            },
            "colorscale": [
             [
              0,
              "#0d0887"
             ],
             [
              0.1111111111111111,
              "#46039f"
             ],
             [
              0.2222222222222222,
              "#7201a8"
             ],
             [
              0.3333333333333333,
              "#9c179e"
             ],
             [
              0.4444444444444444,
              "#bd3786"
             ],
             [
              0.5555555555555556,
              "#d8576b"
             ],
             [
              0.6666666666666666,
              "#ed7953"
             ],
             [
              0.7777777777777778,
              "#fb9f3a"
             ],
             [
              0.8888888888888888,
              "#fdca26"
             ],
             [
              1,
              "#f0f921"
             ]
            ],
            "type": "heatmapgl"
           }
          ],
          "histogram": [
           {
            "marker": {
             "pattern": {
              "fillmode": "overlay",
              "size": 10,
              "solidity": 0.2
             }
            },
            "type": "histogram"
           }
          ],
          "histogram2d": [
           {
            "colorbar": {
             "outlinewidth": 0,
             "ticks": ""
            },
            "colorscale": [
             [
              0,
              "#0d0887"
             ],
             [
              0.1111111111111111,
              "#46039f"
             ],
             [
              0.2222222222222222,
              "#7201a8"
             ],
             [
              0.3333333333333333,
              "#9c179e"
             ],
             [
              0.4444444444444444,
              "#bd3786"
             ],
             [
              0.5555555555555556,
              "#d8576b"
             ],
             [
              0.6666666666666666,
              "#ed7953"
             ],
             [
              0.7777777777777778,
              "#fb9f3a"
             ],
             [
              0.8888888888888888,
              "#fdca26"
             ],
             [
              1,
              "#f0f921"
             ]
            ],
            "type": "histogram2d"
           }
          ],
          "histogram2dcontour": [
           {
            "colorbar": {
             "outlinewidth": 0,
             "ticks": ""
            },
            "colorscale": [
             [
              0,
              "#0d0887"
             ],
             [
              0.1111111111111111,
              "#46039f"
             ],
             [
              0.2222222222222222,
              "#7201a8"
             ],
             [
              0.3333333333333333,
              "#9c179e"
             ],
             [
              0.4444444444444444,
              "#bd3786"
             ],
             [
              0.5555555555555556,
              "#d8576b"
             ],
             [
              0.6666666666666666,
              "#ed7953"
             ],
             [
              0.7777777777777778,
              "#fb9f3a"
             ],
             [
              0.8888888888888888,
              "#fdca26"
             ],
             [
              1,
              "#f0f921"
             ]
            ],
            "type": "histogram2dcontour"
           }
          ],
          "mesh3d": [
           {
            "colorbar": {
             "outlinewidth": 0,
             "ticks": ""
            },
            "type": "mesh3d"
           }
          ],
          "parcoords": [
           {
            "line": {
             "colorbar": {
              "outlinewidth": 0,
              "ticks": ""
             }
            },
            "type": "parcoords"
           }
          ],
          "pie": [
           {
            "automargin": true,
            "type": "pie"
           }
          ],
          "scatter": [
           {
            "fillpattern": {
             "fillmode": "overlay",
             "size": 10,
             "solidity": 0.2
            },
            "type": "scatter"
           }
          ],
          "scatter3d": [
           {
            "line": {
             "colorbar": {
              "outlinewidth": 0,
              "ticks": ""
             }
            },
            "marker": {
             "colorbar": {
              "outlinewidth": 0,
              "ticks": ""
             }
            },
            "type": "scatter3d"
           }
          ],
          "scattercarpet": [
           {
            "marker": {
             "colorbar": {
              "outlinewidth": 0,
              "ticks": ""
             }
            },
            "type": "scattercarpet"
           }
          ],
          "scattergeo": [
           {
            "marker": {
             "colorbar": {
              "outlinewidth": 0,
              "ticks": ""
             }
            },
            "type": "scattergeo"
           }
          ],
          "scattergl": [
           {
            "marker": {
             "colorbar": {
              "outlinewidth": 0,
              "ticks": ""
             }
            },
            "type": "scattergl"
           }
          ],
          "scattermapbox": [
           {
            "marker": {
             "colorbar": {
              "outlinewidth": 0,
              "ticks": ""
             }
            },
            "type": "scattermapbox"
           }
          ],
          "scatterpolar": [
           {
            "marker": {
             "colorbar": {
              "outlinewidth": 0,
              "ticks": ""
             }
            },
            "type": "scatterpolar"
           }
          ],
          "scatterpolargl": [
           {
            "marker": {
             "colorbar": {
              "outlinewidth": 0,
              "ticks": ""
             }
            },
            "type": "scatterpolargl"
           }
          ],
          "scatterternary": [
           {
            "marker": {
             "colorbar": {
              "outlinewidth": 0,
              "ticks": ""
             }
            },
            "type": "scatterternary"
           }
          ],
          "surface": [
           {
            "colorbar": {
             "outlinewidth": 0,
             "ticks": ""
            },
            "colorscale": [
             [
              0,
              "#0d0887"
             ],
             [
              0.1111111111111111,
              "#46039f"
             ],
             [
              0.2222222222222222,
              "#7201a8"
             ],
             [
              0.3333333333333333,
              "#9c179e"
             ],
             [
              0.4444444444444444,
              "#bd3786"
             ],
             [
              0.5555555555555556,
              "#d8576b"
             ],
             [
              0.6666666666666666,
              "#ed7953"
             ],
             [
              0.7777777777777778,
              "#fb9f3a"
             ],
             [
              0.8888888888888888,
              "#fdca26"
             ],
             [
              1,
              "#f0f921"
             ]
            ],
            "type": "surface"
           }
          ],
          "table": [
           {
            "cells": {
             "fill": {
              "color": "#EBF0F8"
             },
             "line": {
              "color": "white"
             }
            },
            "header": {
             "fill": {
              "color": "#C8D4E3"
             },
             "line": {
              "color": "white"
             }
            },
            "type": "table"
           }
          ]
         },
         "layout": {
          "annotationdefaults": {
           "arrowcolor": "#2a3f5f",
           "arrowhead": 0,
           "arrowwidth": 1
          },
          "autotypenumbers": "strict",
          "coloraxis": {
           "colorbar": {
            "outlinewidth": 0,
            "ticks": ""
           }
          },
          "colorscale": {
           "diverging": [
            [
             0,
             "#8e0152"
            ],
            [
             0.1,
             "#c51b7d"
            ],
            [
             0.2,
             "#de77ae"
            ],
            [
             0.3,
             "#f1b6da"
            ],
            [
             0.4,
             "#fde0ef"
            ],
            [
             0.5,
             "#f7f7f7"
            ],
            [
             0.6,
             "#e6f5d0"
            ],
            [
             0.7,
             "#b8e186"
            ],
            [
             0.8,
             "#7fbc41"
            ],
            [
             0.9,
             "#4d9221"
            ],
            [
             1,
             "#276419"
            ]
           ],
           "sequential": [
            [
             0,
             "#0d0887"
            ],
            [
             0.1111111111111111,
             "#46039f"
            ],
            [
             0.2222222222222222,
             "#7201a8"
            ],
            [
             0.3333333333333333,
             "#9c179e"
            ],
            [
             0.4444444444444444,
             "#bd3786"
            ],
            [
             0.5555555555555556,
             "#d8576b"
            ],
            [
             0.6666666666666666,
             "#ed7953"
            ],
            [
             0.7777777777777778,
             "#fb9f3a"
            ],
            [
             0.8888888888888888,
             "#fdca26"
            ],
            [
             1,
             "#f0f921"
            ]
           ],
           "sequentialminus": [
            [
             0,
             "#0d0887"
            ],
            [
             0.1111111111111111,
             "#46039f"
            ],
            [
             0.2222222222222222,
             "#7201a8"
            ],
            [
             0.3333333333333333,
             "#9c179e"
            ],
            [
             0.4444444444444444,
             "#bd3786"
            ],
            [
             0.5555555555555556,
             "#d8576b"
            ],
            [
             0.6666666666666666,
             "#ed7953"
            ],
            [
             0.7777777777777778,
             "#fb9f3a"
            ],
            [
             0.8888888888888888,
             "#fdca26"
            ],
            [
             1,
             "#f0f921"
            ]
           ]
          },
          "colorway": [
           "#636efa",
           "#EF553B",
           "#00cc96",
           "#ab63fa",
           "#FFA15A",
           "#19d3f3",
           "#FF6692",
           "#B6E880",
           "#FF97FF",
           "#FECB52"
          ],
          "font": {
           "color": "#2a3f5f"
          },
          "geo": {
           "bgcolor": "white",
           "lakecolor": "white",
           "landcolor": "#E5ECF6",
           "showlakes": true,
           "showland": true,
           "subunitcolor": "white"
          },
          "hoverlabel": {
           "align": "left"
          },
          "hovermode": "closest",
          "mapbox": {
           "style": "light"
          },
          "paper_bgcolor": "white",
          "plot_bgcolor": "#E5ECF6",
          "polar": {
           "angularaxis": {
            "gridcolor": "white",
            "linecolor": "white",
            "ticks": ""
           },
           "bgcolor": "#E5ECF6",
           "radialaxis": {
            "gridcolor": "white",
            "linecolor": "white",
            "ticks": ""
           }
          },
          "scene": {
           "xaxis": {
            "backgroundcolor": "#E5ECF6",
            "gridcolor": "white",
            "gridwidth": 2,
            "linecolor": "white",
            "showbackground": true,
            "ticks": "",
            "zerolinecolor": "white"
           },
           "yaxis": {
            "backgroundcolor": "#E5ECF6",
            "gridcolor": "white",
            "gridwidth": 2,
            "linecolor": "white",
            "showbackground": true,
            "ticks": "",
            "zerolinecolor": "white"
           },
           "zaxis": {
            "backgroundcolor": "#E5ECF6",
            "gridcolor": "white",
            "gridwidth": 2,
            "linecolor": "white",
            "showbackground": true,
            "ticks": "",
            "zerolinecolor": "white"
           }
          },
          "shapedefaults": {
           "line": {
            "color": "#2a3f5f"
           }
          },
          "ternary": {
           "aaxis": {
            "gridcolor": "white",
            "linecolor": "white",
            "ticks": ""
           },
           "baxis": {
            "gridcolor": "white",
            "linecolor": "white",
            "ticks": ""
           },
           "bgcolor": "#E5ECF6",
           "caxis": {
            "gridcolor": "white",
            "linecolor": "white",
            "ticks": ""
           }
          },
          "title": {
           "x": 0.05
          },
          "xaxis": {
           "automargin": true,
           "gridcolor": "white",
           "linecolor": "white",
           "ticks": "",
           "title": {
            "standoff": 15
           },
           "zerolinecolor": "white",
           "zerolinewidth": 2
          },
          "yaxis": {
           "automargin": true,
           "gridcolor": "white",
           "linecolor": "white",
           "ticks": "",
           "title": {
            "standoff": 15
           },
           "zerolinecolor": "white",
           "zerolinewidth": 2
          }
         }
        }
       }
      },
      "text/html": [
       "<div>                            <div id=\"fb3315bc-eb80-4feb-9ef5-18ebaaba9dc4\" class=\"plotly-graph-div\" style=\"height:525px; width:100%;\"></div>            <script type=\"text/javascript\">                require([\"plotly\"], function(Plotly) {                    window.PLOTLYENV=window.PLOTLYENV || {};                                    if (document.getElementById(\"fb3315bc-eb80-4feb-9ef5-18ebaaba9dc4\")) {                    Plotly.newPlot(                        \"fb3315bc-eb80-4feb-9ef5-18ebaaba9dc4\",                        [{\"line\":{\"color\":\"blue\"},\"marker\":{\"size\":8},\"mode\":\"lines+markers\",\"name\":\"Train Loss\",\"x\":[1,2,3,4,5,6,7,8,9,10,11,12,13,14,15,16,17,18,19,20,21,22,23,24,25,26,27,28,29,30,31,32,33,34,35,36,37,38,39,40,41,42,43,44,45,46,47,48,49,50,51,52,53,54,55,56,57,58,59,60,61,62,63,64,65,66,67,68,69,70,71,72,73,74,75,76,77,78,79,80],\"y\":[0.4521400034427643,0.3775351941585541,0.34899741411209106,0.32939884066581726,0.3147145211696625,0.2999320328235626,0.28756874799728394,0.2772088646888733,0.2696378231048584,0.26275354623794556,0.2566740810871124,0.2511707842350006,0.24641412496566772,0.24303606152534485,0.23930104076862335,0.23542480170726776,0.232016459107399,0.2291364073753357,0.22638069093227386,0.2233332395553589,0.22025273740291595,0.21838746964931488,0.21712416410446167,0.21487779915332794,0.2128143310546875,0.21045668423175812,0.2094878852367401,0.2072310745716095,0.2053079456090927,0.2046436220407486,0.20322468876838684,0.20098479092121124,0.20009984076023102,0.19863462448120117,0.19683058559894562,0.19582441449165344,0.19466857612133026,0.19428542256355286,0.1926826387643814,0.19177553057670593,0.1906096637248993,0.1896812468767166,0.18794937431812286,0.18769505620002747,0.18711797893047333,0.18644848465919495,0.18480829894542694,0.18383827805519104,0.18304595351219177,0.18237614631652832,0.1814732849597931,0.1806659698486328,0.1795530766248703,0.1786939799785614,0.1782294362783432,0.17806579172611237,0.17713899910449982,0.17665956914424896,0.17531168460845947,0.17551614344120026,0.17463035881519318,0.17361733317375183,0.1730256974697113,0.17326730489730835,0.17191927134990692,0.17077890038490295,0.17045395076274872,0.1703144758939743,0.16984409093856812,0.16920438408851624,0.1685880869626999,0.16814492642879486,0.16745689511299133,0.16694241762161255,0.16651809215545654,0.16613152623176575,0.16614946722984314,0.165215402841568,0.1653367131948471,0.16434647142887115],\"type\":\"scatter\"}],                        {\"template\":{\"data\":{\"histogram2dcontour\":[{\"type\":\"histogram2dcontour\",\"colorbar\":{\"outlinewidth\":0,\"ticks\":\"\"},\"colorscale\":[[0.0,\"#0d0887\"],[0.1111111111111111,\"#46039f\"],[0.2222222222222222,\"#7201a8\"],[0.3333333333333333,\"#9c179e\"],[0.4444444444444444,\"#bd3786\"],[0.5555555555555556,\"#d8576b\"],[0.6666666666666666,\"#ed7953\"],[0.7777777777777778,\"#fb9f3a\"],[0.8888888888888888,\"#fdca26\"],[1.0,\"#f0f921\"]]}],\"choropleth\":[{\"type\":\"choropleth\",\"colorbar\":{\"outlinewidth\":0,\"ticks\":\"\"}}],\"histogram2d\":[{\"type\":\"histogram2d\",\"colorbar\":{\"outlinewidth\":0,\"ticks\":\"\"},\"colorscale\":[[0.0,\"#0d0887\"],[0.1111111111111111,\"#46039f\"],[0.2222222222222222,\"#7201a8\"],[0.3333333333333333,\"#9c179e\"],[0.4444444444444444,\"#bd3786\"],[0.5555555555555556,\"#d8576b\"],[0.6666666666666666,\"#ed7953\"],[0.7777777777777778,\"#fb9f3a\"],[0.8888888888888888,\"#fdca26\"],[1.0,\"#f0f921\"]]}],\"heatmap\":[{\"type\":\"heatmap\",\"colorbar\":{\"outlinewidth\":0,\"ticks\":\"\"},\"colorscale\":[[0.0,\"#0d0887\"],[0.1111111111111111,\"#46039f\"],[0.2222222222222222,\"#7201a8\"],[0.3333333333333333,\"#9c179e\"],[0.4444444444444444,\"#bd3786\"],[0.5555555555555556,\"#d8576b\"],[0.6666666666666666,\"#ed7953\"],[0.7777777777777778,\"#fb9f3a\"],[0.8888888888888888,\"#fdca26\"],[1.0,\"#f0f921\"]]}],\"heatmapgl\":[{\"type\":\"heatmapgl\",\"colorbar\":{\"outlinewidth\":0,\"ticks\":\"\"},\"colorscale\":[[0.0,\"#0d0887\"],[0.1111111111111111,\"#46039f\"],[0.2222222222222222,\"#7201a8\"],[0.3333333333333333,\"#9c179e\"],[0.4444444444444444,\"#bd3786\"],[0.5555555555555556,\"#d8576b\"],[0.6666666666666666,\"#ed7953\"],[0.7777777777777778,\"#fb9f3a\"],[0.8888888888888888,\"#fdca26\"],[1.0,\"#f0f921\"]]}],\"contourcarpet\":[{\"type\":\"contourcarpet\",\"colorbar\":{\"outlinewidth\":0,\"ticks\":\"\"}}],\"contour\":[{\"type\":\"contour\",\"colorbar\":{\"outlinewidth\":0,\"ticks\":\"\"},\"colorscale\":[[0.0,\"#0d0887\"],[0.1111111111111111,\"#46039f\"],[0.2222222222222222,\"#7201a8\"],[0.3333333333333333,\"#9c179e\"],[0.4444444444444444,\"#bd3786\"],[0.5555555555555556,\"#d8576b\"],[0.6666666666666666,\"#ed7953\"],[0.7777777777777778,\"#fb9f3a\"],[0.8888888888888888,\"#fdca26\"],[1.0,\"#f0f921\"]]}],\"surface\":[{\"type\":\"surface\",\"colorbar\":{\"outlinewidth\":0,\"ticks\":\"\"},\"colorscale\":[[0.0,\"#0d0887\"],[0.1111111111111111,\"#46039f\"],[0.2222222222222222,\"#7201a8\"],[0.3333333333333333,\"#9c179e\"],[0.4444444444444444,\"#bd3786\"],[0.5555555555555556,\"#d8576b\"],[0.6666666666666666,\"#ed7953\"],[0.7777777777777778,\"#fb9f3a\"],[0.8888888888888888,\"#fdca26\"],[1.0,\"#f0f921\"]]}],\"mesh3d\":[{\"type\":\"mesh3d\",\"colorbar\":{\"outlinewidth\":0,\"ticks\":\"\"}}],\"scatter\":[{\"fillpattern\":{\"fillmode\":\"overlay\",\"size\":10,\"solidity\":0.2},\"type\":\"scatter\"}],\"parcoords\":[{\"type\":\"parcoords\",\"line\":{\"colorbar\":{\"outlinewidth\":0,\"ticks\":\"\"}}}],\"scatterpolargl\":[{\"type\":\"scatterpolargl\",\"marker\":{\"colorbar\":{\"outlinewidth\":0,\"ticks\":\"\"}}}],\"bar\":[{\"error_x\":{\"color\":\"#2a3f5f\"},\"error_y\":{\"color\":\"#2a3f5f\"},\"marker\":{\"line\":{\"color\":\"#E5ECF6\",\"width\":0.5},\"pattern\":{\"fillmode\":\"overlay\",\"size\":10,\"solidity\":0.2}},\"type\":\"bar\"}],\"scattergeo\":[{\"type\":\"scattergeo\",\"marker\":{\"colorbar\":{\"outlinewidth\":0,\"ticks\":\"\"}}}],\"scatterpolar\":[{\"type\":\"scatterpolar\",\"marker\":{\"colorbar\":{\"outlinewidth\":0,\"ticks\":\"\"}}}],\"histogram\":[{\"marker\":{\"pattern\":{\"fillmode\":\"overlay\",\"size\":10,\"solidity\":0.2}},\"type\":\"histogram\"}],\"scattergl\":[{\"type\":\"scattergl\",\"marker\":{\"colorbar\":{\"outlinewidth\":0,\"ticks\":\"\"}}}],\"scatter3d\":[{\"type\":\"scatter3d\",\"line\":{\"colorbar\":{\"outlinewidth\":0,\"ticks\":\"\"}},\"marker\":{\"colorbar\":{\"outlinewidth\":0,\"ticks\":\"\"}}}],\"scattermapbox\":[{\"type\":\"scattermapbox\",\"marker\":{\"colorbar\":{\"outlinewidth\":0,\"ticks\":\"\"}}}],\"scatterternary\":[{\"type\":\"scatterternary\",\"marker\":{\"colorbar\":{\"outlinewidth\":0,\"ticks\":\"\"}}}],\"scattercarpet\":[{\"type\":\"scattercarpet\",\"marker\":{\"colorbar\":{\"outlinewidth\":0,\"ticks\":\"\"}}}],\"carpet\":[{\"aaxis\":{\"endlinecolor\":\"#2a3f5f\",\"gridcolor\":\"white\",\"linecolor\":\"white\",\"minorgridcolor\":\"white\",\"startlinecolor\":\"#2a3f5f\"},\"baxis\":{\"endlinecolor\":\"#2a3f5f\",\"gridcolor\":\"white\",\"linecolor\":\"white\",\"minorgridcolor\":\"white\",\"startlinecolor\":\"#2a3f5f\"},\"type\":\"carpet\"}],\"table\":[{\"cells\":{\"fill\":{\"color\":\"#EBF0F8\"},\"line\":{\"color\":\"white\"}},\"header\":{\"fill\":{\"color\":\"#C8D4E3\"},\"line\":{\"color\":\"white\"}},\"type\":\"table\"}],\"barpolar\":[{\"marker\":{\"line\":{\"color\":\"#E5ECF6\",\"width\":0.5},\"pattern\":{\"fillmode\":\"overlay\",\"size\":10,\"solidity\":0.2}},\"type\":\"barpolar\"}],\"pie\":[{\"automargin\":true,\"type\":\"pie\"}]},\"layout\":{\"autotypenumbers\":\"strict\",\"colorway\":[\"#636efa\",\"#EF553B\",\"#00cc96\",\"#ab63fa\",\"#FFA15A\",\"#19d3f3\",\"#FF6692\",\"#B6E880\",\"#FF97FF\",\"#FECB52\"],\"font\":{\"color\":\"#2a3f5f\"},\"hovermode\":\"closest\",\"hoverlabel\":{\"align\":\"left\"},\"paper_bgcolor\":\"white\",\"plot_bgcolor\":\"#E5ECF6\",\"polar\":{\"bgcolor\":\"#E5ECF6\",\"angularaxis\":{\"gridcolor\":\"white\",\"linecolor\":\"white\",\"ticks\":\"\"},\"radialaxis\":{\"gridcolor\":\"white\",\"linecolor\":\"white\",\"ticks\":\"\"}},\"ternary\":{\"bgcolor\":\"#E5ECF6\",\"aaxis\":{\"gridcolor\":\"white\",\"linecolor\":\"white\",\"ticks\":\"\"},\"baxis\":{\"gridcolor\":\"white\",\"linecolor\":\"white\",\"ticks\":\"\"},\"caxis\":{\"gridcolor\":\"white\",\"linecolor\":\"white\",\"ticks\":\"\"}},\"coloraxis\":{\"colorbar\":{\"outlinewidth\":0,\"ticks\":\"\"}},\"colorscale\":{\"sequential\":[[0.0,\"#0d0887\"],[0.1111111111111111,\"#46039f\"],[0.2222222222222222,\"#7201a8\"],[0.3333333333333333,\"#9c179e\"],[0.4444444444444444,\"#bd3786\"],[0.5555555555555556,\"#d8576b\"],[0.6666666666666666,\"#ed7953\"],[0.7777777777777778,\"#fb9f3a\"],[0.8888888888888888,\"#fdca26\"],[1.0,\"#f0f921\"]],\"sequentialminus\":[[0.0,\"#0d0887\"],[0.1111111111111111,\"#46039f\"],[0.2222222222222222,\"#7201a8\"],[0.3333333333333333,\"#9c179e\"],[0.4444444444444444,\"#bd3786\"],[0.5555555555555556,\"#d8576b\"],[0.6666666666666666,\"#ed7953\"],[0.7777777777777778,\"#fb9f3a\"],[0.8888888888888888,\"#fdca26\"],[1.0,\"#f0f921\"]],\"diverging\":[[0,\"#8e0152\"],[0.1,\"#c51b7d\"],[0.2,\"#de77ae\"],[0.3,\"#f1b6da\"],[0.4,\"#fde0ef\"],[0.5,\"#f7f7f7\"],[0.6,\"#e6f5d0\"],[0.7,\"#b8e186\"],[0.8,\"#7fbc41\"],[0.9,\"#4d9221\"],[1,\"#276419\"]]},\"xaxis\":{\"gridcolor\":\"white\",\"linecolor\":\"white\",\"ticks\":\"\",\"title\":{\"standoff\":15},\"zerolinecolor\":\"white\",\"automargin\":true,\"zerolinewidth\":2},\"yaxis\":{\"gridcolor\":\"white\",\"linecolor\":\"white\",\"ticks\":\"\",\"title\":{\"standoff\":15},\"zerolinecolor\":\"white\",\"automargin\":true,\"zerolinewidth\":2},\"scene\":{\"xaxis\":{\"backgroundcolor\":\"#E5ECF6\",\"gridcolor\":\"white\",\"linecolor\":\"white\",\"showbackground\":true,\"ticks\":\"\",\"zerolinecolor\":\"white\",\"gridwidth\":2},\"yaxis\":{\"backgroundcolor\":\"#E5ECF6\",\"gridcolor\":\"white\",\"linecolor\":\"white\",\"showbackground\":true,\"ticks\":\"\",\"zerolinecolor\":\"white\",\"gridwidth\":2},\"zaxis\":{\"backgroundcolor\":\"#E5ECF6\",\"gridcolor\":\"white\",\"linecolor\":\"white\",\"showbackground\":true,\"ticks\":\"\",\"zerolinecolor\":\"white\",\"gridwidth\":2}},\"shapedefaults\":{\"line\":{\"color\":\"#2a3f5f\"}},\"annotationdefaults\":{\"arrowcolor\":\"#2a3f5f\",\"arrowhead\":0,\"arrowwidth\":1},\"geo\":{\"bgcolor\":\"white\",\"landcolor\":\"#E5ECF6\",\"subunitcolor\":\"white\",\"showland\":true,\"showlakes\":true,\"lakecolor\":\"white\"},\"title\":{\"x\":0.05},\"mapbox\":{\"style\":\"light\"}}}},                        {\"responsive\": true}                    ).then(function(){\n",
       "                            \n",
       "var gd = document.getElementById('fb3315bc-eb80-4feb-9ef5-18ebaaba9dc4');\n",
       "var x = new MutationObserver(function (mutations, observer) {{\n",
       "        var display = window.getComputedStyle(gd).display;\n",
       "        if (!display || display === 'none') {{\n",
       "            console.log([gd, 'removed!']);\n",
       "            Plotly.purge(gd);\n",
       "            observer.disconnect();\n",
       "        }}\n",
       "}});\n",
       "\n",
       "// Listen for the removal of the full notebook cells\n",
       "var notebookContainer = gd.closest('#notebook-container');\n",
       "if (notebookContainer) {{\n",
       "    x.observe(notebookContainer, {childList: true});\n",
       "}}\n",
       "\n",
       "// Listen for the clearing of the current output cell\n",
       "var outputEl = gd.closest('.output');\n",
       "if (outputEl) {{\n",
       "    x.observe(outputEl, {childList: true});\n",
       "}}\n",
       "\n",
       "                        })                };                });            </script>        </div>"
      ]
     },
     "metadata": {},
     "output_type": "display_data"
    },
    {
     "data": {
      "application/vnd.plotly.v1+json": {
       "config": {
        "plotlyServerURL": "https://plot.ly"
       },
       "data": [
        {
         "line": {
          "color": "blue"
         },
         "marker": {
          "size": 8
         },
         "mode": "lines+markers",
         "name": "Train Loss",
         "type": "scatter",
         "x": [
          1,
          2,
          3,
          4,
          5,
          6,
          7,
          8,
          9,
          10,
          11,
          12,
          13,
          14,
          15,
          16,
          17,
          18,
          19,
          20,
          21,
          22,
          23,
          24,
          25,
          26,
          27,
          28,
          29,
          30,
          31,
          32,
          33,
          34,
          35,
          36,
          37,
          38,
          39,
          40,
          41,
          42,
          43,
          44,
          45,
          46,
          47,
          48,
          49,
          50,
          51,
          52,
          53,
          54,
          55,
          56,
          57,
          58,
          59,
          60,
          61,
          62,
          63,
          64,
          65,
          66,
          67,
          68,
          69,
          70,
          71,
          72,
          73,
          74,
          75,
          76,
          77,
          78,
          79,
          80
         ],
         "y": [
          0.4521400034427643,
          0.3775351941585541,
          0.34899741411209106,
          0.32939884066581726,
          0.3147145211696625,
          0.2999320328235626,
          0.28756874799728394,
          0.2772088646888733,
          0.2696378231048584,
          0.26275354623794556,
          0.2566740810871124,
          0.2511707842350006,
          0.24641412496566772,
          0.24303606152534485,
          0.23930104076862335,
          0.23542480170726776,
          0.232016459107399,
          0.2291364073753357,
          0.22638069093227386,
          0.2233332395553589,
          0.22025273740291595,
          0.21838746964931488,
          0.21712416410446167,
          0.21487779915332794,
          0.2128143310546875,
          0.21045668423175812,
          0.2094878852367401,
          0.2072310745716095,
          0.2053079456090927,
          0.2046436220407486,
          0.20322468876838684,
          0.20098479092121124,
          0.20009984076023102,
          0.19863462448120117,
          0.19683058559894562,
          0.19582441449165344,
          0.19466857612133026,
          0.19428542256355286,
          0.1926826387643814,
          0.19177553057670593,
          0.1906096637248993,
          0.1896812468767166,
          0.18794937431812286,
          0.18769505620002747,
          0.18711797893047333,
          0.18644848465919495,
          0.18480829894542694,
          0.18383827805519104,
          0.18304595351219177,
          0.18237614631652832,
          0.1814732849597931,
          0.1806659698486328,
          0.1795530766248703,
          0.1786939799785614,
          0.1782294362783432,
          0.17806579172611237,
          0.17713899910449982,
          0.17665956914424896,
          0.17531168460845947,
          0.17551614344120026,
          0.17463035881519318,
          0.17361733317375183,
          0.1730256974697113,
          0.17326730489730835,
          0.17191927134990692,
          0.17077890038490295,
          0.17045395076274872,
          0.1703144758939743,
          0.16984409093856812,
          0.16920438408851624,
          0.1685880869626999,
          0.16814492642879486,
          0.16745689511299133,
          0.16694241762161255,
          0.16651809215545654,
          0.16613152623176575,
          0.16614946722984314,
          0.165215402841568,
          0.1653367131948471,
          0.16434647142887115
         ]
        },
        {
         "line": {
          "color": "red"
         },
         "marker": {
          "size": 8
         },
         "mode": "lines+markers",
         "name": "Validation Loss",
         "type": "scatter",
         "x": [
          1,
          2,
          3,
          4,
          5,
          6,
          7,
          8,
          9,
          10,
          11,
          12,
          13,
          14,
          15,
          16,
          17,
          18,
          19,
          20,
          21,
          22,
          23,
          24,
          25,
          26,
          27,
          28,
          29,
          30,
          31,
          32,
          33,
          34,
          35,
          36,
          37,
          38,
          39,
          40,
          41,
          42,
          43,
          44,
          45,
          46,
          47,
          48,
          49,
          50,
          51,
          52,
          53,
          54,
          55,
          56,
          57,
          58,
          59,
          60,
          61,
          62,
          63,
          64,
          65,
          66,
          67,
          68,
          69,
          70,
          71,
          72,
          73,
          74,
          75,
          76,
          77,
          78,
          79,
          80
         ],
         "y": [
          0.49090319871902466,
          0.431389719247818,
          0.37792131304740906,
          0.37839505076408386,
          0.3488079607486725,
          0.3202153742313385,
          0.30651184916496277,
          0.3021073639392853,
          0.28905561566352844,
          0.30066314339637756,
          0.2784098982810974,
          0.2708215117454529,
          0.28095704317092896,
          0.2508881390094757,
          0.25818291306495667,
          0.24755026400089264,
          0.24074168503284454,
          0.232032909989357,
          0.24867933988571167,
          0.23962914943695068,
          0.23960989713668823,
          0.22681215405464172,
          0.22404570877552032,
          0.22417299449443817,
          0.2242068648338318,
          0.22022955119609833,
          0.21640272438526154,
          0.21964305639266968,
          0.2225351184606552,
          0.210209459066391,
          0.21113154292106628,
          0.22131548821926117,
          0.20393624901771545,
          0.20245914161205292,
          0.2071620523929596,
          0.20944391191005707,
          0.1994461864233017,
          0.19775153696537018,
          0.21784503757953644,
          0.19735829532146454,
          0.19490912556648254,
          0.19537073373794556,
          0.20008522272109985,
          0.1954253613948822,
          0.19314846396446228,
          0.18883605301380157,
          0.18762867152690887,
          0.19218701124191284,
          0.18930381536483765,
          0.1904146373271942,
          0.1858799308538437,
          0.1830907166004181,
          0.18530350923538208,
          0.17713157832622528,
          0.18094025552272797,
          0.1888069361448288,
          0.17742694914340973,
          0.18523161113262177,
          0.1770944744348526,
          0.1759871393442154,
          0.17606031894683838,
          0.18134050071239471,
          0.17938199639320374,
          0.17892618477344513,
          0.1722969263792038,
          0.1695718616247177,
          0.16796599328517914,
          0.17050322890281677,
          0.1704377979040146,
          0.16705948114395142,
          0.16894951462745667,
          0.1676342785358429,
          0.17023342847824097,
          0.16834160685539246,
          0.16347357630729675,
          0.16424573957920074,
          0.16529113054275513,
          0.16308344900608063,
          0.16669873893260956,
          0.17253649234771729
         ]
        }
       ],
       "layout": {
        "template": {
         "data": {
          "bar": [
           {
            "error_x": {
             "color": "#2a3f5f"
            },
            "error_y": {
             "color": "#2a3f5f"
            },
            "marker": {
             "line": {
              "color": "#E5ECF6",
              "width": 0.5
             },
             "pattern": {
              "fillmode": "overlay",
              "size": 10,
              "solidity": 0.2
             }
            },
            "type": "bar"
           }
          ],
          "barpolar": [
           {
            "marker": {
             "line": {
              "color": "#E5ECF6",
              "width": 0.5
             },
             "pattern": {
              "fillmode": "overlay",
              "size": 10,
              "solidity": 0.2
             }
            },
            "type": "barpolar"
           }
          ],
          "carpet": [
           {
            "aaxis": {
             "endlinecolor": "#2a3f5f",
             "gridcolor": "white",
             "linecolor": "white",
             "minorgridcolor": "white",
             "startlinecolor": "#2a3f5f"
            },
            "baxis": {
             "endlinecolor": "#2a3f5f",
             "gridcolor": "white",
             "linecolor": "white",
             "minorgridcolor": "white",
             "startlinecolor": "#2a3f5f"
            },
            "type": "carpet"
           }
          ],
          "choropleth": [
           {
            "colorbar": {
             "outlinewidth": 0,
             "ticks": ""
            },
            "type": "choropleth"
           }
          ],
          "contour": [
           {
            "colorbar": {
             "outlinewidth": 0,
             "ticks": ""
            },
            "colorscale": [
             [
              0,
              "#0d0887"
             ],
             [
              0.1111111111111111,
              "#46039f"
             ],
             [
              0.2222222222222222,
              "#7201a8"
             ],
             [
              0.3333333333333333,
              "#9c179e"
             ],
             [
              0.4444444444444444,
              "#bd3786"
             ],
             [
              0.5555555555555556,
              "#d8576b"
             ],
             [
              0.6666666666666666,
              "#ed7953"
             ],
             [
              0.7777777777777778,
              "#fb9f3a"
             ],
             [
              0.8888888888888888,
              "#fdca26"
             ],
             [
              1,
              "#f0f921"
             ]
            ],
            "type": "contour"
           }
          ],
          "contourcarpet": [
           {
            "colorbar": {
             "outlinewidth": 0,
             "ticks": ""
            },
            "type": "contourcarpet"
           }
          ],
          "heatmap": [
           {
            "colorbar": {
             "outlinewidth": 0,
             "ticks": ""
            },
            "colorscale": [
             [
              0,
              "#0d0887"
             ],
             [
              0.1111111111111111,
              "#46039f"
             ],
             [
              0.2222222222222222,
              "#7201a8"
             ],
             [
              0.3333333333333333,
              "#9c179e"
             ],
             [
              0.4444444444444444,
              "#bd3786"
             ],
             [
              0.5555555555555556,
              "#d8576b"
             ],
             [
              0.6666666666666666,
              "#ed7953"
             ],
             [
              0.7777777777777778,
              "#fb9f3a"
             ],
             [
              0.8888888888888888,
              "#fdca26"
             ],
             [
              1,
              "#f0f921"
             ]
            ],
            "type": "heatmap"
           }
          ],
          "heatmapgl": [
           {
            "colorbar": {
             "outlinewidth": 0,
             "ticks": ""
            },
            "colorscale": [
             [
              0,
              "#0d0887"
             ],
             [
              0.1111111111111111,
              "#46039f"
             ],
             [
              0.2222222222222222,
              "#7201a8"
             ],
             [
              0.3333333333333333,
              "#9c179e"
             ],
             [
              0.4444444444444444,
              "#bd3786"
             ],
             [
              0.5555555555555556,
              "#d8576b"
             ],
             [
              0.6666666666666666,
              "#ed7953"
             ],
             [
              0.7777777777777778,
              "#fb9f3a"
             ],
             [
              0.8888888888888888,
              "#fdca26"
             ],
             [
              1,
              "#f0f921"
             ]
            ],
            "type": "heatmapgl"
           }
          ],
          "histogram": [
           {
            "marker": {
             "pattern": {
              "fillmode": "overlay",
              "size": 10,
              "solidity": 0.2
             }
            },
            "type": "histogram"
           }
          ],
          "histogram2d": [
           {
            "colorbar": {
             "outlinewidth": 0,
             "ticks": ""
            },
            "colorscale": [
             [
              0,
              "#0d0887"
             ],
             [
              0.1111111111111111,
              "#46039f"
             ],
             [
              0.2222222222222222,
              "#7201a8"
             ],
             [
              0.3333333333333333,
              "#9c179e"
             ],
             [
              0.4444444444444444,
              "#bd3786"
             ],
             [
              0.5555555555555556,
              "#d8576b"
             ],
             [
              0.6666666666666666,
              "#ed7953"
             ],
             [
              0.7777777777777778,
              "#fb9f3a"
             ],
             [
              0.8888888888888888,
              "#fdca26"
             ],
             [
              1,
              "#f0f921"
             ]
            ],
            "type": "histogram2d"
           }
          ],
          "histogram2dcontour": [
           {
            "colorbar": {
             "outlinewidth": 0,
             "ticks": ""
            },
            "colorscale": [
             [
              0,
              "#0d0887"
             ],
             [
              0.1111111111111111,
              "#46039f"
             ],
             [
              0.2222222222222222,
              "#7201a8"
             ],
             [
              0.3333333333333333,
              "#9c179e"
             ],
             [
              0.4444444444444444,
              "#bd3786"
             ],
             [
              0.5555555555555556,
              "#d8576b"
             ],
             [
              0.6666666666666666,
              "#ed7953"
             ],
             [
              0.7777777777777778,
              "#fb9f3a"
             ],
             [
              0.8888888888888888,
              "#fdca26"
             ],
             [
              1,
              "#f0f921"
             ]
            ],
            "type": "histogram2dcontour"
           }
          ],
          "mesh3d": [
           {
            "colorbar": {
             "outlinewidth": 0,
             "ticks": ""
            },
            "type": "mesh3d"
           }
          ],
          "parcoords": [
           {
            "line": {
             "colorbar": {
              "outlinewidth": 0,
              "ticks": ""
             }
            },
            "type": "parcoords"
           }
          ],
          "pie": [
           {
            "automargin": true,
            "type": "pie"
           }
          ],
          "scatter": [
           {
            "fillpattern": {
             "fillmode": "overlay",
             "size": 10,
             "solidity": 0.2
            },
            "type": "scatter"
           }
          ],
          "scatter3d": [
           {
            "line": {
             "colorbar": {
              "outlinewidth": 0,
              "ticks": ""
             }
            },
            "marker": {
             "colorbar": {
              "outlinewidth": 0,
              "ticks": ""
             }
            },
            "type": "scatter3d"
           }
          ],
          "scattercarpet": [
           {
            "marker": {
             "colorbar": {
              "outlinewidth": 0,
              "ticks": ""
             }
            },
            "type": "scattercarpet"
           }
          ],
          "scattergeo": [
           {
            "marker": {
             "colorbar": {
              "outlinewidth": 0,
              "ticks": ""
             }
            },
            "type": "scattergeo"
           }
          ],
          "scattergl": [
           {
            "marker": {
             "colorbar": {
              "outlinewidth": 0,
              "ticks": ""
             }
            },
            "type": "scattergl"
           }
          ],
          "scattermapbox": [
           {
            "marker": {
             "colorbar": {
              "outlinewidth": 0,
              "ticks": ""
             }
            },
            "type": "scattermapbox"
           }
          ],
          "scatterpolar": [
           {
            "marker": {
             "colorbar": {
              "outlinewidth": 0,
              "ticks": ""
             }
            },
            "type": "scatterpolar"
           }
          ],
          "scatterpolargl": [
           {
            "marker": {
             "colorbar": {
              "outlinewidth": 0,
              "ticks": ""
             }
            },
            "type": "scatterpolargl"
           }
          ],
          "scatterternary": [
           {
            "marker": {
             "colorbar": {
              "outlinewidth": 0,
              "ticks": ""
             }
            },
            "type": "scatterternary"
           }
          ],
          "surface": [
           {
            "colorbar": {
             "outlinewidth": 0,
             "ticks": ""
            },
            "colorscale": [
             [
              0,
              "#0d0887"
             ],
             [
              0.1111111111111111,
              "#46039f"
             ],
             [
              0.2222222222222222,
              "#7201a8"
             ],
             [
              0.3333333333333333,
              "#9c179e"
             ],
             [
              0.4444444444444444,
              "#bd3786"
             ],
             [
              0.5555555555555556,
              "#d8576b"
             ],
             [
              0.6666666666666666,
              "#ed7953"
             ],
             [
              0.7777777777777778,
              "#fb9f3a"
             ],
             [
              0.8888888888888888,
              "#fdca26"
             ],
             [
              1,
              "#f0f921"
             ]
            ],
            "type": "surface"
           }
          ],
          "table": [
           {
            "cells": {
             "fill": {
              "color": "#EBF0F8"
             },
             "line": {
              "color": "white"
             }
            },
            "header": {
             "fill": {
              "color": "#C8D4E3"
             },
             "line": {
              "color": "white"
             }
            },
            "type": "table"
           }
          ]
         },
         "layout": {
          "annotationdefaults": {
           "arrowcolor": "#2a3f5f",
           "arrowhead": 0,
           "arrowwidth": 1
          },
          "autotypenumbers": "strict",
          "coloraxis": {
           "colorbar": {
            "outlinewidth": 0,
            "ticks": ""
           }
          },
          "colorscale": {
           "diverging": [
            [
             0,
             "#8e0152"
            ],
            [
             0.1,
             "#c51b7d"
            ],
            [
             0.2,
             "#de77ae"
            ],
            [
             0.3,
             "#f1b6da"
            ],
            [
             0.4,
             "#fde0ef"
            ],
            [
             0.5,
             "#f7f7f7"
            ],
            [
             0.6,
             "#e6f5d0"
            ],
            [
             0.7,
             "#b8e186"
            ],
            [
             0.8,
             "#7fbc41"
            ],
            [
             0.9,
             "#4d9221"
            ],
            [
             1,
             "#276419"
            ]
           ],
           "sequential": [
            [
             0,
             "#0d0887"
            ],
            [
             0.1111111111111111,
             "#46039f"
            ],
            [
             0.2222222222222222,
             "#7201a8"
            ],
            [
             0.3333333333333333,
             "#9c179e"
            ],
            [
             0.4444444444444444,
             "#bd3786"
            ],
            [
             0.5555555555555556,
             "#d8576b"
            ],
            [
             0.6666666666666666,
             "#ed7953"
            ],
            [
             0.7777777777777778,
             "#fb9f3a"
            ],
            [
             0.8888888888888888,
             "#fdca26"
            ],
            [
             1,
             "#f0f921"
            ]
           ],
           "sequentialminus": [
            [
             0,
             "#0d0887"
            ],
            [
             0.1111111111111111,
             "#46039f"
            ],
            [
             0.2222222222222222,
             "#7201a8"
            ],
            [
             0.3333333333333333,
             "#9c179e"
            ],
            [
             0.4444444444444444,
             "#bd3786"
            ],
            [
             0.5555555555555556,
             "#d8576b"
            ],
            [
             0.6666666666666666,
             "#ed7953"
            ],
            [
             0.7777777777777778,
             "#fb9f3a"
            ],
            [
             0.8888888888888888,
             "#fdca26"
            ],
            [
             1,
             "#f0f921"
            ]
           ]
          },
          "colorway": [
           "#636efa",
           "#EF553B",
           "#00cc96",
           "#ab63fa",
           "#FFA15A",
           "#19d3f3",
           "#FF6692",
           "#B6E880",
           "#FF97FF",
           "#FECB52"
          ],
          "font": {
           "color": "#2a3f5f"
          },
          "geo": {
           "bgcolor": "white",
           "lakecolor": "white",
           "landcolor": "#E5ECF6",
           "showlakes": true,
           "showland": true,
           "subunitcolor": "white"
          },
          "hoverlabel": {
           "align": "left"
          },
          "hovermode": "closest",
          "mapbox": {
           "style": "light"
          },
          "paper_bgcolor": "white",
          "plot_bgcolor": "#E5ECF6",
          "polar": {
           "angularaxis": {
            "gridcolor": "white",
            "linecolor": "white",
            "ticks": ""
           },
           "bgcolor": "#E5ECF6",
           "radialaxis": {
            "gridcolor": "white",
            "linecolor": "white",
            "ticks": ""
           }
          },
          "scene": {
           "xaxis": {
            "backgroundcolor": "#E5ECF6",
            "gridcolor": "white",
            "gridwidth": 2,
            "linecolor": "white",
            "showbackground": true,
            "ticks": "",
            "zerolinecolor": "white"
           },
           "yaxis": {
            "backgroundcolor": "#E5ECF6",
            "gridcolor": "white",
            "gridwidth": 2,
            "linecolor": "white",
            "showbackground": true,
            "ticks": "",
            "zerolinecolor": "white"
           },
           "zaxis": {
            "backgroundcolor": "#E5ECF6",
            "gridcolor": "white",
            "gridwidth": 2,
            "linecolor": "white",
            "showbackground": true,
            "ticks": "",
            "zerolinecolor": "white"
           }
          },
          "shapedefaults": {
           "line": {
            "color": "#2a3f5f"
           }
          },
          "ternary": {
           "aaxis": {
            "gridcolor": "white",
            "linecolor": "white",
            "ticks": ""
           },
           "baxis": {
            "gridcolor": "white",
            "linecolor": "white",
            "ticks": ""
           },
           "bgcolor": "#E5ECF6",
           "caxis": {
            "gridcolor": "white",
            "linecolor": "white",
            "ticks": ""
           }
          },
          "title": {
           "x": 0.05
          },
          "xaxis": {
           "automargin": true,
           "gridcolor": "white",
           "linecolor": "white",
           "ticks": "",
           "title": {
            "standoff": 15
           },
           "zerolinecolor": "white",
           "zerolinewidth": 2
          },
          "yaxis": {
           "automargin": true,
           "gridcolor": "white",
           "linecolor": "white",
           "ticks": "",
           "title": {
            "standoff": 15
           },
           "zerolinecolor": "white",
           "zerolinewidth": 2
          }
         }
        }
       }
      },
      "text/html": [
       "<div>                            <div id=\"cd6fcdea-20ea-4748-a2e1-60c5ee5cac75\" class=\"plotly-graph-div\" style=\"height:525px; width:100%;\"></div>            <script type=\"text/javascript\">                require([\"plotly\"], function(Plotly) {                    window.PLOTLYENV=window.PLOTLYENV || {};                                    if (document.getElementById(\"cd6fcdea-20ea-4748-a2e1-60c5ee5cac75\")) {                    Plotly.newPlot(                        \"cd6fcdea-20ea-4748-a2e1-60c5ee5cac75\",                        [{\"line\":{\"color\":\"blue\"},\"marker\":{\"size\":8},\"mode\":\"lines+markers\",\"name\":\"Train Loss\",\"x\":[1,2,3,4,5,6,7,8,9,10,11,12,13,14,15,16,17,18,19,20,21,22,23,24,25,26,27,28,29,30,31,32,33,34,35,36,37,38,39,40,41,42,43,44,45,46,47,48,49,50,51,52,53,54,55,56,57,58,59,60,61,62,63,64,65,66,67,68,69,70,71,72,73,74,75,76,77,78,79,80],\"y\":[0.4521400034427643,0.3775351941585541,0.34899741411209106,0.32939884066581726,0.3147145211696625,0.2999320328235626,0.28756874799728394,0.2772088646888733,0.2696378231048584,0.26275354623794556,0.2566740810871124,0.2511707842350006,0.24641412496566772,0.24303606152534485,0.23930104076862335,0.23542480170726776,0.232016459107399,0.2291364073753357,0.22638069093227386,0.2233332395553589,0.22025273740291595,0.21838746964931488,0.21712416410446167,0.21487779915332794,0.2128143310546875,0.21045668423175812,0.2094878852367401,0.2072310745716095,0.2053079456090927,0.2046436220407486,0.20322468876838684,0.20098479092121124,0.20009984076023102,0.19863462448120117,0.19683058559894562,0.19582441449165344,0.19466857612133026,0.19428542256355286,0.1926826387643814,0.19177553057670593,0.1906096637248993,0.1896812468767166,0.18794937431812286,0.18769505620002747,0.18711797893047333,0.18644848465919495,0.18480829894542694,0.18383827805519104,0.18304595351219177,0.18237614631652832,0.1814732849597931,0.1806659698486328,0.1795530766248703,0.1786939799785614,0.1782294362783432,0.17806579172611237,0.17713899910449982,0.17665956914424896,0.17531168460845947,0.17551614344120026,0.17463035881519318,0.17361733317375183,0.1730256974697113,0.17326730489730835,0.17191927134990692,0.17077890038490295,0.17045395076274872,0.1703144758939743,0.16984409093856812,0.16920438408851624,0.1685880869626999,0.16814492642879486,0.16745689511299133,0.16694241762161255,0.16651809215545654,0.16613152623176575,0.16614946722984314,0.165215402841568,0.1653367131948471,0.16434647142887115],\"type\":\"scatter\"},{\"line\":{\"color\":\"red\"},\"marker\":{\"size\":8},\"mode\":\"lines+markers\",\"name\":\"Validation Loss\",\"x\":[1,2,3,4,5,6,7,8,9,10,11,12,13,14,15,16,17,18,19,20,21,22,23,24,25,26,27,28,29,30,31,32,33,34,35,36,37,38,39,40,41,42,43,44,45,46,47,48,49,50,51,52,53,54,55,56,57,58,59,60,61,62,63,64,65,66,67,68,69,70,71,72,73,74,75,76,77,78,79,80],\"y\":[0.49090319871902466,0.431389719247818,0.37792131304740906,0.37839505076408386,0.3488079607486725,0.3202153742313385,0.30651184916496277,0.3021073639392853,0.28905561566352844,0.30066314339637756,0.2784098982810974,0.2708215117454529,0.28095704317092896,0.2508881390094757,0.25818291306495667,0.24755026400089264,0.24074168503284454,0.232032909989357,0.24867933988571167,0.23962914943695068,0.23960989713668823,0.22681215405464172,0.22404570877552032,0.22417299449443817,0.2242068648338318,0.22022955119609833,0.21640272438526154,0.21964305639266968,0.2225351184606552,0.210209459066391,0.21113154292106628,0.22131548821926117,0.20393624901771545,0.20245914161205292,0.2071620523929596,0.20944391191005707,0.1994461864233017,0.19775153696537018,0.21784503757953644,0.19735829532146454,0.19490912556648254,0.19537073373794556,0.20008522272109985,0.1954253613948822,0.19314846396446228,0.18883605301380157,0.18762867152690887,0.19218701124191284,0.18930381536483765,0.1904146373271942,0.1858799308538437,0.1830907166004181,0.18530350923538208,0.17713157832622528,0.18094025552272797,0.1888069361448288,0.17742694914340973,0.18523161113262177,0.1770944744348526,0.1759871393442154,0.17606031894683838,0.18134050071239471,0.17938199639320374,0.17892618477344513,0.1722969263792038,0.1695718616247177,0.16796599328517914,0.17050322890281677,0.1704377979040146,0.16705948114395142,0.16894951462745667,0.1676342785358429,0.17023342847824097,0.16834160685539246,0.16347357630729675,0.16424573957920074,0.16529113054275513,0.16308344900608063,0.16669873893260956,0.17253649234771729],\"type\":\"scatter\"}],                        {\"template\":{\"data\":{\"histogram2dcontour\":[{\"type\":\"histogram2dcontour\",\"colorbar\":{\"outlinewidth\":0,\"ticks\":\"\"},\"colorscale\":[[0.0,\"#0d0887\"],[0.1111111111111111,\"#46039f\"],[0.2222222222222222,\"#7201a8\"],[0.3333333333333333,\"#9c179e\"],[0.4444444444444444,\"#bd3786\"],[0.5555555555555556,\"#d8576b\"],[0.6666666666666666,\"#ed7953\"],[0.7777777777777778,\"#fb9f3a\"],[0.8888888888888888,\"#fdca26\"],[1.0,\"#f0f921\"]]}],\"choropleth\":[{\"type\":\"choropleth\",\"colorbar\":{\"outlinewidth\":0,\"ticks\":\"\"}}],\"histogram2d\":[{\"type\":\"histogram2d\",\"colorbar\":{\"outlinewidth\":0,\"ticks\":\"\"},\"colorscale\":[[0.0,\"#0d0887\"],[0.1111111111111111,\"#46039f\"],[0.2222222222222222,\"#7201a8\"],[0.3333333333333333,\"#9c179e\"],[0.4444444444444444,\"#bd3786\"],[0.5555555555555556,\"#d8576b\"],[0.6666666666666666,\"#ed7953\"],[0.7777777777777778,\"#fb9f3a\"],[0.8888888888888888,\"#fdca26\"],[1.0,\"#f0f921\"]]}],\"heatmap\":[{\"type\":\"heatmap\",\"colorbar\":{\"outlinewidth\":0,\"ticks\":\"\"},\"colorscale\":[[0.0,\"#0d0887\"],[0.1111111111111111,\"#46039f\"],[0.2222222222222222,\"#7201a8\"],[0.3333333333333333,\"#9c179e\"],[0.4444444444444444,\"#bd3786\"],[0.5555555555555556,\"#d8576b\"],[0.6666666666666666,\"#ed7953\"],[0.7777777777777778,\"#fb9f3a\"],[0.8888888888888888,\"#fdca26\"],[1.0,\"#f0f921\"]]}],\"heatmapgl\":[{\"type\":\"heatmapgl\",\"colorbar\":{\"outlinewidth\":0,\"ticks\":\"\"},\"colorscale\":[[0.0,\"#0d0887\"],[0.1111111111111111,\"#46039f\"],[0.2222222222222222,\"#7201a8\"],[0.3333333333333333,\"#9c179e\"],[0.4444444444444444,\"#bd3786\"],[0.5555555555555556,\"#d8576b\"],[0.6666666666666666,\"#ed7953\"],[0.7777777777777778,\"#fb9f3a\"],[0.8888888888888888,\"#fdca26\"],[1.0,\"#f0f921\"]]}],\"contourcarpet\":[{\"type\":\"contourcarpet\",\"colorbar\":{\"outlinewidth\":0,\"ticks\":\"\"}}],\"contour\":[{\"type\":\"contour\",\"colorbar\":{\"outlinewidth\":0,\"ticks\":\"\"},\"colorscale\":[[0.0,\"#0d0887\"],[0.1111111111111111,\"#46039f\"],[0.2222222222222222,\"#7201a8\"],[0.3333333333333333,\"#9c179e\"],[0.4444444444444444,\"#bd3786\"],[0.5555555555555556,\"#d8576b\"],[0.6666666666666666,\"#ed7953\"],[0.7777777777777778,\"#fb9f3a\"],[0.8888888888888888,\"#fdca26\"],[1.0,\"#f0f921\"]]}],\"surface\":[{\"type\":\"surface\",\"colorbar\":{\"outlinewidth\":0,\"ticks\":\"\"},\"colorscale\":[[0.0,\"#0d0887\"],[0.1111111111111111,\"#46039f\"],[0.2222222222222222,\"#7201a8\"],[0.3333333333333333,\"#9c179e\"],[0.4444444444444444,\"#bd3786\"],[0.5555555555555556,\"#d8576b\"],[0.6666666666666666,\"#ed7953\"],[0.7777777777777778,\"#fb9f3a\"],[0.8888888888888888,\"#fdca26\"],[1.0,\"#f0f921\"]]}],\"mesh3d\":[{\"type\":\"mesh3d\",\"colorbar\":{\"outlinewidth\":0,\"ticks\":\"\"}}],\"scatter\":[{\"fillpattern\":{\"fillmode\":\"overlay\",\"size\":10,\"solidity\":0.2},\"type\":\"scatter\"}],\"parcoords\":[{\"type\":\"parcoords\",\"line\":{\"colorbar\":{\"outlinewidth\":0,\"ticks\":\"\"}}}],\"scatterpolargl\":[{\"type\":\"scatterpolargl\",\"marker\":{\"colorbar\":{\"outlinewidth\":0,\"ticks\":\"\"}}}],\"bar\":[{\"error_x\":{\"color\":\"#2a3f5f\"},\"error_y\":{\"color\":\"#2a3f5f\"},\"marker\":{\"line\":{\"color\":\"#E5ECF6\",\"width\":0.5},\"pattern\":{\"fillmode\":\"overlay\",\"size\":10,\"solidity\":0.2}},\"type\":\"bar\"}],\"scattergeo\":[{\"type\":\"scattergeo\",\"marker\":{\"colorbar\":{\"outlinewidth\":0,\"ticks\":\"\"}}}],\"scatterpolar\":[{\"type\":\"scatterpolar\",\"marker\":{\"colorbar\":{\"outlinewidth\":0,\"ticks\":\"\"}}}],\"histogram\":[{\"marker\":{\"pattern\":{\"fillmode\":\"overlay\",\"size\":10,\"solidity\":0.2}},\"type\":\"histogram\"}],\"scattergl\":[{\"type\":\"scattergl\",\"marker\":{\"colorbar\":{\"outlinewidth\":0,\"ticks\":\"\"}}}],\"scatter3d\":[{\"type\":\"scatter3d\",\"line\":{\"colorbar\":{\"outlinewidth\":0,\"ticks\":\"\"}},\"marker\":{\"colorbar\":{\"outlinewidth\":0,\"ticks\":\"\"}}}],\"scattermapbox\":[{\"type\":\"scattermapbox\",\"marker\":{\"colorbar\":{\"outlinewidth\":0,\"ticks\":\"\"}}}],\"scatterternary\":[{\"type\":\"scatterternary\",\"marker\":{\"colorbar\":{\"outlinewidth\":0,\"ticks\":\"\"}}}],\"scattercarpet\":[{\"type\":\"scattercarpet\",\"marker\":{\"colorbar\":{\"outlinewidth\":0,\"ticks\":\"\"}}}],\"carpet\":[{\"aaxis\":{\"endlinecolor\":\"#2a3f5f\",\"gridcolor\":\"white\",\"linecolor\":\"white\",\"minorgridcolor\":\"white\",\"startlinecolor\":\"#2a3f5f\"},\"baxis\":{\"endlinecolor\":\"#2a3f5f\",\"gridcolor\":\"white\",\"linecolor\":\"white\",\"minorgridcolor\":\"white\",\"startlinecolor\":\"#2a3f5f\"},\"type\":\"carpet\"}],\"table\":[{\"cells\":{\"fill\":{\"color\":\"#EBF0F8\"},\"line\":{\"color\":\"white\"}},\"header\":{\"fill\":{\"color\":\"#C8D4E3\"},\"line\":{\"color\":\"white\"}},\"type\":\"table\"}],\"barpolar\":[{\"marker\":{\"line\":{\"color\":\"#E5ECF6\",\"width\":0.5},\"pattern\":{\"fillmode\":\"overlay\",\"size\":10,\"solidity\":0.2}},\"type\":\"barpolar\"}],\"pie\":[{\"automargin\":true,\"type\":\"pie\"}]},\"layout\":{\"autotypenumbers\":\"strict\",\"colorway\":[\"#636efa\",\"#EF553B\",\"#00cc96\",\"#ab63fa\",\"#FFA15A\",\"#19d3f3\",\"#FF6692\",\"#B6E880\",\"#FF97FF\",\"#FECB52\"],\"font\":{\"color\":\"#2a3f5f\"},\"hovermode\":\"closest\",\"hoverlabel\":{\"align\":\"left\"},\"paper_bgcolor\":\"white\",\"plot_bgcolor\":\"#E5ECF6\",\"polar\":{\"bgcolor\":\"#E5ECF6\",\"angularaxis\":{\"gridcolor\":\"white\",\"linecolor\":\"white\",\"ticks\":\"\"},\"radialaxis\":{\"gridcolor\":\"white\",\"linecolor\":\"white\",\"ticks\":\"\"}},\"ternary\":{\"bgcolor\":\"#E5ECF6\",\"aaxis\":{\"gridcolor\":\"white\",\"linecolor\":\"white\",\"ticks\":\"\"},\"baxis\":{\"gridcolor\":\"white\",\"linecolor\":\"white\",\"ticks\":\"\"},\"caxis\":{\"gridcolor\":\"white\",\"linecolor\":\"white\",\"ticks\":\"\"}},\"coloraxis\":{\"colorbar\":{\"outlinewidth\":0,\"ticks\":\"\"}},\"colorscale\":{\"sequential\":[[0.0,\"#0d0887\"],[0.1111111111111111,\"#46039f\"],[0.2222222222222222,\"#7201a8\"],[0.3333333333333333,\"#9c179e\"],[0.4444444444444444,\"#bd3786\"],[0.5555555555555556,\"#d8576b\"],[0.6666666666666666,\"#ed7953\"],[0.7777777777777778,\"#fb9f3a\"],[0.8888888888888888,\"#fdca26\"],[1.0,\"#f0f921\"]],\"sequentialminus\":[[0.0,\"#0d0887\"],[0.1111111111111111,\"#46039f\"],[0.2222222222222222,\"#7201a8\"],[0.3333333333333333,\"#9c179e\"],[0.4444444444444444,\"#bd3786\"],[0.5555555555555556,\"#d8576b\"],[0.6666666666666666,\"#ed7953\"],[0.7777777777777778,\"#fb9f3a\"],[0.8888888888888888,\"#fdca26\"],[1.0,\"#f0f921\"]],\"diverging\":[[0,\"#8e0152\"],[0.1,\"#c51b7d\"],[0.2,\"#de77ae\"],[0.3,\"#f1b6da\"],[0.4,\"#fde0ef\"],[0.5,\"#f7f7f7\"],[0.6,\"#e6f5d0\"],[0.7,\"#b8e186\"],[0.8,\"#7fbc41\"],[0.9,\"#4d9221\"],[1,\"#276419\"]]},\"xaxis\":{\"gridcolor\":\"white\",\"linecolor\":\"white\",\"ticks\":\"\",\"title\":{\"standoff\":15},\"zerolinecolor\":\"white\",\"automargin\":true,\"zerolinewidth\":2},\"yaxis\":{\"gridcolor\":\"white\",\"linecolor\":\"white\",\"ticks\":\"\",\"title\":{\"standoff\":15},\"zerolinecolor\":\"white\",\"automargin\":true,\"zerolinewidth\":2},\"scene\":{\"xaxis\":{\"backgroundcolor\":\"#E5ECF6\",\"gridcolor\":\"white\",\"linecolor\":\"white\",\"showbackground\":true,\"ticks\":\"\",\"zerolinecolor\":\"white\",\"gridwidth\":2},\"yaxis\":{\"backgroundcolor\":\"#E5ECF6\",\"gridcolor\":\"white\",\"linecolor\":\"white\",\"showbackground\":true,\"ticks\":\"\",\"zerolinecolor\":\"white\",\"gridwidth\":2},\"zaxis\":{\"backgroundcolor\":\"#E5ECF6\",\"gridcolor\":\"white\",\"linecolor\":\"white\",\"showbackground\":true,\"ticks\":\"\",\"zerolinecolor\":\"white\",\"gridwidth\":2}},\"shapedefaults\":{\"line\":{\"color\":\"#2a3f5f\"}},\"annotationdefaults\":{\"arrowcolor\":\"#2a3f5f\",\"arrowhead\":0,\"arrowwidth\":1},\"geo\":{\"bgcolor\":\"white\",\"landcolor\":\"#E5ECF6\",\"subunitcolor\":\"white\",\"showland\":true,\"showlakes\":true,\"lakecolor\":\"white\"},\"title\":{\"x\":0.05},\"mapbox\":{\"style\":\"light\"}}}},                        {\"responsive\": true}                    ).then(function(){\n",
       "                            \n",
       "var gd = document.getElementById('cd6fcdea-20ea-4748-a2e1-60c5ee5cac75');\n",
       "var x = new MutationObserver(function (mutations, observer) {{\n",
       "        var display = window.getComputedStyle(gd).display;\n",
       "        if (!display || display === 'none') {{\n",
       "            console.log([gd, 'removed!']);\n",
       "            Plotly.purge(gd);\n",
       "            observer.disconnect();\n",
       "        }}\n",
       "}});\n",
       "\n",
       "// Listen for the removal of the full notebook cells\n",
       "var notebookContainer = gd.closest('#notebook-container');\n",
       "if (notebookContainer) {{\n",
       "    x.observe(notebookContainer, {childList: true});\n",
       "}}\n",
       "\n",
       "// Listen for the clearing of the current output cell\n",
       "var outputEl = gd.closest('.output');\n",
       "if (outputEl) {{\n",
       "    x.observe(outputEl, {childList: true});\n",
       "}}\n",
       "\n",
       "                        })                };                });            </script>        </div>"
      ]
     },
     "metadata": {},
     "output_type": "display_data"
    },
    {
     "data": {
      "application/vnd.plotly.v1+json": {
       "config": {
        "plotlyServerURL": "https://plot.ly"
       },
       "data": [
        {
         "line": {
          "color": "blue"
         },
         "marker": {
          "size": 8
         },
         "mode": "lines+markers",
         "name": "Train Loss",
         "type": "scatter",
         "x": [
          1,
          2,
          3,
          4,
          5,
          6,
          7,
          8,
          9,
          10,
          11,
          12,
          13,
          14,
          15,
          16,
          17,
          18,
          19,
          20,
          21,
          22,
          23,
          24,
          25,
          26,
          27,
          28,
          29,
          30,
          31,
          32,
          33,
          34,
          35,
          36,
          37,
          38,
          39,
          40,
          41,
          42,
          43,
          44,
          45,
          46,
          47,
          48,
          49,
          50,
          51,
          52,
          53,
          54,
          55,
          56,
          57,
          58,
          59,
          60,
          61,
          62,
          63,
          64,
          65,
          66,
          67,
          68,
          69,
          70,
          71,
          72,
          73,
          74,
          75,
          76,
          77,
          78,
          79,
          80
         ],
         "y": [
          0.4521400034427643,
          0.3775351941585541,
          0.34899741411209106,
          0.32939884066581726,
          0.3147145211696625,
          0.2999320328235626,
          0.28756874799728394,
          0.2772088646888733,
          0.2696378231048584,
          0.26275354623794556,
          0.2566740810871124,
          0.2511707842350006,
          0.24641412496566772,
          0.24303606152534485,
          0.23930104076862335,
          0.23542480170726776,
          0.232016459107399,
          0.2291364073753357,
          0.22638069093227386,
          0.2233332395553589,
          0.22025273740291595,
          0.21838746964931488,
          0.21712416410446167,
          0.21487779915332794,
          0.2128143310546875,
          0.21045668423175812,
          0.2094878852367401,
          0.2072310745716095,
          0.2053079456090927,
          0.2046436220407486,
          0.20322468876838684,
          0.20098479092121124,
          0.20009984076023102,
          0.19863462448120117,
          0.19683058559894562,
          0.19582441449165344,
          0.19466857612133026,
          0.19428542256355286,
          0.1926826387643814,
          0.19177553057670593,
          0.1906096637248993,
          0.1896812468767166,
          0.18794937431812286,
          0.18769505620002747,
          0.18711797893047333,
          0.18644848465919495,
          0.18480829894542694,
          0.18383827805519104,
          0.18304595351219177,
          0.18237614631652832,
          0.1814732849597931,
          0.1806659698486328,
          0.1795530766248703,
          0.1786939799785614,
          0.1782294362783432,
          0.17806579172611237,
          0.17713899910449982,
          0.17665956914424896,
          0.17531168460845947,
          0.17551614344120026,
          0.17463035881519318,
          0.17361733317375183,
          0.1730256974697113,
          0.17326730489730835,
          0.17191927134990692,
          0.17077890038490295,
          0.17045395076274872,
          0.1703144758939743,
          0.16984409093856812,
          0.16920438408851624,
          0.1685880869626999,
          0.16814492642879486,
          0.16745689511299133,
          0.16694241762161255,
          0.16651809215545654,
          0.16613152623176575,
          0.16614946722984314,
          0.165215402841568,
          0.1653367131948471,
          0.16434647142887115
         ]
        },
        {
         "line": {
          "color": "red"
         },
         "marker": {
          "size": 8
         },
         "mode": "lines+markers",
         "name": "Validation Loss",
         "type": "scatter",
         "x": [
          1,
          2,
          3,
          4,
          5,
          6,
          7,
          8,
          9,
          10,
          11,
          12,
          13,
          14,
          15,
          16,
          17,
          18,
          19,
          20,
          21,
          22,
          23,
          24,
          25,
          26,
          27,
          28,
          29,
          30,
          31,
          32,
          33,
          34,
          35,
          36,
          37,
          38,
          39,
          40,
          41,
          42,
          43,
          44,
          45,
          46,
          47,
          48,
          49,
          50,
          51,
          52,
          53,
          54,
          55,
          56,
          57,
          58,
          59,
          60,
          61,
          62,
          63,
          64,
          65,
          66,
          67,
          68,
          69,
          70,
          71,
          72,
          73,
          74,
          75,
          76,
          77,
          78,
          79,
          80
         ],
         "y": [
          0.49090319871902466,
          0.431389719247818,
          0.37792131304740906,
          0.37839505076408386,
          0.3488079607486725,
          0.3202153742313385,
          0.30651184916496277,
          0.3021073639392853,
          0.28905561566352844,
          0.30066314339637756,
          0.2784098982810974,
          0.2708215117454529,
          0.28095704317092896,
          0.2508881390094757,
          0.25818291306495667,
          0.24755026400089264,
          0.24074168503284454,
          0.232032909989357,
          0.24867933988571167,
          0.23962914943695068,
          0.23960989713668823,
          0.22681215405464172,
          0.22404570877552032,
          0.22417299449443817,
          0.2242068648338318,
          0.22022955119609833,
          0.21640272438526154,
          0.21964305639266968,
          0.2225351184606552,
          0.210209459066391,
          0.21113154292106628,
          0.22131548821926117,
          0.20393624901771545,
          0.20245914161205292,
          0.2071620523929596,
          0.20944391191005707,
          0.1994461864233017,
          0.19775153696537018,
          0.21784503757953644,
          0.19735829532146454,
          0.19490912556648254,
          0.19537073373794556,
          0.20008522272109985,
          0.1954253613948822,
          0.19314846396446228,
          0.18883605301380157,
          0.18762867152690887,
          0.19218701124191284,
          0.18930381536483765,
          0.1904146373271942,
          0.1858799308538437,
          0.1830907166004181,
          0.18530350923538208,
          0.17713157832622528,
          0.18094025552272797,
          0.1888069361448288,
          0.17742694914340973,
          0.18523161113262177,
          0.1770944744348526,
          0.1759871393442154,
          0.17606031894683838,
          0.18134050071239471,
          0.17938199639320374,
          0.17892618477344513,
          0.1722969263792038,
          0.1695718616247177,
          0.16796599328517914,
          0.17050322890281677,
          0.1704377979040146,
          0.16705948114395142,
          0.16894951462745667,
          0.1676342785358429,
          0.17023342847824097,
          0.16834160685539246,
          0.16347357630729675,
          0.16424573957920074,
          0.16529113054275513,
          0.16308344900608063,
          0.16669873893260956,
          0.17253649234771729
         ]
        }
       ],
       "layout": {
        "font": {
         "family": "Times New Roman",
         "size": 20
        },
        "height": 600,
        "legend": {
         "font": {
          "size": 14
         },
         "title": {},
         "x": 0.8,
         "y": 1
        },
        "template": {
         "data": {
          "bar": [
           {
            "error_x": {
             "color": "#2a3f5f"
            },
            "error_y": {
             "color": "#2a3f5f"
            },
            "marker": {
             "line": {
              "color": "#E5ECF6",
              "width": 0.5
             },
             "pattern": {
              "fillmode": "overlay",
              "size": 10,
              "solidity": 0.2
             }
            },
            "type": "bar"
           }
          ],
          "barpolar": [
           {
            "marker": {
             "line": {
              "color": "#E5ECF6",
              "width": 0.5
             },
             "pattern": {
              "fillmode": "overlay",
              "size": 10,
              "solidity": 0.2
             }
            },
            "type": "barpolar"
           }
          ],
          "carpet": [
           {
            "aaxis": {
             "endlinecolor": "#2a3f5f",
             "gridcolor": "white",
             "linecolor": "white",
             "minorgridcolor": "white",
             "startlinecolor": "#2a3f5f"
            },
            "baxis": {
             "endlinecolor": "#2a3f5f",
             "gridcolor": "white",
             "linecolor": "white",
             "minorgridcolor": "white",
             "startlinecolor": "#2a3f5f"
            },
            "type": "carpet"
           }
          ],
          "choropleth": [
           {
            "colorbar": {
             "outlinewidth": 0,
             "ticks": ""
            },
            "type": "choropleth"
           }
          ],
          "contour": [
           {
            "colorbar": {
             "outlinewidth": 0,
             "ticks": ""
            },
            "colorscale": [
             [
              0,
              "#0d0887"
             ],
             [
              0.1111111111111111,
              "#46039f"
             ],
             [
              0.2222222222222222,
              "#7201a8"
             ],
             [
              0.3333333333333333,
              "#9c179e"
             ],
             [
              0.4444444444444444,
              "#bd3786"
             ],
             [
              0.5555555555555556,
              "#d8576b"
             ],
             [
              0.6666666666666666,
              "#ed7953"
             ],
             [
              0.7777777777777778,
              "#fb9f3a"
             ],
             [
              0.8888888888888888,
              "#fdca26"
             ],
             [
              1,
              "#f0f921"
             ]
            ],
            "type": "contour"
           }
          ],
          "contourcarpet": [
           {
            "colorbar": {
             "outlinewidth": 0,
             "ticks": ""
            },
            "type": "contourcarpet"
           }
          ],
          "heatmap": [
           {
            "colorbar": {
             "outlinewidth": 0,
             "ticks": ""
            },
            "colorscale": [
             [
              0,
              "#0d0887"
             ],
             [
              0.1111111111111111,
              "#46039f"
             ],
             [
              0.2222222222222222,
              "#7201a8"
             ],
             [
              0.3333333333333333,
              "#9c179e"
             ],
             [
              0.4444444444444444,
              "#bd3786"
             ],
             [
              0.5555555555555556,
              "#d8576b"
             ],
             [
              0.6666666666666666,
              "#ed7953"
             ],
             [
              0.7777777777777778,
              "#fb9f3a"
             ],
             [
              0.8888888888888888,
              "#fdca26"
             ],
             [
              1,
              "#f0f921"
             ]
            ],
            "type": "heatmap"
           }
          ],
          "heatmapgl": [
           {
            "colorbar": {
             "outlinewidth": 0,
             "ticks": ""
            },
            "colorscale": [
             [
              0,
              "#0d0887"
             ],
             [
              0.1111111111111111,
              "#46039f"
             ],
             [
              0.2222222222222222,
              "#7201a8"
             ],
             [
              0.3333333333333333,
              "#9c179e"
             ],
             [
              0.4444444444444444,
              "#bd3786"
             ],
             [
              0.5555555555555556,
              "#d8576b"
             ],
             [
              0.6666666666666666,
              "#ed7953"
             ],
             [
              0.7777777777777778,
              "#fb9f3a"
             ],
             [
              0.8888888888888888,
              "#fdca26"
             ],
             [
              1,
              "#f0f921"
             ]
            ],
            "type": "heatmapgl"
           }
          ],
          "histogram": [
           {
            "marker": {
             "pattern": {
              "fillmode": "overlay",
              "size": 10,
              "solidity": 0.2
             }
            },
            "type": "histogram"
           }
          ],
          "histogram2d": [
           {
            "colorbar": {
             "outlinewidth": 0,
             "ticks": ""
            },
            "colorscale": [
             [
              0,
              "#0d0887"
             ],
             [
              0.1111111111111111,
              "#46039f"
             ],
             [
              0.2222222222222222,
              "#7201a8"
             ],
             [
              0.3333333333333333,
              "#9c179e"
             ],
             [
              0.4444444444444444,
              "#bd3786"
             ],
             [
              0.5555555555555556,
              "#d8576b"
             ],
             [
              0.6666666666666666,
              "#ed7953"
             ],
             [
              0.7777777777777778,
              "#fb9f3a"
             ],
             [
              0.8888888888888888,
              "#fdca26"
             ],
             [
              1,
              "#f0f921"
             ]
            ],
            "type": "histogram2d"
           }
          ],
          "histogram2dcontour": [
           {
            "colorbar": {
             "outlinewidth": 0,
             "ticks": ""
            },
            "colorscale": [
             [
              0,
              "#0d0887"
             ],
             [
              0.1111111111111111,
              "#46039f"
             ],
             [
              0.2222222222222222,
              "#7201a8"
             ],
             [
              0.3333333333333333,
              "#9c179e"
             ],
             [
              0.4444444444444444,
              "#bd3786"
             ],
             [
              0.5555555555555556,
              "#d8576b"
             ],
             [
              0.6666666666666666,
              "#ed7953"
             ],
             [
              0.7777777777777778,
              "#fb9f3a"
             ],
             [
              0.8888888888888888,
              "#fdca26"
             ],
             [
              1,
              "#f0f921"
             ]
            ],
            "type": "histogram2dcontour"
           }
          ],
          "mesh3d": [
           {
            "colorbar": {
             "outlinewidth": 0,
             "ticks": ""
            },
            "type": "mesh3d"
           }
          ],
          "parcoords": [
           {
            "line": {
             "colorbar": {
              "outlinewidth": 0,
              "ticks": ""
             }
            },
            "type": "parcoords"
           }
          ],
          "pie": [
           {
            "automargin": true,
            "type": "pie"
           }
          ],
          "scatter": [
           {
            "fillpattern": {
             "fillmode": "overlay",
             "size": 10,
             "solidity": 0.2
            },
            "type": "scatter"
           }
          ],
          "scatter3d": [
           {
            "line": {
             "colorbar": {
              "outlinewidth": 0,
              "ticks": ""
             }
            },
            "marker": {
             "colorbar": {
              "outlinewidth": 0,
              "ticks": ""
             }
            },
            "type": "scatter3d"
           }
          ],
          "scattercarpet": [
           {
            "marker": {
             "colorbar": {
              "outlinewidth": 0,
              "ticks": ""
             }
            },
            "type": "scattercarpet"
           }
          ],
          "scattergeo": [
           {
            "marker": {
             "colorbar": {
              "outlinewidth": 0,
              "ticks": ""
             }
            },
            "type": "scattergeo"
           }
          ],
          "scattergl": [
           {
            "marker": {
             "colorbar": {
              "outlinewidth": 0,
              "ticks": ""
             }
            },
            "type": "scattergl"
           }
          ],
          "scattermapbox": [
           {
            "marker": {
             "colorbar": {
              "outlinewidth": 0,
              "ticks": ""
             }
            },
            "type": "scattermapbox"
           }
          ],
          "scatterpolar": [
           {
            "marker": {
             "colorbar": {
              "outlinewidth": 0,
              "ticks": ""
             }
            },
            "type": "scatterpolar"
           }
          ],
          "scatterpolargl": [
           {
            "marker": {
             "colorbar": {
              "outlinewidth": 0,
              "ticks": ""
             }
            },
            "type": "scatterpolargl"
           }
          ],
          "scatterternary": [
           {
            "marker": {
             "colorbar": {
              "outlinewidth": 0,
              "ticks": ""
             }
            },
            "type": "scatterternary"
           }
          ],
          "surface": [
           {
            "colorbar": {
             "outlinewidth": 0,
             "ticks": ""
            },
            "colorscale": [
             [
              0,
              "#0d0887"
             ],
             [
              0.1111111111111111,
              "#46039f"
             ],
             [
              0.2222222222222222,
              "#7201a8"
             ],
             [
              0.3333333333333333,
              "#9c179e"
             ],
             [
              0.4444444444444444,
              "#bd3786"
             ],
             [
              0.5555555555555556,
              "#d8576b"
             ],
             [
              0.6666666666666666,
              "#ed7953"
             ],
             [
              0.7777777777777778,
              "#fb9f3a"
             ],
             [
              0.8888888888888888,
              "#fdca26"
             ],
             [
              1,
              "#f0f921"
             ]
            ],
            "type": "surface"
           }
          ],
          "table": [
           {
            "cells": {
             "fill": {
              "color": "#EBF0F8"
             },
             "line": {
              "color": "white"
             }
            },
            "header": {
             "fill": {
              "color": "#C8D4E3"
             },
             "line": {
              "color": "white"
             }
            },
            "type": "table"
           }
          ]
         },
         "layout": {
          "annotationdefaults": {
           "arrowcolor": "#2a3f5f",
           "arrowhead": 0,
           "arrowwidth": 1
          },
          "autotypenumbers": "strict",
          "coloraxis": {
           "colorbar": {
            "outlinewidth": 0,
            "ticks": ""
           }
          },
          "colorscale": {
           "diverging": [
            [
             0,
             "#8e0152"
            ],
            [
             0.1,
             "#c51b7d"
            ],
            [
             0.2,
             "#de77ae"
            ],
            [
             0.3,
             "#f1b6da"
            ],
            [
             0.4,
             "#fde0ef"
            ],
            [
             0.5,
             "#f7f7f7"
            ],
            [
             0.6,
             "#e6f5d0"
            ],
            [
             0.7,
             "#b8e186"
            ],
            [
             0.8,
             "#7fbc41"
            ],
            [
             0.9,
             "#4d9221"
            ],
            [
             1,
             "#276419"
            ]
           ],
           "sequential": [
            [
             0,
             "#0d0887"
            ],
            [
             0.1111111111111111,
             "#46039f"
            ],
            [
             0.2222222222222222,
             "#7201a8"
            ],
            [
             0.3333333333333333,
             "#9c179e"
            ],
            [
             0.4444444444444444,
             "#bd3786"
            ],
            [
             0.5555555555555556,
             "#d8576b"
            ],
            [
             0.6666666666666666,
             "#ed7953"
            ],
            [
             0.7777777777777778,
             "#fb9f3a"
            ],
            [
             0.8888888888888888,
             "#fdca26"
            ],
            [
             1,
             "#f0f921"
            ]
           ],
           "sequentialminus": [
            [
             0,
             "#0d0887"
            ],
            [
             0.1111111111111111,
             "#46039f"
            ],
            [
             0.2222222222222222,
             "#7201a8"
            ],
            [
             0.3333333333333333,
             "#9c179e"
            ],
            [
             0.4444444444444444,
             "#bd3786"
            ],
            [
             0.5555555555555556,
             "#d8576b"
            ],
            [
             0.6666666666666666,
             "#ed7953"
            ],
            [
             0.7777777777777778,
             "#fb9f3a"
            ],
            [
             0.8888888888888888,
             "#fdca26"
            ],
            [
             1,
             "#f0f921"
            ]
           ]
          },
          "colorway": [
           "#636efa",
           "#EF553B",
           "#00cc96",
           "#ab63fa",
           "#FFA15A",
           "#19d3f3",
           "#FF6692",
           "#B6E880",
           "#FF97FF",
           "#FECB52"
          ],
          "font": {
           "color": "#2a3f5f"
          },
          "geo": {
           "bgcolor": "white",
           "lakecolor": "white",
           "landcolor": "#E5ECF6",
           "showlakes": true,
           "showland": true,
           "subunitcolor": "white"
          },
          "hoverlabel": {
           "align": "left"
          },
          "hovermode": "closest",
          "mapbox": {
           "style": "light"
          },
          "paper_bgcolor": "white",
          "plot_bgcolor": "#E5ECF6",
          "polar": {
           "angularaxis": {
            "gridcolor": "white",
            "linecolor": "white",
            "ticks": ""
           },
           "bgcolor": "#E5ECF6",
           "radialaxis": {
            "gridcolor": "white",
            "linecolor": "white",
            "ticks": ""
           }
          },
          "scene": {
           "xaxis": {
            "backgroundcolor": "#E5ECF6",
            "gridcolor": "white",
            "gridwidth": 2,
            "linecolor": "white",
            "showbackground": true,
            "ticks": "",
            "zerolinecolor": "white"
           },
           "yaxis": {
            "backgroundcolor": "#E5ECF6",
            "gridcolor": "white",
            "gridwidth": 2,
            "linecolor": "white",
            "showbackground": true,
            "ticks": "",
            "zerolinecolor": "white"
           },
           "zaxis": {
            "backgroundcolor": "#E5ECF6",
            "gridcolor": "white",
            "gridwidth": 2,
            "linecolor": "white",
            "showbackground": true,
            "ticks": "",
            "zerolinecolor": "white"
           }
          },
          "shapedefaults": {
           "line": {
            "color": "#2a3f5f"
           }
          },
          "ternary": {
           "aaxis": {
            "gridcolor": "white",
            "linecolor": "white",
            "ticks": ""
           },
           "baxis": {
            "gridcolor": "white",
            "linecolor": "white",
            "ticks": ""
           },
           "bgcolor": "#E5ECF6",
           "caxis": {
            "gridcolor": "white",
            "linecolor": "white",
            "ticks": ""
           }
          },
          "title": {
           "x": 0.05
          },
          "xaxis": {
           "automargin": true,
           "gridcolor": "white",
           "linecolor": "white",
           "ticks": "",
           "title": {
            "standoff": 15
           },
           "zerolinecolor": "white",
           "zerolinewidth": 2
          },
          "yaxis": {
           "automargin": true,
           "gridcolor": "white",
           "linecolor": "white",
           "ticks": "",
           "title": {
            "standoff": 15
           },
           "zerolinecolor": "white",
           "zerolinewidth": 2
          }
         }
        },
        "title": {
         "text": "Model Loss"
        },
        "width": 800,
        "xaxis": {
         "tickfont": {
          "size": 16
         },
         "tickmode": "linear",
         "title": {
          "font": {
           "size": 18
          },
          "text": "Epoch"
         }
        },
        "yaxis": {
         "showexponent": "none",
         "tickfont": {
          "size": 16
         },
         "title": {
          "font": {
           "size": 18
          },
          "text": "Loss"
         },
         "type": "log"
        }
       }
      },
      "text/html": [
       "<div>                            <div id=\"d1371a20-e149-4c49-bda3-addbd67b9f65\" class=\"plotly-graph-div\" style=\"height:600px; width:800px;\"></div>            <script type=\"text/javascript\">                require([\"plotly\"], function(Plotly) {                    window.PLOTLYENV=window.PLOTLYENV || {};                                    if (document.getElementById(\"d1371a20-e149-4c49-bda3-addbd67b9f65\")) {                    Plotly.newPlot(                        \"d1371a20-e149-4c49-bda3-addbd67b9f65\",                        [{\"line\":{\"color\":\"blue\"},\"marker\":{\"size\":8},\"mode\":\"lines+markers\",\"name\":\"Train Loss\",\"x\":[1,2,3,4,5,6,7,8,9,10,11,12,13,14,15,16,17,18,19,20,21,22,23,24,25,26,27,28,29,30,31,32,33,34,35,36,37,38,39,40,41,42,43,44,45,46,47,48,49,50,51,52,53,54,55,56,57,58,59,60,61,62,63,64,65,66,67,68,69,70,71,72,73,74,75,76,77,78,79,80],\"y\":[0.4521400034427643,0.3775351941585541,0.34899741411209106,0.32939884066581726,0.3147145211696625,0.2999320328235626,0.28756874799728394,0.2772088646888733,0.2696378231048584,0.26275354623794556,0.2566740810871124,0.2511707842350006,0.24641412496566772,0.24303606152534485,0.23930104076862335,0.23542480170726776,0.232016459107399,0.2291364073753357,0.22638069093227386,0.2233332395553589,0.22025273740291595,0.21838746964931488,0.21712416410446167,0.21487779915332794,0.2128143310546875,0.21045668423175812,0.2094878852367401,0.2072310745716095,0.2053079456090927,0.2046436220407486,0.20322468876838684,0.20098479092121124,0.20009984076023102,0.19863462448120117,0.19683058559894562,0.19582441449165344,0.19466857612133026,0.19428542256355286,0.1926826387643814,0.19177553057670593,0.1906096637248993,0.1896812468767166,0.18794937431812286,0.18769505620002747,0.18711797893047333,0.18644848465919495,0.18480829894542694,0.18383827805519104,0.18304595351219177,0.18237614631652832,0.1814732849597931,0.1806659698486328,0.1795530766248703,0.1786939799785614,0.1782294362783432,0.17806579172611237,0.17713899910449982,0.17665956914424896,0.17531168460845947,0.17551614344120026,0.17463035881519318,0.17361733317375183,0.1730256974697113,0.17326730489730835,0.17191927134990692,0.17077890038490295,0.17045395076274872,0.1703144758939743,0.16984409093856812,0.16920438408851624,0.1685880869626999,0.16814492642879486,0.16745689511299133,0.16694241762161255,0.16651809215545654,0.16613152623176575,0.16614946722984314,0.165215402841568,0.1653367131948471,0.16434647142887115],\"type\":\"scatter\"},{\"line\":{\"color\":\"red\"},\"marker\":{\"size\":8},\"mode\":\"lines+markers\",\"name\":\"Validation Loss\",\"x\":[1,2,3,4,5,6,7,8,9,10,11,12,13,14,15,16,17,18,19,20,21,22,23,24,25,26,27,28,29,30,31,32,33,34,35,36,37,38,39,40,41,42,43,44,45,46,47,48,49,50,51,52,53,54,55,56,57,58,59,60,61,62,63,64,65,66,67,68,69,70,71,72,73,74,75,76,77,78,79,80],\"y\":[0.49090319871902466,0.431389719247818,0.37792131304740906,0.37839505076408386,0.3488079607486725,0.3202153742313385,0.30651184916496277,0.3021073639392853,0.28905561566352844,0.30066314339637756,0.2784098982810974,0.2708215117454529,0.28095704317092896,0.2508881390094757,0.25818291306495667,0.24755026400089264,0.24074168503284454,0.232032909989357,0.24867933988571167,0.23962914943695068,0.23960989713668823,0.22681215405464172,0.22404570877552032,0.22417299449443817,0.2242068648338318,0.22022955119609833,0.21640272438526154,0.21964305639266968,0.2225351184606552,0.210209459066391,0.21113154292106628,0.22131548821926117,0.20393624901771545,0.20245914161205292,0.2071620523929596,0.20944391191005707,0.1994461864233017,0.19775153696537018,0.21784503757953644,0.19735829532146454,0.19490912556648254,0.19537073373794556,0.20008522272109985,0.1954253613948822,0.19314846396446228,0.18883605301380157,0.18762867152690887,0.19218701124191284,0.18930381536483765,0.1904146373271942,0.1858799308538437,0.1830907166004181,0.18530350923538208,0.17713157832622528,0.18094025552272797,0.1888069361448288,0.17742694914340973,0.18523161113262177,0.1770944744348526,0.1759871393442154,0.17606031894683838,0.18134050071239471,0.17938199639320374,0.17892618477344513,0.1722969263792038,0.1695718616247177,0.16796599328517914,0.17050322890281677,0.1704377979040146,0.16705948114395142,0.16894951462745667,0.1676342785358429,0.17023342847824097,0.16834160685539246,0.16347357630729675,0.16424573957920074,0.16529113054275513,0.16308344900608063,0.16669873893260956,0.17253649234771729],\"type\":\"scatter\"}],                        {\"template\":{\"data\":{\"histogram2dcontour\":[{\"type\":\"histogram2dcontour\",\"colorbar\":{\"outlinewidth\":0,\"ticks\":\"\"},\"colorscale\":[[0.0,\"#0d0887\"],[0.1111111111111111,\"#46039f\"],[0.2222222222222222,\"#7201a8\"],[0.3333333333333333,\"#9c179e\"],[0.4444444444444444,\"#bd3786\"],[0.5555555555555556,\"#d8576b\"],[0.6666666666666666,\"#ed7953\"],[0.7777777777777778,\"#fb9f3a\"],[0.8888888888888888,\"#fdca26\"],[1.0,\"#f0f921\"]]}],\"choropleth\":[{\"type\":\"choropleth\",\"colorbar\":{\"outlinewidth\":0,\"ticks\":\"\"}}],\"histogram2d\":[{\"type\":\"histogram2d\",\"colorbar\":{\"outlinewidth\":0,\"ticks\":\"\"},\"colorscale\":[[0.0,\"#0d0887\"],[0.1111111111111111,\"#46039f\"],[0.2222222222222222,\"#7201a8\"],[0.3333333333333333,\"#9c179e\"],[0.4444444444444444,\"#bd3786\"],[0.5555555555555556,\"#d8576b\"],[0.6666666666666666,\"#ed7953\"],[0.7777777777777778,\"#fb9f3a\"],[0.8888888888888888,\"#fdca26\"],[1.0,\"#f0f921\"]]}],\"heatmap\":[{\"type\":\"heatmap\",\"colorbar\":{\"outlinewidth\":0,\"ticks\":\"\"},\"colorscale\":[[0.0,\"#0d0887\"],[0.1111111111111111,\"#46039f\"],[0.2222222222222222,\"#7201a8\"],[0.3333333333333333,\"#9c179e\"],[0.4444444444444444,\"#bd3786\"],[0.5555555555555556,\"#d8576b\"],[0.6666666666666666,\"#ed7953\"],[0.7777777777777778,\"#fb9f3a\"],[0.8888888888888888,\"#fdca26\"],[1.0,\"#f0f921\"]]}],\"heatmapgl\":[{\"type\":\"heatmapgl\",\"colorbar\":{\"outlinewidth\":0,\"ticks\":\"\"},\"colorscale\":[[0.0,\"#0d0887\"],[0.1111111111111111,\"#46039f\"],[0.2222222222222222,\"#7201a8\"],[0.3333333333333333,\"#9c179e\"],[0.4444444444444444,\"#bd3786\"],[0.5555555555555556,\"#d8576b\"],[0.6666666666666666,\"#ed7953\"],[0.7777777777777778,\"#fb9f3a\"],[0.8888888888888888,\"#fdca26\"],[1.0,\"#f0f921\"]]}],\"contourcarpet\":[{\"type\":\"contourcarpet\",\"colorbar\":{\"outlinewidth\":0,\"ticks\":\"\"}}],\"contour\":[{\"type\":\"contour\",\"colorbar\":{\"outlinewidth\":0,\"ticks\":\"\"},\"colorscale\":[[0.0,\"#0d0887\"],[0.1111111111111111,\"#46039f\"],[0.2222222222222222,\"#7201a8\"],[0.3333333333333333,\"#9c179e\"],[0.4444444444444444,\"#bd3786\"],[0.5555555555555556,\"#d8576b\"],[0.6666666666666666,\"#ed7953\"],[0.7777777777777778,\"#fb9f3a\"],[0.8888888888888888,\"#fdca26\"],[1.0,\"#f0f921\"]]}],\"surface\":[{\"type\":\"surface\",\"colorbar\":{\"outlinewidth\":0,\"ticks\":\"\"},\"colorscale\":[[0.0,\"#0d0887\"],[0.1111111111111111,\"#46039f\"],[0.2222222222222222,\"#7201a8\"],[0.3333333333333333,\"#9c179e\"],[0.4444444444444444,\"#bd3786\"],[0.5555555555555556,\"#d8576b\"],[0.6666666666666666,\"#ed7953\"],[0.7777777777777778,\"#fb9f3a\"],[0.8888888888888888,\"#fdca26\"],[1.0,\"#f0f921\"]]}],\"mesh3d\":[{\"type\":\"mesh3d\",\"colorbar\":{\"outlinewidth\":0,\"ticks\":\"\"}}],\"scatter\":[{\"fillpattern\":{\"fillmode\":\"overlay\",\"size\":10,\"solidity\":0.2},\"type\":\"scatter\"}],\"parcoords\":[{\"type\":\"parcoords\",\"line\":{\"colorbar\":{\"outlinewidth\":0,\"ticks\":\"\"}}}],\"scatterpolargl\":[{\"type\":\"scatterpolargl\",\"marker\":{\"colorbar\":{\"outlinewidth\":0,\"ticks\":\"\"}}}],\"bar\":[{\"error_x\":{\"color\":\"#2a3f5f\"},\"error_y\":{\"color\":\"#2a3f5f\"},\"marker\":{\"line\":{\"color\":\"#E5ECF6\",\"width\":0.5},\"pattern\":{\"fillmode\":\"overlay\",\"size\":10,\"solidity\":0.2}},\"type\":\"bar\"}],\"scattergeo\":[{\"type\":\"scattergeo\",\"marker\":{\"colorbar\":{\"outlinewidth\":0,\"ticks\":\"\"}}}],\"scatterpolar\":[{\"type\":\"scatterpolar\",\"marker\":{\"colorbar\":{\"outlinewidth\":0,\"ticks\":\"\"}}}],\"histogram\":[{\"marker\":{\"pattern\":{\"fillmode\":\"overlay\",\"size\":10,\"solidity\":0.2}},\"type\":\"histogram\"}],\"scattergl\":[{\"type\":\"scattergl\",\"marker\":{\"colorbar\":{\"outlinewidth\":0,\"ticks\":\"\"}}}],\"scatter3d\":[{\"type\":\"scatter3d\",\"line\":{\"colorbar\":{\"outlinewidth\":0,\"ticks\":\"\"}},\"marker\":{\"colorbar\":{\"outlinewidth\":0,\"ticks\":\"\"}}}],\"scattermapbox\":[{\"type\":\"scattermapbox\",\"marker\":{\"colorbar\":{\"outlinewidth\":0,\"ticks\":\"\"}}}],\"scatterternary\":[{\"type\":\"scatterternary\",\"marker\":{\"colorbar\":{\"outlinewidth\":0,\"ticks\":\"\"}}}],\"scattercarpet\":[{\"type\":\"scattercarpet\",\"marker\":{\"colorbar\":{\"outlinewidth\":0,\"ticks\":\"\"}}}],\"carpet\":[{\"aaxis\":{\"endlinecolor\":\"#2a3f5f\",\"gridcolor\":\"white\",\"linecolor\":\"white\",\"minorgridcolor\":\"white\",\"startlinecolor\":\"#2a3f5f\"},\"baxis\":{\"endlinecolor\":\"#2a3f5f\",\"gridcolor\":\"white\",\"linecolor\":\"white\",\"minorgridcolor\":\"white\",\"startlinecolor\":\"#2a3f5f\"},\"type\":\"carpet\"}],\"table\":[{\"cells\":{\"fill\":{\"color\":\"#EBF0F8\"},\"line\":{\"color\":\"white\"}},\"header\":{\"fill\":{\"color\":\"#C8D4E3\"},\"line\":{\"color\":\"white\"}},\"type\":\"table\"}],\"barpolar\":[{\"marker\":{\"line\":{\"color\":\"#E5ECF6\",\"width\":0.5},\"pattern\":{\"fillmode\":\"overlay\",\"size\":10,\"solidity\":0.2}},\"type\":\"barpolar\"}],\"pie\":[{\"automargin\":true,\"type\":\"pie\"}]},\"layout\":{\"autotypenumbers\":\"strict\",\"colorway\":[\"#636efa\",\"#EF553B\",\"#00cc96\",\"#ab63fa\",\"#FFA15A\",\"#19d3f3\",\"#FF6692\",\"#B6E880\",\"#FF97FF\",\"#FECB52\"],\"font\":{\"color\":\"#2a3f5f\"},\"hovermode\":\"closest\",\"hoverlabel\":{\"align\":\"left\"},\"paper_bgcolor\":\"white\",\"plot_bgcolor\":\"#E5ECF6\",\"polar\":{\"bgcolor\":\"#E5ECF6\",\"angularaxis\":{\"gridcolor\":\"white\",\"linecolor\":\"white\",\"ticks\":\"\"},\"radialaxis\":{\"gridcolor\":\"white\",\"linecolor\":\"white\",\"ticks\":\"\"}},\"ternary\":{\"bgcolor\":\"#E5ECF6\",\"aaxis\":{\"gridcolor\":\"white\",\"linecolor\":\"white\",\"ticks\":\"\"},\"baxis\":{\"gridcolor\":\"white\",\"linecolor\":\"white\",\"ticks\":\"\"},\"caxis\":{\"gridcolor\":\"white\",\"linecolor\":\"white\",\"ticks\":\"\"}},\"coloraxis\":{\"colorbar\":{\"outlinewidth\":0,\"ticks\":\"\"}},\"colorscale\":{\"sequential\":[[0.0,\"#0d0887\"],[0.1111111111111111,\"#46039f\"],[0.2222222222222222,\"#7201a8\"],[0.3333333333333333,\"#9c179e\"],[0.4444444444444444,\"#bd3786\"],[0.5555555555555556,\"#d8576b\"],[0.6666666666666666,\"#ed7953\"],[0.7777777777777778,\"#fb9f3a\"],[0.8888888888888888,\"#fdca26\"],[1.0,\"#f0f921\"]],\"sequentialminus\":[[0.0,\"#0d0887\"],[0.1111111111111111,\"#46039f\"],[0.2222222222222222,\"#7201a8\"],[0.3333333333333333,\"#9c179e\"],[0.4444444444444444,\"#bd3786\"],[0.5555555555555556,\"#d8576b\"],[0.6666666666666666,\"#ed7953\"],[0.7777777777777778,\"#fb9f3a\"],[0.8888888888888888,\"#fdca26\"],[1.0,\"#f0f921\"]],\"diverging\":[[0,\"#8e0152\"],[0.1,\"#c51b7d\"],[0.2,\"#de77ae\"],[0.3,\"#f1b6da\"],[0.4,\"#fde0ef\"],[0.5,\"#f7f7f7\"],[0.6,\"#e6f5d0\"],[0.7,\"#b8e186\"],[0.8,\"#7fbc41\"],[0.9,\"#4d9221\"],[1,\"#276419\"]]},\"xaxis\":{\"gridcolor\":\"white\",\"linecolor\":\"white\",\"ticks\":\"\",\"title\":{\"standoff\":15},\"zerolinecolor\":\"white\",\"automargin\":true,\"zerolinewidth\":2},\"yaxis\":{\"gridcolor\":\"white\",\"linecolor\":\"white\",\"ticks\":\"\",\"title\":{\"standoff\":15},\"zerolinecolor\":\"white\",\"automargin\":true,\"zerolinewidth\":2},\"scene\":{\"xaxis\":{\"backgroundcolor\":\"#E5ECF6\",\"gridcolor\":\"white\",\"linecolor\":\"white\",\"showbackground\":true,\"ticks\":\"\",\"zerolinecolor\":\"white\",\"gridwidth\":2},\"yaxis\":{\"backgroundcolor\":\"#E5ECF6\",\"gridcolor\":\"white\",\"linecolor\":\"white\",\"showbackground\":true,\"ticks\":\"\",\"zerolinecolor\":\"white\",\"gridwidth\":2},\"zaxis\":{\"backgroundcolor\":\"#E5ECF6\",\"gridcolor\":\"white\",\"linecolor\":\"white\",\"showbackground\":true,\"ticks\":\"\",\"zerolinecolor\":\"white\",\"gridwidth\":2}},\"shapedefaults\":{\"line\":{\"color\":\"#2a3f5f\"}},\"annotationdefaults\":{\"arrowcolor\":\"#2a3f5f\",\"arrowhead\":0,\"arrowwidth\":1},\"geo\":{\"bgcolor\":\"white\",\"landcolor\":\"#E5ECF6\",\"subunitcolor\":\"white\",\"showland\":true,\"showlakes\":true,\"lakecolor\":\"white\"},\"title\":{\"x\":0.05},\"mapbox\":{\"style\":\"light\"}}},\"xaxis\":{\"tickfont\":{\"size\":16},\"title\":{\"text\":\"Epoch\",\"font\":{\"size\":18}},\"tickmode\":\"linear\"},\"yaxis\":{\"tickfont\":{\"size\":16},\"title\":{\"text\":\"Loss\",\"font\":{\"size\":18}},\"type\":\"log\",\"showexponent\":\"none\"},\"font\":{\"family\":\"Times New Roman\",\"size\":20},\"legend\":{\"font\":{\"size\":14},\"title\":{},\"x\":0.8,\"y\":1.0},\"title\":{\"text\":\"Model Loss\"},\"width\":800,\"height\":600},                        {\"responsive\": true}                    ).then(function(){\n",
       "                            \n",
       "var gd = document.getElementById('d1371a20-e149-4c49-bda3-addbd67b9f65');\n",
       "var x = new MutationObserver(function (mutations, observer) {{\n",
       "        var display = window.getComputedStyle(gd).display;\n",
       "        if (!display || display === 'none') {{\n",
       "            console.log([gd, 'removed!']);\n",
       "            Plotly.purge(gd);\n",
       "            observer.disconnect();\n",
       "        }}\n",
       "}});\n",
       "\n",
       "// Listen for the removal of the full notebook cells\n",
       "var notebookContainer = gd.closest('#notebook-container');\n",
       "if (notebookContainer) {{\n",
       "    x.observe(notebookContainer, {childList: true});\n",
       "}}\n",
       "\n",
       "// Listen for the clearing of the current output cell\n",
       "var outputEl = gd.closest('.output');\n",
       "if (outputEl) {{\n",
       "    x.observe(outputEl, {childList: true});\n",
       "}}\n",
       "\n",
       "                        })                };                });            </script>        </div>"
      ]
     },
     "metadata": {},
     "output_type": "display_data"
    },
    {
     "data": {
      "application/vnd.plotly.v1+json": {
       "config": {
        "plotlyServerURL": "https://plot.ly"
       },
       "data": [
        {
         "line": {
          "color": "blue"
         },
         "marker": {
          "size": 8
         },
         "mode": "lines+markers",
         "name": "Train Loss",
         "type": "scatter",
         "x": [
          1,
          2,
          3,
          4,
          5,
          6,
          7,
          8,
          9,
          10,
          11,
          12,
          13,
          14,
          15,
          16,
          17,
          18,
          19,
          20,
          21,
          22,
          23,
          24,
          25,
          26,
          27,
          28,
          29,
          30,
          31,
          32,
          33,
          34,
          35,
          36,
          37,
          38,
          39,
          40,
          41,
          42,
          43,
          44,
          45,
          46,
          47,
          48,
          49,
          50,
          51,
          52,
          53,
          54,
          55,
          56,
          57,
          58,
          59,
          60,
          61,
          62,
          63,
          64,
          65,
          66,
          67,
          68,
          69,
          70,
          71,
          72,
          73,
          74,
          75,
          76,
          77,
          78,
          79,
          80
         ],
         "y": [
          0.4521400034427643,
          0.3775351941585541,
          0.34899741411209106,
          0.32939884066581726,
          0.3147145211696625,
          0.2999320328235626,
          0.28756874799728394,
          0.2772088646888733,
          0.2696378231048584,
          0.26275354623794556,
          0.2566740810871124,
          0.2511707842350006,
          0.24641412496566772,
          0.24303606152534485,
          0.23930104076862335,
          0.23542480170726776,
          0.232016459107399,
          0.2291364073753357,
          0.22638069093227386,
          0.2233332395553589,
          0.22025273740291595,
          0.21838746964931488,
          0.21712416410446167,
          0.21487779915332794,
          0.2128143310546875,
          0.21045668423175812,
          0.2094878852367401,
          0.2072310745716095,
          0.2053079456090927,
          0.2046436220407486,
          0.20322468876838684,
          0.20098479092121124,
          0.20009984076023102,
          0.19863462448120117,
          0.19683058559894562,
          0.19582441449165344,
          0.19466857612133026,
          0.19428542256355286,
          0.1926826387643814,
          0.19177553057670593,
          0.1906096637248993,
          0.1896812468767166,
          0.18794937431812286,
          0.18769505620002747,
          0.18711797893047333,
          0.18644848465919495,
          0.18480829894542694,
          0.18383827805519104,
          0.18304595351219177,
          0.18237614631652832,
          0.1814732849597931,
          0.1806659698486328,
          0.1795530766248703,
          0.1786939799785614,
          0.1782294362783432,
          0.17806579172611237,
          0.17713899910449982,
          0.17665956914424896,
          0.17531168460845947,
          0.17551614344120026,
          0.17463035881519318,
          0.17361733317375183,
          0.1730256974697113,
          0.17326730489730835,
          0.17191927134990692,
          0.17077890038490295,
          0.17045395076274872,
          0.1703144758939743,
          0.16984409093856812,
          0.16920438408851624,
          0.1685880869626999,
          0.16814492642879486,
          0.16745689511299133,
          0.16694241762161255,
          0.16651809215545654,
          0.16613152623176575,
          0.16614946722984314,
          0.165215402841568,
          0.1653367131948471,
          0.16434647142887115
         ]
        },
        {
         "line": {
          "color": "red"
         },
         "marker": {
          "size": 8
         },
         "mode": "lines+markers",
         "name": "Validation Loss",
         "type": "scatter",
         "x": [
          1,
          2,
          3,
          4,
          5,
          6,
          7,
          8,
          9,
          10,
          11,
          12,
          13,
          14,
          15,
          16,
          17,
          18,
          19,
          20,
          21,
          22,
          23,
          24,
          25,
          26,
          27,
          28,
          29,
          30,
          31,
          32,
          33,
          34,
          35,
          36,
          37,
          38,
          39,
          40,
          41,
          42,
          43,
          44,
          45,
          46,
          47,
          48,
          49,
          50,
          51,
          52,
          53,
          54,
          55,
          56,
          57,
          58,
          59,
          60,
          61,
          62,
          63,
          64,
          65,
          66,
          67,
          68,
          69,
          70,
          71,
          72,
          73,
          74,
          75,
          76,
          77,
          78,
          79,
          80
         ],
         "y": [
          0.49090319871902466,
          0.431389719247818,
          0.37792131304740906,
          0.37839505076408386,
          0.3488079607486725,
          0.3202153742313385,
          0.30651184916496277,
          0.3021073639392853,
          0.28905561566352844,
          0.30066314339637756,
          0.2784098982810974,
          0.2708215117454529,
          0.28095704317092896,
          0.2508881390094757,
          0.25818291306495667,
          0.24755026400089264,
          0.24074168503284454,
          0.232032909989357,
          0.24867933988571167,
          0.23962914943695068,
          0.23960989713668823,
          0.22681215405464172,
          0.22404570877552032,
          0.22417299449443817,
          0.2242068648338318,
          0.22022955119609833,
          0.21640272438526154,
          0.21964305639266968,
          0.2225351184606552,
          0.210209459066391,
          0.21113154292106628,
          0.22131548821926117,
          0.20393624901771545,
          0.20245914161205292,
          0.2071620523929596,
          0.20944391191005707,
          0.1994461864233017,
          0.19775153696537018,
          0.21784503757953644,
          0.19735829532146454,
          0.19490912556648254,
          0.19537073373794556,
          0.20008522272109985,
          0.1954253613948822,
          0.19314846396446228,
          0.18883605301380157,
          0.18762867152690887,
          0.19218701124191284,
          0.18930381536483765,
          0.1904146373271942,
          0.1858799308538437,
          0.1830907166004181,
          0.18530350923538208,
          0.17713157832622528,
          0.18094025552272797,
          0.1888069361448288,
          0.17742694914340973,
          0.18523161113262177,
          0.1770944744348526,
          0.1759871393442154,
          0.17606031894683838,
          0.18134050071239471,
          0.17938199639320374,
          0.17892618477344513,
          0.1722969263792038,
          0.1695718616247177,
          0.16796599328517914,
          0.17050322890281677,
          0.1704377979040146,
          0.16705948114395142,
          0.16894951462745667,
          0.1676342785358429,
          0.17023342847824097,
          0.16834160685539246,
          0.16347357630729675,
          0.16424573957920074,
          0.16529113054275513,
          0.16308344900608063,
          0.16669873893260956,
          0.17253649234771729
         ]
        }
       ],
       "layout": {
        "font": {
         "family": "Times New Roman",
         "size": 20
        },
        "height": 600,
        "legend": {
         "font": {
          "size": 14
         },
         "title": {},
         "x": 0.8,
         "y": 1
        },
        "template": {
         "data": {
          "bar": [
           {
            "error_x": {
             "color": "#2a3f5f"
            },
            "error_y": {
             "color": "#2a3f5f"
            },
            "marker": {
             "line": {
              "color": "#E5ECF6",
              "width": 0.5
             },
             "pattern": {
              "fillmode": "overlay",
              "size": 10,
              "solidity": 0.2
             }
            },
            "type": "bar"
           }
          ],
          "barpolar": [
           {
            "marker": {
             "line": {
              "color": "#E5ECF6",
              "width": 0.5
             },
             "pattern": {
              "fillmode": "overlay",
              "size": 10,
              "solidity": 0.2
             }
            },
            "type": "barpolar"
           }
          ],
          "carpet": [
           {
            "aaxis": {
             "endlinecolor": "#2a3f5f",
             "gridcolor": "white",
             "linecolor": "white",
             "minorgridcolor": "white",
             "startlinecolor": "#2a3f5f"
            },
            "baxis": {
             "endlinecolor": "#2a3f5f",
             "gridcolor": "white",
             "linecolor": "white",
             "minorgridcolor": "white",
             "startlinecolor": "#2a3f5f"
            },
            "type": "carpet"
           }
          ],
          "choropleth": [
           {
            "colorbar": {
             "outlinewidth": 0,
             "ticks": ""
            },
            "type": "choropleth"
           }
          ],
          "contour": [
           {
            "colorbar": {
             "outlinewidth": 0,
             "ticks": ""
            },
            "colorscale": [
             [
              0,
              "#0d0887"
             ],
             [
              0.1111111111111111,
              "#46039f"
             ],
             [
              0.2222222222222222,
              "#7201a8"
             ],
             [
              0.3333333333333333,
              "#9c179e"
             ],
             [
              0.4444444444444444,
              "#bd3786"
             ],
             [
              0.5555555555555556,
              "#d8576b"
             ],
             [
              0.6666666666666666,
              "#ed7953"
             ],
             [
              0.7777777777777778,
              "#fb9f3a"
             ],
             [
              0.8888888888888888,
              "#fdca26"
             ],
             [
              1,
              "#f0f921"
             ]
            ],
            "type": "contour"
           }
          ],
          "contourcarpet": [
           {
            "colorbar": {
             "outlinewidth": 0,
             "ticks": ""
            },
            "type": "contourcarpet"
           }
          ],
          "heatmap": [
           {
            "colorbar": {
             "outlinewidth": 0,
             "ticks": ""
            },
            "colorscale": [
             [
              0,
              "#0d0887"
             ],
             [
              0.1111111111111111,
              "#46039f"
             ],
             [
              0.2222222222222222,
              "#7201a8"
             ],
             [
              0.3333333333333333,
              "#9c179e"
             ],
             [
              0.4444444444444444,
              "#bd3786"
             ],
             [
              0.5555555555555556,
              "#d8576b"
             ],
             [
              0.6666666666666666,
              "#ed7953"
             ],
             [
              0.7777777777777778,
              "#fb9f3a"
             ],
             [
              0.8888888888888888,
              "#fdca26"
             ],
             [
              1,
              "#f0f921"
             ]
            ],
            "type": "heatmap"
           }
          ],
          "heatmapgl": [
           {
            "colorbar": {
             "outlinewidth": 0,
             "ticks": ""
            },
            "colorscale": [
             [
              0,
              "#0d0887"
             ],
             [
              0.1111111111111111,
              "#46039f"
             ],
             [
              0.2222222222222222,
              "#7201a8"
             ],
             [
              0.3333333333333333,
              "#9c179e"
             ],
             [
              0.4444444444444444,
              "#bd3786"
             ],
             [
              0.5555555555555556,
              "#d8576b"
             ],
             [
              0.6666666666666666,
              "#ed7953"
             ],
             [
              0.7777777777777778,
              "#fb9f3a"
             ],
             [
              0.8888888888888888,
              "#fdca26"
             ],
             [
              1,
              "#f0f921"
             ]
            ],
            "type": "heatmapgl"
           }
          ],
          "histogram": [
           {
            "marker": {
             "pattern": {
              "fillmode": "overlay",
              "size": 10,
              "solidity": 0.2
             }
            },
            "type": "histogram"
           }
          ],
          "histogram2d": [
           {
            "colorbar": {
             "outlinewidth": 0,
             "ticks": ""
            },
            "colorscale": [
             [
              0,
              "#0d0887"
             ],
             [
              0.1111111111111111,
              "#46039f"
             ],
             [
              0.2222222222222222,
              "#7201a8"
             ],
             [
              0.3333333333333333,
              "#9c179e"
             ],
             [
              0.4444444444444444,
              "#bd3786"
             ],
             [
              0.5555555555555556,
              "#d8576b"
             ],
             [
              0.6666666666666666,
              "#ed7953"
             ],
             [
              0.7777777777777778,
              "#fb9f3a"
             ],
             [
              0.8888888888888888,
              "#fdca26"
             ],
             [
              1,
              "#f0f921"
             ]
            ],
            "type": "histogram2d"
           }
          ],
          "histogram2dcontour": [
           {
            "colorbar": {
             "outlinewidth": 0,
             "ticks": ""
            },
            "colorscale": [
             [
              0,
              "#0d0887"
             ],
             [
              0.1111111111111111,
              "#46039f"
             ],
             [
              0.2222222222222222,
              "#7201a8"
             ],
             [
              0.3333333333333333,
              "#9c179e"
             ],
             [
              0.4444444444444444,
              "#bd3786"
             ],
             [
              0.5555555555555556,
              "#d8576b"
             ],
             [
              0.6666666666666666,
              "#ed7953"
             ],
             [
              0.7777777777777778,
              "#fb9f3a"
             ],
             [
              0.8888888888888888,
              "#fdca26"
             ],
             [
              1,
              "#f0f921"
             ]
            ],
            "type": "histogram2dcontour"
           }
          ],
          "mesh3d": [
           {
            "colorbar": {
             "outlinewidth": 0,
             "ticks": ""
            },
            "type": "mesh3d"
           }
          ],
          "parcoords": [
           {
            "line": {
             "colorbar": {
              "outlinewidth": 0,
              "ticks": ""
             }
            },
            "type": "parcoords"
           }
          ],
          "pie": [
           {
            "automargin": true,
            "type": "pie"
           }
          ],
          "scatter": [
           {
            "fillpattern": {
             "fillmode": "overlay",
             "size": 10,
             "solidity": 0.2
            },
            "type": "scatter"
           }
          ],
          "scatter3d": [
           {
            "line": {
             "colorbar": {
              "outlinewidth": 0,
              "ticks": ""
             }
            },
            "marker": {
             "colorbar": {
              "outlinewidth": 0,
              "ticks": ""
             }
            },
            "type": "scatter3d"
           }
          ],
          "scattercarpet": [
           {
            "marker": {
             "colorbar": {
              "outlinewidth": 0,
              "ticks": ""
             }
            },
            "type": "scattercarpet"
           }
          ],
          "scattergeo": [
           {
            "marker": {
             "colorbar": {
              "outlinewidth": 0,
              "ticks": ""
             }
            },
            "type": "scattergeo"
           }
          ],
          "scattergl": [
           {
            "marker": {
             "colorbar": {
              "outlinewidth": 0,
              "ticks": ""
             }
            },
            "type": "scattergl"
           }
          ],
          "scattermapbox": [
           {
            "marker": {
             "colorbar": {
              "outlinewidth": 0,
              "ticks": ""
             }
            },
            "type": "scattermapbox"
           }
          ],
          "scatterpolar": [
           {
            "marker": {
             "colorbar": {
              "outlinewidth": 0,
              "ticks": ""
             }
            },
            "type": "scatterpolar"
           }
          ],
          "scatterpolargl": [
           {
            "marker": {
             "colorbar": {
              "outlinewidth": 0,
              "ticks": ""
             }
            },
            "type": "scatterpolargl"
           }
          ],
          "scatterternary": [
           {
            "marker": {
             "colorbar": {
              "outlinewidth": 0,
              "ticks": ""
             }
            },
            "type": "scatterternary"
           }
          ],
          "surface": [
           {
            "colorbar": {
             "outlinewidth": 0,
             "ticks": ""
            },
            "colorscale": [
             [
              0,
              "#0d0887"
             ],
             [
              0.1111111111111111,
              "#46039f"
             ],
             [
              0.2222222222222222,
              "#7201a8"
             ],
             [
              0.3333333333333333,
              "#9c179e"
             ],
             [
              0.4444444444444444,
              "#bd3786"
             ],
             [
              0.5555555555555556,
              "#d8576b"
             ],
             [
              0.6666666666666666,
              "#ed7953"
             ],
             [
              0.7777777777777778,
              "#fb9f3a"
             ],
             [
              0.8888888888888888,
              "#fdca26"
             ],
             [
              1,
              "#f0f921"
             ]
            ],
            "type": "surface"
           }
          ],
          "table": [
           {
            "cells": {
             "fill": {
              "color": "#EBF0F8"
             },
             "line": {
              "color": "white"
             }
            },
            "header": {
             "fill": {
              "color": "#C8D4E3"
             },
             "line": {
              "color": "white"
             }
            },
            "type": "table"
           }
          ]
         },
         "layout": {
          "annotationdefaults": {
           "arrowcolor": "#2a3f5f",
           "arrowhead": 0,
           "arrowwidth": 1
          },
          "autotypenumbers": "strict",
          "coloraxis": {
           "colorbar": {
            "outlinewidth": 0,
            "ticks": ""
           }
          },
          "colorscale": {
           "diverging": [
            [
             0,
             "#8e0152"
            ],
            [
             0.1,
             "#c51b7d"
            ],
            [
             0.2,
             "#de77ae"
            ],
            [
             0.3,
             "#f1b6da"
            ],
            [
             0.4,
             "#fde0ef"
            ],
            [
             0.5,
             "#f7f7f7"
            ],
            [
             0.6,
             "#e6f5d0"
            ],
            [
             0.7,
             "#b8e186"
            ],
            [
             0.8,
             "#7fbc41"
            ],
            [
             0.9,
             "#4d9221"
            ],
            [
             1,
             "#276419"
            ]
           ],
           "sequential": [
            [
             0,
             "#0d0887"
            ],
            [
             0.1111111111111111,
             "#46039f"
            ],
            [
             0.2222222222222222,
             "#7201a8"
            ],
            [
             0.3333333333333333,
             "#9c179e"
            ],
            [
             0.4444444444444444,
             "#bd3786"
            ],
            [
             0.5555555555555556,
             "#d8576b"
            ],
            [
             0.6666666666666666,
             "#ed7953"
            ],
            [
             0.7777777777777778,
             "#fb9f3a"
            ],
            [
             0.8888888888888888,
             "#fdca26"
            ],
            [
             1,
             "#f0f921"
            ]
           ],
           "sequentialminus": [
            [
             0,
             "#0d0887"
            ],
            [
             0.1111111111111111,
             "#46039f"
            ],
            [
             0.2222222222222222,
             "#7201a8"
            ],
            [
             0.3333333333333333,
             "#9c179e"
            ],
            [
             0.4444444444444444,
             "#bd3786"
            ],
            [
             0.5555555555555556,
             "#d8576b"
            ],
            [
             0.6666666666666666,
             "#ed7953"
            ],
            [
             0.7777777777777778,
             "#fb9f3a"
            ],
            [
             0.8888888888888888,
             "#fdca26"
            ],
            [
             1,
             "#f0f921"
            ]
           ]
          },
          "colorway": [
           "#636efa",
           "#EF553B",
           "#00cc96",
           "#ab63fa",
           "#FFA15A",
           "#19d3f3",
           "#FF6692",
           "#B6E880",
           "#FF97FF",
           "#FECB52"
          ],
          "font": {
           "color": "#2a3f5f"
          },
          "geo": {
           "bgcolor": "white",
           "lakecolor": "white",
           "landcolor": "#E5ECF6",
           "showlakes": true,
           "showland": true,
           "subunitcolor": "white"
          },
          "hoverlabel": {
           "align": "left"
          },
          "hovermode": "closest",
          "mapbox": {
           "style": "light"
          },
          "paper_bgcolor": "white",
          "plot_bgcolor": "#E5ECF6",
          "polar": {
           "angularaxis": {
            "gridcolor": "white",
            "linecolor": "white",
            "ticks": ""
           },
           "bgcolor": "#E5ECF6",
           "radialaxis": {
            "gridcolor": "white",
            "linecolor": "white",
            "ticks": ""
           }
          },
          "scene": {
           "xaxis": {
            "backgroundcolor": "#E5ECF6",
            "gridcolor": "white",
            "gridwidth": 2,
            "linecolor": "white",
            "showbackground": true,
            "ticks": "",
            "zerolinecolor": "white"
           },
           "yaxis": {
            "backgroundcolor": "#E5ECF6",
            "gridcolor": "white",
            "gridwidth": 2,
            "linecolor": "white",
            "showbackground": true,
            "ticks": "",
            "zerolinecolor": "white"
           },
           "zaxis": {
            "backgroundcolor": "#E5ECF6",
            "gridcolor": "white",
            "gridwidth": 2,
            "linecolor": "white",
            "showbackground": true,
            "ticks": "",
            "zerolinecolor": "white"
           }
          },
          "shapedefaults": {
           "line": {
            "color": "#2a3f5f"
           }
          },
          "ternary": {
           "aaxis": {
            "gridcolor": "white",
            "linecolor": "white",
            "ticks": ""
           },
           "baxis": {
            "gridcolor": "white",
            "linecolor": "white",
            "ticks": ""
           },
           "bgcolor": "#E5ECF6",
           "caxis": {
            "gridcolor": "white",
            "linecolor": "white",
            "ticks": ""
           }
          },
          "title": {
           "x": 0.05
          },
          "xaxis": {
           "automargin": true,
           "gridcolor": "white",
           "linecolor": "white",
           "ticks": "",
           "title": {
            "standoff": 15
           },
           "zerolinecolor": "white",
           "zerolinewidth": 2
          },
          "yaxis": {
           "automargin": true,
           "gridcolor": "white",
           "linecolor": "white",
           "ticks": "",
           "title": {
            "standoff": 15
           },
           "zerolinecolor": "white",
           "zerolinewidth": 2
          }
         }
        },
        "title": {
         "text": "Model Loss"
        },
        "width": 800,
        "xaxis": {
         "tickfont": {
          "size": 16
         },
         "tickmode": "linear",
         "title": {
          "font": {
           "size": 18
          },
          "text": "Epoch"
         }
        },
        "yaxis": {
         "showexponent": "none",
         "tickfont": {
          "size": 16
         },
         "title": {
          "font": {
           "size": 18
          },
          "text": "Loss"
         },
         "type": "log"
        }
       }
      },
      "text/html": [
       "<div>                            <div id=\"af21cbb2-27a3-41f6-b1bb-49d5230d261c\" class=\"plotly-graph-div\" style=\"height:600px; width:800px;\"></div>            <script type=\"text/javascript\">                require([\"plotly\"], function(Plotly) {                    window.PLOTLYENV=window.PLOTLYENV || {};                                    if (document.getElementById(\"af21cbb2-27a3-41f6-b1bb-49d5230d261c\")) {                    Plotly.newPlot(                        \"af21cbb2-27a3-41f6-b1bb-49d5230d261c\",                        [{\"line\":{\"color\":\"blue\"},\"marker\":{\"size\":8},\"mode\":\"lines+markers\",\"name\":\"Train Loss\",\"x\":[1,2,3,4,5,6,7,8,9,10,11,12,13,14,15,16,17,18,19,20,21,22,23,24,25,26,27,28,29,30,31,32,33,34,35,36,37,38,39,40,41,42,43,44,45,46,47,48,49,50,51,52,53,54,55,56,57,58,59,60,61,62,63,64,65,66,67,68,69,70,71,72,73,74,75,76,77,78,79,80],\"y\":[0.4521400034427643,0.3775351941585541,0.34899741411209106,0.32939884066581726,0.3147145211696625,0.2999320328235626,0.28756874799728394,0.2772088646888733,0.2696378231048584,0.26275354623794556,0.2566740810871124,0.2511707842350006,0.24641412496566772,0.24303606152534485,0.23930104076862335,0.23542480170726776,0.232016459107399,0.2291364073753357,0.22638069093227386,0.2233332395553589,0.22025273740291595,0.21838746964931488,0.21712416410446167,0.21487779915332794,0.2128143310546875,0.21045668423175812,0.2094878852367401,0.2072310745716095,0.2053079456090927,0.2046436220407486,0.20322468876838684,0.20098479092121124,0.20009984076023102,0.19863462448120117,0.19683058559894562,0.19582441449165344,0.19466857612133026,0.19428542256355286,0.1926826387643814,0.19177553057670593,0.1906096637248993,0.1896812468767166,0.18794937431812286,0.18769505620002747,0.18711797893047333,0.18644848465919495,0.18480829894542694,0.18383827805519104,0.18304595351219177,0.18237614631652832,0.1814732849597931,0.1806659698486328,0.1795530766248703,0.1786939799785614,0.1782294362783432,0.17806579172611237,0.17713899910449982,0.17665956914424896,0.17531168460845947,0.17551614344120026,0.17463035881519318,0.17361733317375183,0.1730256974697113,0.17326730489730835,0.17191927134990692,0.17077890038490295,0.17045395076274872,0.1703144758939743,0.16984409093856812,0.16920438408851624,0.1685880869626999,0.16814492642879486,0.16745689511299133,0.16694241762161255,0.16651809215545654,0.16613152623176575,0.16614946722984314,0.165215402841568,0.1653367131948471,0.16434647142887115],\"type\":\"scatter\"},{\"line\":{\"color\":\"red\"},\"marker\":{\"size\":8},\"mode\":\"lines+markers\",\"name\":\"Validation Loss\",\"x\":[1,2,3,4,5,6,7,8,9,10,11,12,13,14,15,16,17,18,19,20,21,22,23,24,25,26,27,28,29,30,31,32,33,34,35,36,37,38,39,40,41,42,43,44,45,46,47,48,49,50,51,52,53,54,55,56,57,58,59,60,61,62,63,64,65,66,67,68,69,70,71,72,73,74,75,76,77,78,79,80],\"y\":[0.49090319871902466,0.431389719247818,0.37792131304740906,0.37839505076408386,0.3488079607486725,0.3202153742313385,0.30651184916496277,0.3021073639392853,0.28905561566352844,0.30066314339637756,0.2784098982810974,0.2708215117454529,0.28095704317092896,0.2508881390094757,0.25818291306495667,0.24755026400089264,0.24074168503284454,0.232032909989357,0.24867933988571167,0.23962914943695068,0.23960989713668823,0.22681215405464172,0.22404570877552032,0.22417299449443817,0.2242068648338318,0.22022955119609833,0.21640272438526154,0.21964305639266968,0.2225351184606552,0.210209459066391,0.21113154292106628,0.22131548821926117,0.20393624901771545,0.20245914161205292,0.2071620523929596,0.20944391191005707,0.1994461864233017,0.19775153696537018,0.21784503757953644,0.19735829532146454,0.19490912556648254,0.19537073373794556,0.20008522272109985,0.1954253613948822,0.19314846396446228,0.18883605301380157,0.18762867152690887,0.19218701124191284,0.18930381536483765,0.1904146373271942,0.1858799308538437,0.1830907166004181,0.18530350923538208,0.17713157832622528,0.18094025552272797,0.1888069361448288,0.17742694914340973,0.18523161113262177,0.1770944744348526,0.1759871393442154,0.17606031894683838,0.18134050071239471,0.17938199639320374,0.17892618477344513,0.1722969263792038,0.1695718616247177,0.16796599328517914,0.17050322890281677,0.1704377979040146,0.16705948114395142,0.16894951462745667,0.1676342785358429,0.17023342847824097,0.16834160685539246,0.16347357630729675,0.16424573957920074,0.16529113054275513,0.16308344900608063,0.16669873893260956,0.17253649234771729],\"type\":\"scatter\"}],                        {\"template\":{\"data\":{\"histogram2dcontour\":[{\"type\":\"histogram2dcontour\",\"colorbar\":{\"outlinewidth\":0,\"ticks\":\"\"},\"colorscale\":[[0.0,\"#0d0887\"],[0.1111111111111111,\"#46039f\"],[0.2222222222222222,\"#7201a8\"],[0.3333333333333333,\"#9c179e\"],[0.4444444444444444,\"#bd3786\"],[0.5555555555555556,\"#d8576b\"],[0.6666666666666666,\"#ed7953\"],[0.7777777777777778,\"#fb9f3a\"],[0.8888888888888888,\"#fdca26\"],[1.0,\"#f0f921\"]]}],\"choropleth\":[{\"type\":\"choropleth\",\"colorbar\":{\"outlinewidth\":0,\"ticks\":\"\"}}],\"histogram2d\":[{\"type\":\"histogram2d\",\"colorbar\":{\"outlinewidth\":0,\"ticks\":\"\"},\"colorscale\":[[0.0,\"#0d0887\"],[0.1111111111111111,\"#46039f\"],[0.2222222222222222,\"#7201a8\"],[0.3333333333333333,\"#9c179e\"],[0.4444444444444444,\"#bd3786\"],[0.5555555555555556,\"#d8576b\"],[0.6666666666666666,\"#ed7953\"],[0.7777777777777778,\"#fb9f3a\"],[0.8888888888888888,\"#fdca26\"],[1.0,\"#f0f921\"]]}],\"heatmap\":[{\"type\":\"heatmap\",\"colorbar\":{\"outlinewidth\":0,\"ticks\":\"\"},\"colorscale\":[[0.0,\"#0d0887\"],[0.1111111111111111,\"#46039f\"],[0.2222222222222222,\"#7201a8\"],[0.3333333333333333,\"#9c179e\"],[0.4444444444444444,\"#bd3786\"],[0.5555555555555556,\"#d8576b\"],[0.6666666666666666,\"#ed7953\"],[0.7777777777777778,\"#fb9f3a\"],[0.8888888888888888,\"#fdca26\"],[1.0,\"#f0f921\"]]}],\"heatmapgl\":[{\"type\":\"heatmapgl\",\"colorbar\":{\"outlinewidth\":0,\"ticks\":\"\"},\"colorscale\":[[0.0,\"#0d0887\"],[0.1111111111111111,\"#46039f\"],[0.2222222222222222,\"#7201a8\"],[0.3333333333333333,\"#9c179e\"],[0.4444444444444444,\"#bd3786\"],[0.5555555555555556,\"#d8576b\"],[0.6666666666666666,\"#ed7953\"],[0.7777777777777778,\"#fb9f3a\"],[0.8888888888888888,\"#fdca26\"],[1.0,\"#f0f921\"]]}],\"contourcarpet\":[{\"type\":\"contourcarpet\",\"colorbar\":{\"outlinewidth\":0,\"ticks\":\"\"}}],\"contour\":[{\"type\":\"contour\",\"colorbar\":{\"outlinewidth\":0,\"ticks\":\"\"},\"colorscale\":[[0.0,\"#0d0887\"],[0.1111111111111111,\"#46039f\"],[0.2222222222222222,\"#7201a8\"],[0.3333333333333333,\"#9c179e\"],[0.4444444444444444,\"#bd3786\"],[0.5555555555555556,\"#d8576b\"],[0.6666666666666666,\"#ed7953\"],[0.7777777777777778,\"#fb9f3a\"],[0.8888888888888888,\"#fdca26\"],[1.0,\"#f0f921\"]]}],\"surface\":[{\"type\":\"surface\",\"colorbar\":{\"outlinewidth\":0,\"ticks\":\"\"},\"colorscale\":[[0.0,\"#0d0887\"],[0.1111111111111111,\"#46039f\"],[0.2222222222222222,\"#7201a8\"],[0.3333333333333333,\"#9c179e\"],[0.4444444444444444,\"#bd3786\"],[0.5555555555555556,\"#d8576b\"],[0.6666666666666666,\"#ed7953\"],[0.7777777777777778,\"#fb9f3a\"],[0.8888888888888888,\"#fdca26\"],[1.0,\"#f0f921\"]]}],\"mesh3d\":[{\"type\":\"mesh3d\",\"colorbar\":{\"outlinewidth\":0,\"ticks\":\"\"}}],\"scatter\":[{\"fillpattern\":{\"fillmode\":\"overlay\",\"size\":10,\"solidity\":0.2},\"type\":\"scatter\"}],\"parcoords\":[{\"type\":\"parcoords\",\"line\":{\"colorbar\":{\"outlinewidth\":0,\"ticks\":\"\"}}}],\"scatterpolargl\":[{\"type\":\"scatterpolargl\",\"marker\":{\"colorbar\":{\"outlinewidth\":0,\"ticks\":\"\"}}}],\"bar\":[{\"error_x\":{\"color\":\"#2a3f5f\"},\"error_y\":{\"color\":\"#2a3f5f\"},\"marker\":{\"line\":{\"color\":\"#E5ECF6\",\"width\":0.5},\"pattern\":{\"fillmode\":\"overlay\",\"size\":10,\"solidity\":0.2}},\"type\":\"bar\"}],\"scattergeo\":[{\"type\":\"scattergeo\",\"marker\":{\"colorbar\":{\"outlinewidth\":0,\"ticks\":\"\"}}}],\"scatterpolar\":[{\"type\":\"scatterpolar\",\"marker\":{\"colorbar\":{\"outlinewidth\":0,\"ticks\":\"\"}}}],\"histogram\":[{\"marker\":{\"pattern\":{\"fillmode\":\"overlay\",\"size\":10,\"solidity\":0.2}},\"type\":\"histogram\"}],\"scattergl\":[{\"type\":\"scattergl\",\"marker\":{\"colorbar\":{\"outlinewidth\":0,\"ticks\":\"\"}}}],\"scatter3d\":[{\"type\":\"scatter3d\",\"line\":{\"colorbar\":{\"outlinewidth\":0,\"ticks\":\"\"}},\"marker\":{\"colorbar\":{\"outlinewidth\":0,\"ticks\":\"\"}}}],\"scattermapbox\":[{\"type\":\"scattermapbox\",\"marker\":{\"colorbar\":{\"outlinewidth\":0,\"ticks\":\"\"}}}],\"scatterternary\":[{\"type\":\"scatterternary\",\"marker\":{\"colorbar\":{\"outlinewidth\":0,\"ticks\":\"\"}}}],\"scattercarpet\":[{\"type\":\"scattercarpet\",\"marker\":{\"colorbar\":{\"outlinewidth\":0,\"ticks\":\"\"}}}],\"carpet\":[{\"aaxis\":{\"endlinecolor\":\"#2a3f5f\",\"gridcolor\":\"white\",\"linecolor\":\"white\",\"minorgridcolor\":\"white\",\"startlinecolor\":\"#2a3f5f\"},\"baxis\":{\"endlinecolor\":\"#2a3f5f\",\"gridcolor\":\"white\",\"linecolor\":\"white\",\"minorgridcolor\":\"white\",\"startlinecolor\":\"#2a3f5f\"},\"type\":\"carpet\"}],\"table\":[{\"cells\":{\"fill\":{\"color\":\"#EBF0F8\"},\"line\":{\"color\":\"white\"}},\"header\":{\"fill\":{\"color\":\"#C8D4E3\"},\"line\":{\"color\":\"white\"}},\"type\":\"table\"}],\"barpolar\":[{\"marker\":{\"line\":{\"color\":\"#E5ECF6\",\"width\":0.5},\"pattern\":{\"fillmode\":\"overlay\",\"size\":10,\"solidity\":0.2}},\"type\":\"barpolar\"}],\"pie\":[{\"automargin\":true,\"type\":\"pie\"}]},\"layout\":{\"autotypenumbers\":\"strict\",\"colorway\":[\"#636efa\",\"#EF553B\",\"#00cc96\",\"#ab63fa\",\"#FFA15A\",\"#19d3f3\",\"#FF6692\",\"#B6E880\",\"#FF97FF\",\"#FECB52\"],\"font\":{\"color\":\"#2a3f5f\"},\"hovermode\":\"closest\",\"hoverlabel\":{\"align\":\"left\"},\"paper_bgcolor\":\"white\",\"plot_bgcolor\":\"#E5ECF6\",\"polar\":{\"bgcolor\":\"#E5ECF6\",\"angularaxis\":{\"gridcolor\":\"white\",\"linecolor\":\"white\",\"ticks\":\"\"},\"radialaxis\":{\"gridcolor\":\"white\",\"linecolor\":\"white\",\"ticks\":\"\"}},\"ternary\":{\"bgcolor\":\"#E5ECF6\",\"aaxis\":{\"gridcolor\":\"white\",\"linecolor\":\"white\",\"ticks\":\"\"},\"baxis\":{\"gridcolor\":\"white\",\"linecolor\":\"white\",\"ticks\":\"\"},\"caxis\":{\"gridcolor\":\"white\",\"linecolor\":\"white\",\"ticks\":\"\"}},\"coloraxis\":{\"colorbar\":{\"outlinewidth\":0,\"ticks\":\"\"}},\"colorscale\":{\"sequential\":[[0.0,\"#0d0887\"],[0.1111111111111111,\"#46039f\"],[0.2222222222222222,\"#7201a8\"],[0.3333333333333333,\"#9c179e\"],[0.4444444444444444,\"#bd3786\"],[0.5555555555555556,\"#d8576b\"],[0.6666666666666666,\"#ed7953\"],[0.7777777777777778,\"#fb9f3a\"],[0.8888888888888888,\"#fdca26\"],[1.0,\"#f0f921\"]],\"sequentialminus\":[[0.0,\"#0d0887\"],[0.1111111111111111,\"#46039f\"],[0.2222222222222222,\"#7201a8\"],[0.3333333333333333,\"#9c179e\"],[0.4444444444444444,\"#bd3786\"],[0.5555555555555556,\"#d8576b\"],[0.6666666666666666,\"#ed7953\"],[0.7777777777777778,\"#fb9f3a\"],[0.8888888888888888,\"#fdca26\"],[1.0,\"#f0f921\"]],\"diverging\":[[0,\"#8e0152\"],[0.1,\"#c51b7d\"],[0.2,\"#de77ae\"],[0.3,\"#f1b6da\"],[0.4,\"#fde0ef\"],[0.5,\"#f7f7f7\"],[0.6,\"#e6f5d0\"],[0.7,\"#b8e186\"],[0.8,\"#7fbc41\"],[0.9,\"#4d9221\"],[1,\"#276419\"]]},\"xaxis\":{\"gridcolor\":\"white\",\"linecolor\":\"white\",\"ticks\":\"\",\"title\":{\"standoff\":15},\"zerolinecolor\":\"white\",\"automargin\":true,\"zerolinewidth\":2},\"yaxis\":{\"gridcolor\":\"white\",\"linecolor\":\"white\",\"ticks\":\"\",\"title\":{\"standoff\":15},\"zerolinecolor\":\"white\",\"automargin\":true,\"zerolinewidth\":2},\"scene\":{\"xaxis\":{\"backgroundcolor\":\"#E5ECF6\",\"gridcolor\":\"white\",\"linecolor\":\"white\",\"showbackground\":true,\"ticks\":\"\",\"zerolinecolor\":\"white\",\"gridwidth\":2},\"yaxis\":{\"backgroundcolor\":\"#E5ECF6\",\"gridcolor\":\"white\",\"linecolor\":\"white\",\"showbackground\":true,\"ticks\":\"\",\"zerolinecolor\":\"white\",\"gridwidth\":2},\"zaxis\":{\"backgroundcolor\":\"#E5ECF6\",\"gridcolor\":\"white\",\"linecolor\":\"white\",\"showbackground\":true,\"ticks\":\"\",\"zerolinecolor\":\"white\",\"gridwidth\":2}},\"shapedefaults\":{\"line\":{\"color\":\"#2a3f5f\"}},\"annotationdefaults\":{\"arrowcolor\":\"#2a3f5f\",\"arrowhead\":0,\"arrowwidth\":1},\"geo\":{\"bgcolor\":\"white\",\"landcolor\":\"#E5ECF6\",\"subunitcolor\":\"white\",\"showland\":true,\"showlakes\":true,\"lakecolor\":\"white\"},\"title\":{\"x\":0.05},\"mapbox\":{\"style\":\"light\"}}},\"xaxis\":{\"tickfont\":{\"size\":16},\"title\":{\"text\":\"Epoch\",\"font\":{\"size\":18}},\"tickmode\":\"linear\"},\"yaxis\":{\"tickfont\":{\"size\":16},\"title\":{\"text\":\"Loss\",\"font\":{\"size\":18}},\"type\":\"log\",\"showexponent\":\"none\"},\"font\":{\"family\":\"Times New Roman\",\"size\":20},\"legend\":{\"font\":{\"size\":14},\"title\":{},\"x\":0.8,\"y\":1.0},\"title\":{\"text\":\"Model Loss\"},\"width\":800,\"height\":600},                        {\"responsive\": true}                    ).then(function(){\n",
       "                            \n",
       "var gd = document.getElementById('af21cbb2-27a3-41f6-b1bb-49d5230d261c');\n",
       "var x = new MutationObserver(function (mutations, observer) {{\n",
       "        var display = window.getComputedStyle(gd).display;\n",
       "        if (!display || display === 'none') {{\n",
       "            console.log([gd, 'removed!']);\n",
       "            Plotly.purge(gd);\n",
       "            observer.disconnect();\n",
       "        }}\n",
       "}});\n",
       "\n",
       "// Listen for the removal of the full notebook cells\n",
       "var notebookContainer = gd.closest('#notebook-container');\n",
       "if (notebookContainer) {{\n",
       "    x.observe(notebookContainer, {childList: true});\n",
       "}}\n",
       "\n",
       "// Listen for the clearing of the current output cell\n",
       "var outputEl = gd.closest('.output');\n",
       "if (outputEl) {{\n",
       "    x.observe(outputEl, {childList: true});\n",
       "}}\n",
       "\n",
       "                        })                };                });            </script>        </div>"
      ]
     },
     "metadata": {},
     "output_type": "display_data"
    }
   ],
   "source": [
    "import plotly.graph_objects as go\n",
    "\n",
    "# 假设 histeddynet 包含损失值数据\n",
    "# 示例数据\n",
    "epochs = list(range(1, len(histeddynet['loss']) + 1))\n",
    "\n",
    "# 创建训练损失的折线图\n",
    "train_loss_trace = go.Scatter(\n",
    "    x=epochs,\n",
    "    y=histeddynet['loss'],\n",
    "    mode='lines+markers',\n",
    "    name='Train Loss',\n",
    "    line=dict(color='blue'),\n",
    "    marker=dict(size=8)\n",
    ")\n",
    "\n",
    "# 创建验证损失的折线图\n",
    "val_loss_trace = go.Scatter(\n",
    "    x=epochs,\n",
    "    y=histeddynet['val_loss'],\n",
    "    mode='lines+markers',\n",
    "    name='Validation Loss',\n",
    "    line=dict(color='red'),\n",
    "    marker=dict(size=8)\n",
    ")\n",
    "\n",
    "# 创建图形对象\n",
    "fig = go.Figure()\n",
    "\n",
    "# 添加数据到图形中\n",
    "fig.add_trace(train_loss_trace)\n",
    "fig.add_trace(val_loss_trace)\n",
    "\n",
    "# 设置图表标题和坐标轴标签\n",
    "fig.update_layout(\n",
    "    title='Model Loss',\n",
    "    xaxis=dict(\n",
    "        title='Epoch',\n",
    "        tickmode='linear',\n",
    "        tickfont=dict(size=16),\n",
    "        titlefont=dict(size=18)\n",
    "    ),\n",
    "    yaxis=dict(\n",
    "        title='Loss',\n",
    "        type='log',  # 设置 y 轴为对数刻度\n",
    "        tickfont=dict(size=16),\n",
    "        titlefont=dict(size=18),\n",
    "        showexponent='none'  # 取消科学计数法显示\n",
    "    ),\n",
    "    font=dict(\n",
    "        family='Times New Roman',\n",
    "        size=20\n",
    "    ),\n",
    "    legend=dict(\n",
    "        title=None,\n",
    "        font=dict(size=14),\n",
    "        x=0.8,\n",
    "        y=1.0\n",
    "    ),\n",
    "    width=800,\n",
    "    height=600\n",
    ")\n",
    "\n",
    "# 显示图表\n",
    "fig.show()"
   ]
  },
  {
   "cell_type": "code",
   "execution_count": 16,
   "id": "416be275",
   "metadata": {
    "ExecuteTime": {
     "end_time": "2024-12-23T06:19:21.113027Z",
     "start_time": "2024-12-23T06:19:10.488454Z"
    }
   },
   "outputs": [
    {
     "name": "stdout",
     "output_type": "stream",
     "text": [
      "12/12 [==============================] - 3s 198ms/step\n",
      "Confusion Matrix:\n",
      "[[2082429   36478   59755]\n",
      " [  25220  155203       3]\n",
      " [  21053       0  189459]]\n",
      "Classification Report:\n",
      "                   precision    recall  f1-score   support\n",
      "\n",
      "          No Eddy       0.98      0.96      0.97   2178662\n",
      "    Cyclonic Eddy       0.81      0.86      0.83    180426\n",
      "Anticyclonic Eddy       0.76      0.90      0.82    210512\n",
      "\n",
      "         accuracy                           0.94   2569600\n",
      "        macro avg       0.85      0.91      0.88   2569600\n",
      "     weighted avg       0.95      0.94      0.95   2569600\n",
      "\n"
     ]
    }
   ],
   "source": [
    "import numpy as np\n",
    "from sklearn.metrics import confusion_matrix, classification_report\n",
    "\n",
    "# 预测结果\n",
    "predictions = eddynet.predict(SSH_test)\n",
    "predictions = np.argmax(predictions, axis=-1).reshape(-1)\n",
    "\n",
    "# 真实标签\n",
    "true_labels = np.argmax(Seg_test_categor, axis=-1).reshape(-1)\n",
    "\n",
    "# 计算混淆矩阵\n",
    "cm = confusion_matrix(true_labels, predictions)\n",
    "\n",
    "# 打印混淆矩阵\n",
    "print(\"Confusion Matrix:\")\n",
    "print(cm)\n",
    "\n",
    "# 计算分类报告\n",
    "report = classification_report(true_labels, predictions, target_names=['No Eddy', 'Cyclonic Eddy', 'Anticyclonic Eddy'])\n",
    "print(\"Classification Report:\")\n",
    "print(report)"
   ]
  },
  {
   "cell_type": "code",
   "execution_count": 34,
   "id": "8ec5dea4",
   "metadata": {
    "ExecuteTime": {
     "end_time": "2024-12-23T08:01:23.019009Z",
     "start_time": "2024-12-23T08:01:21.486937Z"
    }
   },
   "outputs": [
    {
     "name": "stdout",
     "output_type": "stream",
     "text": [
      "1/1 [==============================] - 0s 40ms/step\n"
     ]
    },
    {
     "data": {
      "image/png": "[encoded data removed]",
      "text/plain": [
       "<Figure size 2000x1000 with 6 Axes>"
      ]
     },
     "metadata": {},
     "output_type": "display_data"
    }
   ],
   "source": [
    "randindex=np.random.randint(0,len(SSH_train))\n",
    "predictedSEGM=eddynet.predict(np.reshape(SSH_train[randindex,:,:],(1,height,width,1)))\n",
    "predictedSEGMimage = np.reshape(predictedSEGM.argmax(2),(height,width))\n",
    "\n",
    "plt.figure(figsize=(20, 10))\n",
    "\n",
    "plt.subplot(131)\n",
    "plt.imshow(SSH_train[randindex,:,:,0], cmap='viridis',vmin=-0.345, vmax=0.345)\n",
    "plt.colorbar(extend='both', fraction=0.042, pad=0.04)\n",
    "#plt.clim(-0.25,0.25)\n",
    "plt.axis('off')\n",
    "plt.title('SSH');\n",
    "\n",
    "plt.subplot(132)\n",
    "plt.imshow(predictedSEGMimage, cmap='viridis')\n",
    "plt.colorbar(extend='both', fraction=0.042, pad=0.04)\n",
    "#plt.clim(-0.25,0.25)\n",
    "plt.axis('off')\n",
    "plt.title('PAM-ResNet Segmentation');\n",
    "\n",
    "plt.subplot(133)\n",
    "plt.imshow(Seg_train[randindex,:,:,0], cmap='viridis')\n",
    "plt.colorbar(extend='both', fraction=0.042, pad=0.04)\n",
    "#plt.clim(-0.25,0.25)\n",
    "plt.axis('off')\n",
    "plt.title('ground truth Segmentation');"
   ]
  },
  {
   "cell_type": "code",
   "execution_count": null,
   "id": "ae1f3cc1",
   "metadata": {},
   "outputs": [],
   "source": []
  }
 ],
 "metadata": {
  "kernelspec": {
   "display_name": "Python (dachuang)",
   "language": "python",
   "name": "dachuang"
  },
  "language_info": {
   "codemirror_mode": {
    "name": "ipython",
    "version": 3
   },
   "file_extension": ".py",
   "mimetype": "text/x-python",
   "name": "python",
   "nbconvert_exporter": "python",
   "pygments_lexer": "ipython3",
   "version": "3.8.20"
  }
 },
 "nbformat": 4,
 "nbformat_minor": 5
}
